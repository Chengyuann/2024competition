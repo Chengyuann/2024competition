{
 "cells": [
  {
   "cell_type": "code",
   "execution_count": 1,
   "id": "e4d2d495-b47e-4bec-8421-a11d5b4eadd5",
   "metadata": {},
   "outputs": [
    {
     "name": "stderr",
     "output_type": "stream",
     "text": [
      "ERROR:albumentations.check_version:Error fetching version info\n",
      "Traceback (most recent call last):\n",
      "  File \"/home/macy/miniconda3/envs/mage/lib/python3.9/urllib/request.py\", line 1346, in do_open\n",
      "    h.request(req.get_method(), req.selector, req.data, headers,\n",
      "  File \"/home/macy/miniconda3/envs/mage/lib/python3.9/http/client.py\", line 1285, in request\n",
      "    self._send_request(method, url, body, headers, encode_chunked)\n",
      "  File \"/home/macy/miniconda3/envs/mage/lib/python3.9/http/client.py\", line 1331, in _send_request\n",
      "    self.endheaders(body, encode_chunked=encode_chunked)\n",
      "  File \"/home/macy/miniconda3/envs/mage/lib/python3.9/http/client.py\", line 1280, in endheaders\n",
      "    self._send_output(message_body, encode_chunked=encode_chunked)\n",
      "  File \"/home/macy/miniconda3/envs/mage/lib/python3.9/http/client.py\", line 1040, in _send_output\n",
      "    self.send(msg)\n",
      "  File \"/home/macy/miniconda3/envs/mage/lib/python3.9/http/client.py\", line 980, in send\n",
      "    self.connect()\n",
      "  File \"/home/macy/miniconda3/envs/mage/lib/python3.9/http/client.py\", line 1454, in connect\n",
      "    self.sock = self._context.wrap_socket(self.sock,\n",
      "  File \"/home/macy/miniconda3/envs/mage/lib/python3.9/ssl.py\", line 501, in wrap_socket\n",
      "    return self.sslsocket_class._create(\n",
      "  File \"/home/macy/miniconda3/envs/mage/lib/python3.9/ssl.py\", line 1074, in _create\n",
      "    self.do_handshake()\n",
      "  File \"/home/macy/miniconda3/envs/mage/lib/python3.9/ssl.py\", line 1343, in do_handshake\n",
      "    self._sslobj.do_handshake()\n",
      "socket.timeout: _ssl.c:1116: The handshake operation timed out\n",
      "\n",
      "During handling of the above exception, another exception occurred:\n",
      "\n",
      "Traceback (most recent call last):\n",
      "  File \"/home/macy/miniconda3/envs/mage/lib/python3.9/site-packages/albumentations/check_version.py\", line 29, in fetch_version_info\n",
      "    with opener.open(url, timeout=2) as response:\n",
      "  File \"/home/macy/miniconda3/envs/mage/lib/python3.9/urllib/request.py\", line 517, in open\n",
      "    response = self._open(req, data)\n",
      "  File \"/home/macy/miniconda3/envs/mage/lib/python3.9/urllib/request.py\", line 534, in _open\n",
      "    result = self._call_chain(self.handle_open, protocol, protocol +\n",
      "  File \"/home/macy/miniconda3/envs/mage/lib/python3.9/urllib/request.py\", line 494, in _call_chain\n",
      "    result = func(*args)\n",
      "  File \"/home/macy/miniconda3/envs/mage/lib/python3.9/urllib/request.py\", line 1389, in https_open\n",
      "    return self.do_open(http.client.HTTPSConnection, req,\n",
      "  File \"/home/macy/miniconda3/envs/mage/lib/python3.9/urllib/request.py\", line 1349, in do_open\n",
      "    raise URLError(err)\n",
      "urllib.error.URLError: <urlopen error _ssl.c:1116: The handshake operation timed out>\n"
     ]
    }
   ],
   "source": [
    "import cv2, glob, time\n",
    "import numpy as np\n",
    "import matplotlib.pyplot as plt\n",
    "\n",
    "import torch\n",
    "import torch.nn as nn\n",
    "import torch.nn.functional as F\n",
    "import torch.utils.data as D\n",
    "\n",
    "import torchvision\n",
    "from torchvision import transforms as T\n",
    "\n",
    "import albumentations as A\n",
    "from tqdm import tqdm\n",
    "import matplotlib.pyplot as plt"
   ]
  },
  {
   "cell_type": "code",
   "execution_count": 2,
   "id": "ea2c1413-d738-4a02-8171-7ef355ba73b1",
   "metadata": {},
   "outputs": [],
   "source": [
    "train_img = glob.glob('./train/*_input.jpg')\n",
    "train_mask = glob.glob('./train/*_target.jpg')\n",
    "train_img.sort(); train_mask.sort()"
   ]
  },
  {
   "cell_type": "code",
   "execution_count": 3,
   "id": "41694830-14bb-4bfd-9c3e-c56bfb1e195b",
   "metadata": {},
   "outputs": [
    {
     "data": {
      "text/plain": [
       "5000"
      ]
     },
     "execution_count": 3,
     "metadata": {},
     "output_type": "execute_result"
    }
   ],
   "source": [
    "len(train_img)"
   ]
  },
  {
   "cell_type": "code",
   "execution_count": 4,
   "id": "5ba15c2d-3bcf-4013-abe5-7a3a62669c57",
   "metadata": {},
   "outputs": [
    {
     "data": {
      "text/plain": [
       "(512, 512, 3)"
      ]
     },
     "execution_count": 4,
     "metadata": {},
     "output_type": "execute_result"
    }
   ],
   "source": [
    "cv2.imread(train_mask[0]).shape"
   ]
  },
  {
   "cell_type": "code",
   "execution_count": 5,
   "id": "6d8129ff-df41-4c0a-86ac-0aa04b8c7097",
   "metadata": {},
   "outputs": [
    {
     "data": {
      "text/plain": [
       "(512, 512, 3)"
      ]
     },
     "execution_count": 5,
     "metadata": {},
     "output_type": "execute_result"
    }
   ],
   "source": [
    "cv2.imread(train_img[0]).shape"
   ]
  },
  {
   "cell_type": "code",
   "execution_count": 6,
   "id": "560d8628-aac1-4a1b-b139-02bb51d94496",
   "metadata": {},
   "outputs": [
    {
     "name": "stderr",
     "output_type": "stream",
     "text": [
      "/home/macy/miniconda3/envs/mage/lib/python3.9/site-packages/pydantic/main.py:364: UserWarning: Pydantic serializer warnings:\n",
      "  Expected `Union[float, tuple[float, float]]` but got `list` - serialized value may not be as expected\n",
      "  Expected `Union[float, tuple[float, float]]` but got `list` - serialized value may not be as expected\n",
      "  Expected `Union[float, tuple[float, float]]` but got `list` - serialized value may not be as expected\n",
      "  Expected `Union[float, tuple[float, float]]` but got `list` - serialized value may not be as expected\n",
      "  return self.__pydantic_serializer__.to_python(\n"
     ]
    }
   ],
   "source": [
    "class FoodDataset(D.Dataset):\n",
    "    def __init__(self, images, masks, transform=None):\n",
    "        \"\"\"\n",
    "        初始化数据集。\n",
    "\n",
    "        :param images: 图像文件路径列表\n",
    "        :param masks: 掩码文件路径列表\n",
    "        :param transform: 图像和掩码的变换操作（数据增强）\n",
    "        \"\"\"\n",
    "        self.images = images\n",
    "        self.masks = masks\n",
    "        self.transform = transform\n",
    "        self.as_tensor = T.Compose([\n",
    "            T.ToTensor(),\n",
    "            T.Normalize([0.625, 0.448, 0.688], [0.131, 0.177, 0.101]),\n",
    "        ])\n",
    "        \n",
    "    def __getitem__(self, index):\n",
    "        \"\"\"\n",
    "        获取指定索引的数据。\n",
    "\n",
    "        :param index: 索引值\n",
    "        :return: 图像张量和归一化的掩码张量\n",
    "        \"\"\"\n",
    "        image = cv2.imread(self.images[index])\n",
    "        mask = cv2.imread(self.masks[index])  # 读取为三通道图像\n",
    "\n",
    "        if self.transform:\n",
    "            augmented = self.transform(image=image, mask=mask)\n",
    "            image = augmented['image']\n",
    "            mask = augmented['mask']\n",
    "        \n",
    "        image = self.as_tensor(image)\n",
    "        mask = torch.tensor(mask, dtype=torch.float32).permute(2, 0, 1) / 255.0  # 转换为张量，并保持三通道\n",
    "        \n",
    "        return image, mask\n",
    "\n",
    "    def __len__(self):\n",
    "        \"\"\"\n",
    "        获取数据集的长度。\n",
    "\n",
    "        :return: 数据集大小\n",
    "        \"\"\"\n",
    "        return len(self.images)\n",
    "\n",
    "# 定义数据增强和预处理\n",
    "train_transform = A.Compose([\n",
    "    A.Resize(512, 512),\n",
    "    A.HorizontalFlip(p=0.5),\n",
    "    A.VerticalFlip(p=0.5),\n",
    "    A.OneOf([\n",
    "        A.RandomGamma(),\n",
    "        A.ColorJitter(brightness=0.07, contrast=0.07, saturation=0.1, hue=0.1, p=0.3),\n",
    "    ], p=0.3),\n",
    "    A.ShiftScaleRotate(),\n",
    "])\n",
    "\n",
    "val_transform = A.Compose([\n",
    "    A.Resize(512, 512),\n",
    "])\n",
    "\n",
    "# 创建数据集\n",
    "train_ds = FoodDataset(train_img[:-200], train_mask[:-200], transform=train_transform)\n",
    "val_ds = FoodDataset(train_img[-200:], train_mask[-200:], transform=val_transform)"
   ]
  },
  {
   "cell_type": "code",
   "execution_count": 7,
   "id": "3c92daf0-5504-42ed-a29d-82068319d34a",
   "metadata": {},
   "outputs": [
    {
     "data": {
      "text/plain": [
       "torch.Size([3, 512, 512])"
      ]
     },
     "execution_count": 7,
     "metadata": {},
     "output_type": "execute_result"
    }
   ],
   "source": [
    "train_ds[0][1].shape"
   ]
  },
  {
   "cell_type": "code",
   "execution_count": 8,
   "id": "11a89d2c-5734-48d5-a5b7-eb3f2d6f1906",
   "metadata": {},
   "outputs": [],
   "source": [
    "train_loader = D.DataLoader( train_ds, batch_size=4, shuffle=True, num_workers=3)\n",
    "val_loader = D.DataLoader( val_ds, batch_size=4, shuffle=False, num_workers=3)"
   ]
  },
  {
   "cell_type": "markdown",
   "id": "e63b47a2-a86d-424d-a043-2d0b51943020",
   "metadata": {},
   "source": [
    "## Unet"
   ]
  },
  {
   "cell_type": "code",
   "execution_count": 9,
   "id": "766af224-b35a-4d5f-8d8a-9655df17de69",
   "metadata": {},
   "outputs": [],
   "source": [
    "import segmentation_models_pytorch as smp\n",
    "\n",
    "model = smp.Unet(\n",
    "    encoder_name=\"efficientnet-b7\",        # choose encoder, e.g. mobilenet_v2 or efficientnet-b7\n",
    "    encoder_weights=\"imagenet\",     # use `imagenet` pre-trained weights for encoder initialization\n",
    "    in_channels=3,                  # model input channels (1 for gray-scale images, 3 for RGB, etc.)\n",
    "    classes=3\n",
    ")\n",
    "\n",
    "# model = smp.DeepLabV3(\n",
    "#     encoder_name=\"resnet18\",        # choose encoder, e.g. mobilenet_v2 or efficientnet-b7\n",
    "#     encoder_weights=\"imagenet\",     # use `imagenet` pre-trained weights for encoder initialization\n",
    "#     in_channels=3,                  # model input channels (1 for gray-scale images, 3 for RGB, etc.)\n",
    "#     classes=103,                      # model output channels (number of classes in your dataset)\n",
    "# )"
   ]
  },
  {
   "cell_type": "code",
   "execution_count": 10,
   "id": "b4e7dc12-04a8-486c-ad85-e74240eb1545",
   "metadata": {},
   "outputs": [
    {
     "name": "stderr",
     "output_type": "stream",
     "text": [
      "100%|██████████| 1200/1200 [07:18<00:00,  2.74it/s]\n"
     ]
    },
    {
     "name": "stdout",
     "output_type": "stream",
     "text": [
      "Epoch 1/50\n",
      "Train Loss: 0.0651, Validation Loss: 0.0468\n",
      "Time: 7.40 minutes\n",
      "\n"
     ]
    },
    {
     "name": "stderr",
     "output_type": "stream",
     "text": [
      "100%|██████████| 1200/1200 [07:13<00:00,  2.77it/s]\n"
     ]
    },
    {
     "name": "stdout",
     "output_type": "stream",
     "text": [
      "Epoch 2/50\n",
      "Train Loss: 0.0475, Validation Loss: 0.0654\n",
      "Time: 7.31 minutes\n",
      "\n"
     ]
    },
    {
     "name": "stderr",
     "output_type": "stream",
     "text": [
      "100%|██████████| 1200/1200 [07:13<00:00,  2.77it/s]\n"
     ]
    },
    {
     "name": "stdout",
     "output_type": "stream",
     "text": [
      "Epoch 3/50\n",
      "Train Loss: 0.0440, Validation Loss: 0.0696\n",
      "Time: 7.31 minutes\n",
      "\n"
     ]
    },
    {
     "name": "stderr",
     "output_type": "stream",
     "text": [
      "100%|██████████| 1200/1200 [07:12<00:00,  2.77it/s]\n"
     ]
    },
    {
     "name": "stdout",
     "output_type": "stream",
     "text": [
      "Epoch 4/50\n",
      "Train Loss: 0.0398, Validation Loss: 0.0342\n",
      "Time: 7.30 minutes\n",
      "\n"
     ]
    },
    {
     "name": "stderr",
     "output_type": "stream",
     "text": [
      "100%|██████████| 1200/1200 [07:13<00:00,  2.77it/s]\n"
     ]
    },
    {
     "name": "stdout",
     "output_type": "stream",
     "text": [
      "Epoch 5/50\n",
      "Train Loss: 0.0373, Validation Loss: 0.0297\n",
      "Time: 7.32 minutes\n",
      "\n"
     ]
    },
    {
     "name": "stderr",
     "output_type": "stream",
     "text": [
      "100%|██████████| 1200/1200 [07:06<00:00,  2.82it/s]\n"
     ]
    },
    {
     "name": "stdout",
     "output_type": "stream",
     "text": [
      "Epoch 6/50\n",
      "Train Loss: 0.0352, Validation Loss: 0.0283\n",
      "Time: 7.19 minutes\n",
      "\n"
     ]
    },
    {
     "name": "stderr",
     "output_type": "stream",
     "text": [
      "100%|██████████| 1200/1200 [07:08<00:00,  2.80it/s]\n"
     ]
    },
    {
     "name": "stdout",
     "output_type": "stream",
     "text": [
      "Epoch 7/50\n",
      "Train Loss: 0.0339, Validation Loss: 0.0285\n",
      "Time: 7.22 minutes\n",
      "\n"
     ]
    },
    {
     "name": "stderr",
     "output_type": "stream",
     "text": [
      "100%|██████████| 1200/1200 [07:04<00:00,  2.83it/s]\n"
     ]
    },
    {
     "name": "stdout",
     "output_type": "stream",
     "text": [
      "Epoch 8/50\n",
      "Train Loss: 0.0328, Validation Loss: 0.0283\n",
      "Time: 7.16 minutes\n",
      "\n"
     ]
    },
    {
     "name": "stderr",
     "output_type": "stream",
     "text": [
      "100%|██████████| 1200/1200 [06:59<00:00,  2.86it/s]\n"
     ]
    },
    {
     "name": "stdout",
     "output_type": "stream",
     "text": [
      "Epoch 9/50\n",
      "Train Loss: 0.0322, Validation Loss: 0.0282\n",
      "Time: 7.07 minutes\n",
      "\n"
     ]
    },
    {
     "name": "stderr",
     "output_type": "stream",
     "text": [
      "100%|██████████| 1200/1200 [07:01<00:00,  2.85it/s]\n"
     ]
    },
    {
     "name": "stdout",
     "output_type": "stream",
     "text": [
      "Epoch 10/50\n",
      "Train Loss: 0.0308, Validation Loss: 0.0271\n",
      "Time: 7.11 minutes\n",
      "\n"
     ]
    },
    {
     "name": "stderr",
     "output_type": "stream",
     "text": [
      "100%|██████████| 1200/1200 [07:00<00:00,  2.85it/s]\n"
     ]
    },
    {
     "name": "stdout",
     "output_type": "stream",
     "text": [
      "Epoch 11/50\n",
      "Train Loss: 0.0297, Validation Loss: 0.0257\n",
      "Time: 7.10 minutes\n",
      "\n"
     ]
    },
    {
     "name": "stderr",
     "output_type": "stream",
     "text": [
      "100%|██████████| 1200/1200 [07:02<00:00,  2.84it/s]\n"
     ]
    },
    {
     "name": "stdout",
     "output_type": "stream",
     "text": [
      "Epoch 12/50\n",
      "Train Loss: 0.0290, Validation Loss: 0.0259\n",
      "Time: 7.13 minutes\n",
      "\n"
     ]
    },
    {
     "name": "stderr",
     "output_type": "stream",
     "text": [
      "100%|██████████| 1200/1200 [07:00<00:00,  2.86it/s]\n"
     ]
    },
    {
     "name": "stdout",
     "output_type": "stream",
     "text": [
      "Epoch 13/50\n",
      "Train Loss: 0.0292, Validation Loss: 0.0350\n",
      "Time: 7.09 minutes\n",
      "\n"
     ]
    },
    {
     "name": "stderr",
     "output_type": "stream",
     "text": [
      "100%|██████████| 1200/1200 [07:04<00:00,  2.83it/s]\n"
     ]
    },
    {
     "name": "stdout",
     "output_type": "stream",
     "text": [
      "Epoch 14/50\n",
      "Train Loss: 0.0280, Validation Loss: 0.0241\n",
      "Time: 7.15 minutes\n",
      "\n"
     ]
    },
    {
     "name": "stderr",
     "output_type": "stream",
     "text": [
      "100%|██████████| 1200/1200 [07:02<00:00,  2.84it/s]\n"
     ]
    },
    {
     "name": "stdout",
     "output_type": "stream",
     "text": [
      "Epoch 15/50\n",
      "Train Loss: 0.0276, Validation Loss: 0.0244\n",
      "Time: 7.12 minutes\n",
      "\n"
     ]
    },
    {
     "name": "stderr",
     "output_type": "stream",
     "text": [
      "100%|██████████| 1200/1200 [07:02<00:00,  2.84it/s]\n"
     ]
    },
    {
     "name": "stdout",
     "output_type": "stream",
     "text": [
      "Epoch 16/50\n",
      "Train Loss: 0.0272, Validation Loss: 0.0236\n",
      "Time: 7.13 minutes\n",
      "\n"
     ]
    },
    {
     "name": "stderr",
     "output_type": "stream",
     "text": [
      "100%|██████████| 1200/1200 [07:00<00:00,  2.85it/s]\n"
     ]
    },
    {
     "name": "stdout",
     "output_type": "stream",
     "text": [
      "Epoch 17/50\n",
      "Train Loss: 0.0268, Validation Loss: 0.0299\n",
      "Time: 7.10 minutes\n",
      "\n"
     ]
    },
    {
     "name": "stderr",
     "output_type": "stream",
     "text": [
      "100%|██████████| 1200/1200 [07:00<00:00,  2.85it/s]\n"
     ]
    },
    {
     "name": "stdout",
     "output_type": "stream",
     "text": [
      "Epoch 18/50\n",
      "Train Loss: 0.0266, Validation Loss: 0.0242\n",
      "Time: 7.09 minutes\n",
      "\n"
     ]
    },
    {
     "name": "stderr",
     "output_type": "stream",
     "text": [
      "100%|██████████| 1200/1200 [07:01<00:00,  2.85it/s]\n"
     ]
    },
    {
     "name": "stdout",
     "output_type": "stream",
     "text": [
      "Epoch 19/50\n",
      "Train Loss: 0.0259, Validation Loss: 0.0271\n",
      "Time: 7.10 minutes\n",
      "\n"
     ]
    },
    {
     "name": "stderr",
     "output_type": "stream",
     "text": [
      "100%|██████████| 1200/1200 [07:03<00:00,  2.83it/s]\n"
     ]
    },
    {
     "name": "stdout",
     "output_type": "stream",
     "text": [
      "Epoch 20/50\n",
      "Train Loss: 0.0253, Validation Loss: 0.0253\n",
      "Time: 7.15 minutes\n",
      "\n"
     ]
    },
    {
     "name": "stderr",
     "output_type": "stream",
     "text": [
      "100%|██████████| 1200/1200 [07:03<00:00,  2.84it/s]\n"
     ]
    },
    {
     "name": "stdout",
     "output_type": "stream",
     "text": [
      "Epoch 21/50\n",
      "Train Loss: 0.0249, Validation Loss: 0.0254\n",
      "Time: 7.14 minutes\n",
      "\n"
     ]
    },
    {
     "name": "stderr",
     "output_type": "stream",
     "text": [
      "100%|██████████| 1200/1200 [07:01<00:00,  2.84it/s]\n"
     ]
    },
    {
     "name": "stdout",
     "output_type": "stream",
     "text": [
      "Epoch 22/50\n",
      "Train Loss: 0.0247, Validation Loss: 0.0229\n",
      "Time: 7.11 minutes\n",
      "\n"
     ]
    },
    {
     "name": "stderr",
     "output_type": "stream",
     "text": [
      "100%|██████████| 1200/1200 [10:58<00:00,  1.82it/s]\n"
     ]
    },
    {
     "name": "stdout",
     "output_type": "stream",
     "text": [
      "Epoch 23/50\n",
      "Train Loss: 0.0241, Validation Loss: 0.0225\n",
      "Time: 11.11 minutes\n",
      "\n"
     ]
    },
    {
     "name": "stderr",
     "output_type": "stream",
     "text": [
      "100%|██████████| 1200/1200 [13:12<00:00,  1.51it/s]\n"
     ]
    },
    {
     "name": "stdout",
     "output_type": "stream",
     "text": [
      "Epoch 24/50\n",
      "Train Loss: 0.0237, Validation Loss: 0.0214\n",
      "Time: 13.35 minutes\n",
      "\n"
     ]
    },
    {
     "name": "stderr",
     "output_type": "stream",
     "text": [
      "100%|██████████| 1200/1200 [13:11<00:00,  1.52it/s]\n"
     ]
    },
    {
     "name": "stdout",
     "output_type": "stream",
     "text": [
      "Epoch 25/50\n",
      "Train Loss: 0.0235, Validation Loss: 0.0211\n",
      "Time: 13.34 minutes\n",
      "\n"
     ]
    },
    {
     "name": "stderr",
     "output_type": "stream",
     "text": [
      "100%|██████████| 1200/1200 [07:39<00:00,  2.61it/s]\n"
     ]
    },
    {
     "name": "stdout",
     "output_type": "stream",
     "text": [
      "Epoch 26/50\n",
      "Train Loss: 0.0230, Validation Loss: 0.0222\n",
      "Time: 7.74 minutes\n",
      "\n"
     ]
    },
    {
     "name": "stderr",
     "output_type": "stream",
     "text": [
      "100%|██████████| 1200/1200 [07:03<00:00,  2.83it/s]\n"
     ]
    },
    {
     "name": "stdout",
     "output_type": "stream",
     "text": [
      "Epoch 27/50\n",
      "Train Loss: 0.0226, Validation Loss: 0.0208\n",
      "Time: 7.14 minutes\n",
      "\n"
     ]
    },
    {
     "name": "stderr",
     "output_type": "stream",
     "text": [
      "100%|██████████| 1200/1200 [07:03<00:00,  2.83it/s]\n"
     ]
    },
    {
     "name": "stdout",
     "output_type": "stream",
     "text": [
      "Epoch 28/50\n",
      "Train Loss: 0.0225, Validation Loss: 0.0211\n",
      "Time: 7.15 minutes\n",
      "\n"
     ]
    },
    {
     "name": "stderr",
     "output_type": "stream",
     "text": [
      "100%|██████████| 1200/1200 [07:03<00:00,  2.83it/s]\n"
     ]
    },
    {
     "name": "stdout",
     "output_type": "stream",
     "text": [
      "Epoch 29/50\n",
      "Train Loss: 0.0219, Validation Loss: 0.0206\n",
      "Time: 7.14 minutes\n",
      "\n"
     ]
    },
    {
     "name": "stderr",
     "output_type": "stream",
     "text": [
      "100%|██████████| 1200/1200 [07:03<00:00,  2.83it/s]\n"
     ]
    },
    {
     "name": "stdout",
     "output_type": "stream",
     "text": [
      "Epoch 30/50\n",
      "Train Loss: 0.0217, Validation Loss: 0.0207\n",
      "Time: 7.15 minutes\n",
      "\n"
     ]
    },
    {
     "name": "stderr",
     "output_type": "stream",
     "text": [
      "100%|██████████| 1200/1200 [07:02<00:00,  2.84it/s]\n"
     ]
    },
    {
     "name": "stdout",
     "output_type": "stream",
     "text": [
      "Epoch 31/50\n",
      "Train Loss: 0.0215, Validation Loss: 0.0204\n",
      "Time: 7.12 minutes\n",
      "\n"
     ]
    },
    {
     "name": "stderr",
     "output_type": "stream",
     "text": [
      "100%|██████████| 1200/1200 [07:02<00:00,  2.84it/s]\n"
     ]
    },
    {
     "name": "stdout",
     "output_type": "stream",
     "text": [
      "Epoch 32/50\n",
      "Train Loss: 0.0211, Validation Loss: 0.0205\n",
      "Time: 7.12 minutes\n",
      "\n"
     ]
    },
    {
     "name": "stderr",
     "output_type": "stream",
     "text": [
      "100%|██████████| 1200/1200 [07:01<00:00,  2.85it/s]\n"
     ]
    },
    {
     "name": "stdout",
     "output_type": "stream",
     "text": [
      "Epoch 33/50\n",
      "Train Loss: 0.0210, Validation Loss: 0.0203\n",
      "Time: 7.11 minutes\n",
      "\n"
     ]
    },
    {
     "name": "stderr",
     "output_type": "stream",
     "text": [
      "100%|██████████| 1200/1200 [07:04<00:00,  2.83it/s]\n"
     ]
    },
    {
     "name": "stdout",
     "output_type": "stream",
     "text": [
      "Epoch 34/50\n",
      "Train Loss: 0.0206, Validation Loss: 0.0202\n",
      "Time: 7.16 minutes\n",
      "\n"
     ]
    },
    {
     "name": "stderr",
     "output_type": "stream",
     "text": [
      "100%|██████████| 1200/1200 [07:03<00:00,  2.83it/s]\n"
     ]
    },
    {
     "name": "stdout",
     "output_type": "stream",
     "text": [
      "Epoch 35/50\n",
      "Train Loss: 0.0205, Validation Loss: 0.0198\n",
      "Time: 7.14 minutes\n",
      "\n"
     ]
    },
    {
     "name": "stderr",
     "output_type": "stream",
     "text": [
      "100%|██████████| 1200/1200 [07:00<00:00,  2.85it/s]\n"
     ]
    },
    {
     "name": "stdout",
     "output_type": "stream",
     "text": [
      "Epoch 36/50\n",
      "Train Loss: 0.0202, Validation Loss: 0.0204\n",
      "Time: 7.10 minutes\n",
      "\n"
     ]
    },
    {
     "name": "stderr",
     "output_type": "stream",
     "text": [
      "100%|██████████| 1200/1200 [07:01<00:00,  2.85it/s]\n"
     ]
    },
    {
     "name": "stdout",
     "output_type": "stream",
     "text": [
      "Epoch 37/50\n",
      "Train Loss: 0.0200, Validation Loss: 0.0198\n",
      "Time: 7.10 minutes\n",
      "\n"
     ]
    },
    {
     "name": "stderr",
     "output_type": "stream",
     "text": [
      "100%|██████████| 1200/1200 [06:59<00:00,  2.86it/s]\n"
     ]
    },
    {
     "name": "stdout",
     "output_type": "stream",
     "text": [
      "Epoch 38/50\n",
      "Train Loss: 0.0198, Validation Loss: 0.0202\n",
      "Time: 7.08 minutes\n",
      "\n"
     ]
    },
    {
     "name": "stderr",
     "output_type": "stream",
     "text": [
      "100%|██████████| 1200/1200 [07:01<00:00,  2.85it/s]\n"
     ]
    },
    {
     "name": "stdout",
     "output_type": "stream",
     "text": [
      "Epoch 39/50\n",
      "Train Loss: 0.0196, Validation Loss: 0.0200\n",
      "Time: 7.11 minutes\n",
      "\n"
     ]
    },
    {
     "name": "stderr",
     "output_type": "stream",
     "text": [
      "100%|██████████| 1200/1200 [07:01<00:00,  2.85it/s]\n"
     ]
    },
    {
     "name": "stdout",
     "output_type": "stream",
     "text": [
      "Epoch 40/50\n",
      "Train Loss: 0.0194, Validation Loss: 0.0195\n",
      "Time: 7.11 minutes\n",
      "\n"
     ]
    },
    {
     "name": "stderr",
     "output_type": "stream",
     "text": [
      "100%|██████████| 1200/1200 [06:59<00:00,  2.86it/s]\n"
     ]
    },
    {
     "name": "stdout",
     "output_type": "stream",
     "text": [
      "Epoch 41/50\n",
      "Train Loss: 0.0193, Validation Loss: 0.0195\n",
      "Time: 7.08 minutes\n",
      "\n"
     ]
    },
    {
     "name": "stderr",
     "output_type": "stream",
     "text": [
      "100%|██████████| 1200/1200 [07:01<00:00,  2.85it/s]\n"
     ]
    },
    {
     "name": "stdout",
     "output_type": "stream",
     "text": [
      "Epoch 42/50\n",
      "Train Loss: 0.0190, Validation Loss: 0.0194\n",
      "Time: 7.11 minutes\n",
      "\n"
     ]
    },
    {
     "name": "stderr",
     "output_type": "stream",
     "text": [
      "100%|██████████| 1200/1200 [07:00<00:00,  2.85it/s]\n"
     ]
    },
    {
     "name": "stdout",
     "output_type": "stream",
     "text": [
      "Epoch 43/50\n",
      "Train Loss: 0.0190, Validation Loss: 0.0192\n",
      "Time: 7.10 minutes\n",
      "\n"
     ]
    },
    {
     "name": "stderr",
     "output_type": "stream",
     "text": [
      "100%|██████████| 1200/1200 [07:03<00:00,  2.83it/s]\n"
     ]
    },
    {
     "name": "stdout",
     "output_type": "stream",
     "text": [
      "Epoch 44/50\n",
      "Train Loss: 0.0188, Validation Loss: 0.0193\n",
      "Time: 7.14 minutes\n",
      "\n"
     ]
    },
    {
     "name": "stderr",
     "output_type": "stream",
     "text": [
      "100%|██████████| 1200/1200 [07:05<00:00,  2.82it/s]\n"
     ]
    },
    {
     "name": "stdout",
     "output_type": "stream",
     "text": [
      "Epoch 45/50\n",
      "Train Loss: 0.0189, Validation Loss: 0.0193\n",
      "Time: 7.17 minutes\n",
      "\n"
     ]
    },
    {
     "name": "stderr",
     "output_type": "stream",
     "text": [
      "100%|██████████| 1200/1200 [07:04<00:00,  2.83it/s]\n"
     ]
    },
    {
     "name": "stdout",
     "output_type": "stream",
     "text": [
      "Epoch 46/50\n",
      "Train Loss: 0.0187, Validation Loss: 0.0193\n",
      "Time: 7.16 minutes\n",
      "\n"
     ]
    },
    {
     "name": "stderr",
     "output_type": "stream",
     "text": [
      "100%|██████████| 1200/1200 [07:01<00:00,  2.85it/s]\n"
     ]
    },
    {
     "name": "stdout",
     "output_type": "stream",
     "text": [
      "Epoch 47/50\n",
      "Train Loss: 0.0187, Validation Loss: 0.0194\n",
      "Time: 7.11 minutes\n",
      "\n"
     ]
    },
    {
     "name": "stderr",
     "output_type": "stream",
     "text": [
      "100%|██████████| 1200/1200 [07:03<00:00,  2.83it/s]\n"
     ]
    },
    {
     "name": "stdout",
     "output_type": "stream",
     "text": [
      "Epoch 48/50\n",
      "Train Loss: 0.0185, Validation Loss: 0.0193\n",
      "Time: 7.14 minutes\n",
      "\n"
     ]
    },
    {
     "name": "stderr",
     "output_type": "stream",
     "text": [
      "100%|██████████| 1200/1200 [07:04<00:00,  2.83it/s]\n"
     ]
    },
    {
     "name": "stdout",
     "output_type": "stream",
     "text": [
      "Epoch 49/50\n",
      "Train Loss: 0.0186, Validation Loss: 0.0192\n",
      "Time: 7.16 minutes\n",
      "\n"
     ]
    },
    {
     "name": "stderr",
     "output_type": "stream",
     "text": [
      "100%|██████████| 1200/1200 [07:02<00:00,  2.84it/s]\n"
     ]
    },
    {
     "name": "stdout",
     "output_type": "stream",
     "text": [
      "Epoch 50/50\n",
      "Train Loss: 0.0186, Validation Loss: 0.0192\n",
      "Time: 7.13 minutes\n",
      "\n"
     ]
    },
    {
     "data": {
      "image/png": "[encoded data removed]",
      "text/plain": [
       "<Figure size 640x480 with 1 Axes>"
      ]
     },
     "metadata": {},
     "output_type": "display_data"
    }
   ],
   "source": [
    "header = r'''\n",
    "        Train | Valid\n",
    "Epoch |  Loss |  Loss | Time, m\n",
    "'''\n",
    "raw_line = '{:6d}' + '\\u2502{:7.3f}'*2 + '\\u2502{:6.2f}'\n",
    "\n",
    "@torch.no_grad()\n",
    "def validation(model, loader, loss_fn):\n",
    "    losses = []\n",
    "    model.eval()\n",
    "    for image, target in loader:\n",
    "        image, target = image.to('cuda'), target.to('cuda').float()\n",
    "        output = model(image)\n",
    "        loss = loss_fn(output, target)\n",
    "        losses.append(loss.item())\n",
    "                \n",
    "    avg_loss = np.array(losses).mean()\n",
    "    return avg_loss\n",
    "\n",
    "\n",
    "EPOCHES = 50\n",
    "model.to('cuda')\n",
    "optimizer = torch.optim.Adam(model.parameters(), lr=8e-4)\n",
    "scheduler = torch.optim.lr_scheduler.CosineAnnealingLR(optimizer, T_max=EPOCHES)\n",
    "bce_fn = nn.MSELoss()\n",
    "\n",
    "\n",
    "train_losses = []\n",
    "val_losses = []\n",
    "\n",
    "for epoch in range(1, EPOCHES + 1):\n",
    "    losses = []\n",
    "    start_time = time.time()\n",
    "    model.train()\n",
    "    for image, target in tqdm(train_loader):\n",
    "        image, target = image.to('cuda'), target.to('cuda').float()\n",
    "        optimizer.zero_grad()\n",
    "        output = model(image)\n",
    "        loss = bce_fn(output, target)\n",
    "        loss.backward()\n",
    "        optimizer.step()\n",
    "        losses.append(loss.item())\n",
    "        \n",
    "    avg_train_loss = np.mean(losses)\n",
    "    avg_loss = validation(model, val_loader, bce_fn)\n",
    "    \n",
    "    train_losses.append(avg_train_loss)\n",
    "    val_losses.append(avg_loss)\n",
    "    \n",
    "    # Update learning rate\n",
    "    scheduler.step()\n",
    "    \n",
    "    print(f\"Epoch {epoch}/{EPOCHES}\")\n",
    "    print(f\"Train Loss: {avg_train_loss:.4f}, Validation Loss: {avg_loss:.4f}\")\n",
    "    print(f\"Time: {(time.time() - start_time) / 60:.2f} minutes\\n\")\n",
    "\n",
    "epochs = range(1, EPOCHES + 1)\n",
    "plt.figure()\n",
    "plt.plot(epochs, train_losses, 'b', label='Training loss')\n",
    "plt.plot(epochs, val_losses, 'r', label='Validation loss')\n",
    "plt.xlabel('Epochs')\n",
    "plt.ylabel('Loss')\n",
    "plt.title('Training and Validation Loss')\n",
    "plt.legend()\n",
    "\n",
    "plt.tight_layout()\n",
    "plt.show()\n"
   ]
  },
  {
   "cell_type": "code",
   "execution_count": 11,
   "id": "cdf1e55c-7fc1-4da4-b68c-e4a0e56efce4",
   "metadata": {},
   "outputs": [
    {
     "data": {
      "text/plain": [
       "(torch.Size([4, 3, 512, 512]), torch.Size([4, 3, 512, 512]))"
      ]
     },
     "execution_count": 11,
     "metadata": {},
     "output_type": "execute_result"
    }
   ],
   "source": [
    "output.shape, target.shape"
   ]
  },
  {
   "cell_type": "code",
   "execution_count": 12,
   "id": "e1904924-3051-4be1-9b09-a1075b167b8a",
   "metadata": {},
   "outputs": [],
   "source": [
    "model.eval()\n",
    "for image, target in val_loader:\n",
    "    image, target = image.to('cuda'), target.to('cuda').float()\n",
    "    output = model(image)\n",
    "    break"
   ]
  },
  {
   "cell_type": "code",
   "execution_count": 13,
   "id": "c131b202-46f3-4c3b-af87-c40754020c92",
   "metadata": {},
   "outputs": [],
   "source": [
    "output = (output.data.cpu().numpy() * 255).astype(np.uint8)\n",
    "output = output[3]\n",
    "output = np.transpose(output, (1,2, 0))\n",
    "\n",
    "target = (target.data.cpu().numpy() * 255).astype(np.uint8)\n",
    "target = target[3]\n",
    "target = np.transpose(target, (1,2, 0))"
   ]
  },
  {
   "cell_type": "code",
   "execution_count": 14,
   "id": "16791861-a30b-4d72-b611-98fe885a8b30",
   "metadata": {},
   "outputs": [
    {
     "data": {
      "text/plain": [
       "<matplotlib.image.AxesImage at 0x7f3db16a2f40>"
      ]
     },
     "execution_count": 14,
     "metadata": {},
     "output_type": "execute_result"
    },
    {
     "data": {
      "image/png": "[encoded data removed]",
      "text/plain": [
       "<Figure size 640x480 with 2 Axes>"
      ]
     },
     "metadata": {},
     "output_type": "display_data"
    }
   ],
   "source": [
    "plt.subplot(121)\n",
    "plt.imshow(output)\n",
    "\n",
    "plt.subplot(122)\n",
    "plt.imshow(target)"
   ]
  },
  {
   "cell_type": "code",
   "execution_count": 15,
   "id": "46346c06-a70a-4269-80c9-8b50338b6a6e",
   "metadata": {},
   "outputs": [],
   "source": [
    "trfm = A.Compose([\n",
    "    A.Resize(512,512),\n",
    "])\n",
    "test_img = glob.glob('./test/*_input.jpg')\n",
    "test_img.sort()\n",
    "test_ds = FoodDataset(test_img, test_img, transform=trfm)\n",
    "test_loader = D.DataLoader( test_ds, batch_size=4, shuffle=False, num_workers=3)"
   ]
  },
  {
   "cell_type": "code",
   "execution_count": 16,
   "id": "0d6991be-b920-4a41-a99b-43c777799a66",
   "metadata": {},
   "outputs": [
    {
     "name": "stdout",
     "output_type": "stream",
     "text": [
      "mkdir: cannot create directory ‘submit’: File exists\n"
     ]
    }
   ],
   "source": [
    "!mkdir submit"
   ]
  },
  {
   "cell_type": "code",
   "execution_count": 17,
   "id": "b1ad1057-b465-49ff-ae96-05e1588056a9",
   "metadata": {
    "scrolled": true
   },
   "outputs": [],
   "source": [
    "model.eval()\n",
    "idx = 0\n",
    "with torch.no_grad():\n",
    "    for image, target in test_loader:\n",
    "        image, target = image.to('cuda'), target.to('cuda').float()\n",
    "        outputs = model(image)\n",
    "        outputs = (outputs.data.cpu().numpy() * 255).astype(np.uint8)\n",
    "        for output in outputs:\n",
    "            output = np.transpose(output, (1,2, 0))\n",
    "            cv2.imwrite('submit/' + test_img[idx].split('/')[-1].replace('input', 'target'), output)\n",
    "            idx += 1"
   ]
  },
  {
   "cell_type": "code",
   "execution_count": 18,
   "id": "eccd920c-64b8-4189-a151-3ae91b4fe299",
   "metadata": {},
   "outputs": [
    {
     "name": "stdout",
     "output_type": "stream",
     "text": [
      "1501\n",
      "1501\n"
     ]
    }
   ],
   "source": [
    "!ls -l submit | wc -l\n",
    "!ls -l test | wc -l"
   ]
  },
  {
   "cell_type": "code",
   "execution_count": 19,
   "id": "d13654ee-14eb-4a2b-986e-b90e3e33b209",
   "metadata": {
    "scrolled": true
   },
   "outputs": [
    {
     "name": "stdout",
     "output_type": "stream",
     "text": [
      "  adding: submit/ (stored 0%)\n",
      "  adding: submit/8a0dd6ac-33b8-4e93-8399-8e380e9db5dd_target.jpg (deflated 1%)\n",
      "  adding: submit/5110609d-0a82-478b-b88b-20994ffbe497_target.jpg (deflated 1%)\n",
      "  adding: submit/d48a53ad-5398-4b4b-bd48-b37125eb2eca_target.jpg (deflated 1%)\n",
      "  adding: submit/28d2edb3-d329-4953-b2d6-367cd35ed73b_target.jpg (deflated 0%)\n",
      "  adding: submit/0b1ddee9-b85c-451b-bfab-07f82265d286_target.jpg (deflated 0%)\n",
      "  adding: submit/99cf8890-b01a-41c7-85bd-3f858151e516_target.jpg (deflated 0%)\n",
      "  adding: submit/e3276417-ad4f-4ec0-ba3a-0caa20ef7ccb_target.jpg (deflated 0%)\n",
      "  adding: submit/8f4a9823-d987-4e2e-a14f-b4134026d882_target.jpg (deflated 0%)\n",
      "  adding: submit/980c5c25-fae1-4d64-8e43-d6874bd6e01d_target.jpg (deflated 0%)\n",
      "  adding: submit/08712ab1-adc5-46ce-a8ce-6468331309e4_target.jpg (deflated 0%)\n",
      "  adding: submit/0b156ff7-fc96-41f0-a65c-3cfadb3147b5_target.jpg (deflated 0%)\n",
      "  adding: submit/d649473e-3f23-4368-ba37-dc90937c3653_target.jpg (deflated 0%)\n",
      "  adding: submit/a1f1b7c1-aa48-4c7c-a7a4-6d6649ae8204_target.jpg (deflated 0%)\n",
      "  adding: submit/6c7aa960-b51d-4b2c-8b12-27e1521e899e_target.jpg (deflated 0%)\n",
      "  adding: submit/9e0cf9b9-3aa4-4ee1-a4b7-e5817962e83f_target.jpg (deflated 0%)\n",
      "  adding: submit/7ed2a707-714b-4000-a675-dd71d9a9cce8_target.jpg (deflated 0%)\n",
      "  adding: submit/da391674-ab9e-4cea-8e40-13d11ee59b18_target.jpg (deflated 0%)\n",
      "  adding: submit/d5d3a22a-a024-45e0-a388-64f7c6e140cc_target.jpg (deflated 0%)\n",
      "  adding: submit/f6bba06b-1257-4f44-a400-129489a48c63_target.jpg (deflated 1%)\n",
      "  adding: submit/a26c9f2f-3de5-441e-be4a-19c5c8447118_target.jpg (deflated 0%)\n",
      "  adding: submit/1b2f557e-a287-491b-be64-c641e4da73b1_target.jpg (deflated 0%)\n",
      "  adding: submit/4a5ca3ff-7460-40d4-a868-2def3aaf195a_target.jpg (deflated 0%)\n",
      "  adding: submit/45bfafc8-5dbe-4633-a158-e27537b3c536_target.jpg (deflated 0%)\n",
      "  adding: submit/e43c494f-1f41-4299-a282-54c0cc1edbb7_target.jpg (deflated 0%)\n",
      "  adding: submit/7939fbda-d62d-46a2-9d87-4e38d23adc99_target.jpg (deflated 0%)\n",
      "  adding: submit/0920a40b-fdcc-4f38-9510-ad601953a9fa_target.jpg (deflated 0%)\n",
      "  adding: submit/555e3b88-6ca5-4cfe-a3ca-bafdcc3d7339_target.jpg (deflated 0%)\n",
      "  adding: submit/83750947-ec70-4cd1-9aa5-6d5612a8dcd5_target.jpg (deflated 0%)\n",
      "  adding: submit/1a0c979f-c2fd-4c29-8525-e6385415bee8_target.jpg (deflated 0%)\n",
      "  adding: submit/6bfc7bba-3e94-4f34-9e76-9a62bc6cbe0f_target.jpg (deflated 0%)\n",
      "  adding: submit/6a0fc9b4-589a-4d58-9adf-c907b09dcd1e_target.jpg (deflated 0%)\n",
      "  adding: submit/8da5890c-7ff3-4ae0-a44d-26a20e293b3a_target.jpg (deflated 1%)\n",
      "  adding: submit/2c3511fd-52a3-42ea-9ba8-8739106ff612_target.jpg (deflated 0%)\n",
      "  adding: submit/e548c56b-3ebd-4b63-927e-a598febbfaba_target.jpg (deflated 0%)\n",
      "  adding: submit/9df9057b-6c04-47d2-a0d7-19a22952f3c3_target.jpg (deflated 0%)\n",
      "  adding: submit/619ba6ea-ac6f-49e0-a62b-e01f7f27b860_target.jpg (deflated 1%)\n",
      "  adding: submit/841ac922-5950-4718-95e0-2a7b9da8a9cf_target.jpg (deflated 0%)\n",
      "  adding: submit/13b34d46-e744-461a-aafa-cfb11a7d9513_target.jpg (deflated 0%)\n",
      "  adding: submit/a443e982-b28f-4279-92f8-729910c0ced1_target.jpg (deflated 0%)\n",
      "  adding: submit/07b16ba9-69c0-4df6-8fb2-6c9dc2cf83ad_target.jpg (deflated 0%)\n",
      "  adding: submit/e498f175-1f17-4e68-95c0-30544e0366a0_target.jpg (deflated 0%)\n",
      "  adding: submit/3ffa8ea6-74ba-45bb-b6a0-1eba15323155_target.jpg (deflated 1%)\n",
      "  adding: submit/7027fbe9-e3e0-4d21-9b06-2fb88011069a_target.jpg (deflated 0%)\n",
      "  adding: submit/b50b2de4-deeb-4ca9-9a41-e0ff97dc3d17_target.jpg (deflated 0%)\n",
      "  adding: submit/b9919719-05bb-4e9c-b5c0-ee8f9b9ff6a2_target.jpg (deflated 0%)\n",
      "  adding: submit/fb8e86bf-7ea4-429a-bdc8-02343583ff13_target.jpg (deflated 0%)\n",
      "  adding: submit/ecb6a11c-7221-467a-9868-a6821cd0672b_target.jpg (deflated 0%)\n",
      "  adding: submit/4c6e0efa-0ed9-4574-8a3d-480d85e2f991_target.jpg (deflated 0%)\n",
      "  adding: submit/f4a4e0f5-2fa5-4e90-b53d-a99420cac023_target.jpg (deflated 1%)\n",
      "  adding: submit/4f33e867-50ac-498b-99af-8608240f3d41_target.jpg (deflated 1%)\n",
      "  adding: submit/9c0cf88f-5599-41a8-ad75-557829000e6e_target.jpg (deflated 0%)\n",
      "  adding: submit/72fe7996-94e0-42e0-9b52-e1d45b14b04b_target.jpg (deflated 0%)\n",
      "  adding: submit/0ef37e6b-f9ac-4d32-b5d3-32ddde19a7d0_target.jpg (deflated 0%)\n",
      "  adding: submit/cfec520f-d9b5-4bd6-8e79-3d313a1dbdbc_target.jpg (deflated 0%)\n",
      "  adding: submit/003b5ef1-0731-42b1-94fd-32eeba348a37_target.jpg (deflated 0%)\n",
      "  adding: submit/61dafd50-c744-4e34-a9f4-4c042cdcdd28_target.jpg (deflated 0%)\n",
      "  adding: submit/c2bafa8d-3073-4458-8cb0-315ffd147e60_target.jpg (deflated 0%)\n",
      "  adding: submit/1fe6fada-2b3d-4c9e-83c3-74429f6ed6aa_target.jpg (deflated 0%)\n",
      "  adding: submit/0d5e9141-ca6d-439e-8cd6-6be5f6e6003d_target.jpg (deflated 0%)\n",
      "  adding: submit/66bda9c0-fd9d-4ce1-845a-36abc6ed5abe_target.jpg (deflated 0%)\n",
      "  adding: submit/8173d2e1-0010-41af-839b-2e54836a3eb6_target.jpg (deflated 0%)\n",
      "  adding: submit/5fc0a173-b94e-493a-874d-71425315c46f_target.jpg (deflated 0%)\n",
      "  adding: submit/d9237c65-bd5a-4887-9578-c271d4ce051e_target.jpg (deflated 0%)\n",
      "  adding: submit/48eb2033-865e-408d-8eca-71f6a6d8fcac_target.jpg (deflated 0%)\n",
      "  adding: submit/e65a7881-57e3-4372-9f50-e9c160a4f33f_target.jpg (deflated 0%)\n",
      "  adding: submit/1a56ca95-72e4-4794-a6ce-2981065fa2bc_target.jpg (deflated 0%)\n",
      "  adding: submit/a55c3451-4dc0-4b04-8447-e81a94ec9167_target.jpg (deflated 1%)\n",
      "  adding: submit/e9edc19b-4f80-4486-be79-6f4c97b4bf54_target.jpg (deflated 0%)\n",
      "  adding: submit/8f3bbf3e-0cdd-4aa5-b0f3-b7af48d5ff8f_target.jpg (deflated 1%)\n",
      "  adding: submit/cc26f426-8bb9-48b6-a3b3-4d6f266c6948_target.jpg (deflated 0%)\n",
      "  adding: submit/6792959a-9bfc-41c7-8d1b-032ed3e245ae_target.jpg (deflated 0%)\n",
      "  adding: submit/a0bd1940-2f16-4818-829c-984c4262c35a_target.jpg (deflated 0%)\n",
      "  adding: submit/4eaa3927-3984-4a22-bff6-fb08405db7fd_target.jpg (deflated 0%)\n",
      "  adding: submit/8dd633ec-a673-42ad-9e98-9607f636636c_target.jpg (deflated 1%)\n",
      "  adding: submit/ad06fa94-4633-4a3a-ac11-18a886426dc3_target.jpg (deflated 0%)\n",
      "  adding: submit/9ba52778-6b30-4ddb-9a59-c85db557df0b_target.jpg (deflated 0%)\n",
      "  adding: submit/e6d871d0-05d1-4d2c-a0af-aa5e3312181e_target.jpg (deflated 0%)\n",
      "  adding: submit/1f26506e-7928-44f3-bef9-73ffec35e780_target.jpg (deflated 0%)\n",
      "  adding: submit/f7bdabe2-9961-4258-b836-baaa474ab149_target.jpg (deflated 0%)\n",
      "  adding: submit/d9e68169-eb91-4d92-873e-816026f63ea1_target.jpg (deflated 0%)\n",
      "  adding: submit/a3ea2b30-9848-406e-bfee-e620f51105f6_target.jpg (deflated 1%)\n",
      "  adding: submit/8658d969-2eb9-4937-8531-413b60a52204_target.jpg (deflated 0%)\n",
      "  adding: submit/ebe47765-ef52-4139-9911-2a0669b1781d_target.jpg (deflated 1%)\n",
      "  adding: submit/9b1111f4-107b-4cf0-b19e-c4796e2c937b_target.jpg (deflated 1%)\n",
      "  adding: submit/fac9dd24-2802-413e-a872-cbb6117b20c4_target.jpg (deflated 0%)\n",
      "  adding: submit/8ed09075-385c-48f3-b0f0-a575828707db_target.jpg (deflated 0%)\n",
      "  adding: submit/c187968a-3838-4579-b6ac-b1bbed2004ec_target.jpg (deflated 0%)\n",
      "  adding: submit/aae428c5-834d-4652-bb8a-aa2f9487f15a_target.jpg (deflated 0%)\n",
      "  adding: submit/394735d6-5712-4ee6-8a31-bada1edc3169_target.jpg (deflated 0%)\n",
      "  adding: submit/5040c20c-76ee-4c77-87f8-8b48cb2bf199_target.jpg (deflated 1%)\n",
      "  adding: submit/69d5f1da-0dde-4ffb-ae74-7e16cb67b30a_target.jpg (deflated 0%)\n",
      "  adding: submit/50ae5706-de18-41a0-873d-5e92a074a295_target.jpg (deflated 0%)\n",
      "  adding: submit/e05bf995-9021-4a9b-9cb6-831ed70ca15a_target.jpg (deflated 0%)\n",
      "  adding: submit/9c6e2e9f-e97a-40e4-bd15-5bd66882f8ff_target.jpg (deflated 1%)\n",
      "  adding: submit/9d981882-0d94-42e0-9cca-4500e713e237_target.jpg (deflated 0%)\n",
      "  adding: submit/cc2c1b63-ef02-46fc-90fd-6220125d143f_target.jpg (deflated 0%)\n",
      "  adding: submit/ceee26a5-b753-4bd2-8d31-8f3c8dc098bd_target.jpg (deflated 0%)\n",
      "  adding: submit/8ea2f7f6-3545-4ff5-b107-a3b0eb4f17e8_target.jpg (deflated 0%)\n",
      "  adding: submit/9ead5176-9bb4-400a-8e62-fd3262c7dede_target.jpg (deflated 0%)\n",
      "  adding: submit/287941e0-ba71-43c0-a99c-1981b0e38e48_target.jpg (deflated 0%)\n",
      "  adding: submit/7e78f137-2cae-4ce2-8ff7-43fc21ea409e_target.jpg (deflated 1%)\n",
      "  adding: submit/d3c2bd6f-f1a3-48c7-a9be-fc98df700967_target.jpg (deflated 0%)\n",
      "  adding: submit/585c5a18-8200-4b3d-a39c-4e66f4813411_target.jpg (deflated 0%)\n",
      "  adding: submit/41780f5a-517d-4f6d-a028-8e7f8569dde1_target.jpg (deflated 0%)\n",
      "  adding: submit/a866ad71-16c3-459a-a2f5-b613e6415a2f_target.jpg (deflated 0%)\n",
      "  adding: submit/6d750a8c-01dc-4808-93fe-7d04b31678dd_target.jpg (deflated 0%)\n",
      "  adding: submit/cc6626e0-55c7-4c68-9d11-6c6de921efe3_target.jpg (deflated 1%)\n",
      "  adding: submit/8b695afa-20d2-4cc9-80a4-e7c0ae969e91_target.jpg (deflated 0%)\n",
      "  adding: submit/1b199428-0a1e-4b67-ba11-dd503073e594_target.jpg (deflated 0%)\n",
      "  adding: submit/102fbb98-9913-4868-9cf8-a74364e28242_target.jpg (deflated 0%)\n",
      "  adding: submit/f759f4a8-8e12-411f-b916-d422f4afb336_target.jpg (deflated 0%)\n",
      "  adding: submit/4f89d797-eae9-404f-b0e8-186899a5834f_target.jpg (deflated 0%)\n",
      "  adding: submit/4ed5c2cb-5bcb-41a5-bcf9-b5165068e9d7_target.jpg (deflated 0%)\n",
      "  adding: submit/a9c22574-ca93-4022-8d76-3f09d1e050b1_target.jpg (deflated 1%)\n",
      "  adding: submit/e0fe8425-e269-4e82-8db1-3329dd905f9e_target.jpg (deflated 0%)\n",
      "  adding: submit/559b5f85-32e4-4206-a8b2-a4cca7898472_target.jpg (deflated 1%)\n",
      "  adding: submit/5ec61095-796f-4f36-81f0-6a022ef545f5_target.jpg (deflated 0%)\n",
      "  adding: submit/f8687b8b-916b-47d3-842f-1a284f93d181_target.jpg (deflated 0%)\n",
      "  adding: submit/65a069b9-b0f8-4bc2-b02d-d4f64ae95574_target.jpg (deflated 0%)\n",
      "  adding: submit/87eeb895-a9f5-49c4-ba9e-281fa319e4ed_target.jpg (deflated 0%)\n",
      "  adding: submit/7b2b4614-519a-4736-95c0-70ec23a77eb2_target.jpg (deflated 0%)\n",
      "  adding: submit/fadd776a-e970-418d-be6f-a5699c25df4d_target.jpg (deflated 1%)\n",
      "  adding: submit/9253c0b1-e7b1-49ca-af1b-1a77fbfc14c0_target.jpg (deflated 1%)\n",
      "  adding: submit/cfe7198d-aeb8-4f16-95a5-6712073aef3d_target.jpg (deflated 0%)\n",
      "  adding: submit/e50d3301-7120-42a7-97e4-f2bbf71ede42_target.jpg (deflated 1%)\n",
      "  adding: submit/b52a4099-f42f-45c8-8eb6-117fe91184a0_target.jpg (deflated 0%)\n",
      "  adding: submit/9b6a84ad-15bb-4dd4-8b0e-6dae66bb59f4_target.jpg (deflated 0%)\n",
      "  adding: submit/e912b1bf-0b04-46b6-9920-828b28c818c4_target.jpg (deflated 0%)\n",
      "  adding: submit/ca17f4ac-04b2-4f32-a84c-9a57de1d4d28_target.jpg (deflated 0%)\n",
      "  adding: submit/1e12a98b-f6c5-4a98-b293-8370f2dd94ee_target.jpg (deflated 0%)\n",
      "  adding: submit/2ac5c8a6-af70-4695-8b88-6b5e9fa85d7f_target.jpg (deflated 0%)\n",
      "  adding: submit/aa80b908-af6e-4fe1-8499-788f321e6888_target.jpg (deflated 1%)\n",
      "  adding: submit/7801dace-39c2-475d-a619-32375cf39422_target.jpg (deflated 0%)\n",
      "  adding: submit/21da5028-ffe9-4c10-a01d-f72f20cfb9a7_target.jpg (deflated 0%)\n",
      "  adding: submit/4bfbc6ad-046a-4567-89c0-05c8c8fa8588_target.jpg (deflated 1%)\n",
      "  adding: submit/5d0ded95-b8e7-4202-aa18-1906a0447835_target.jpg (deflated 0%)\n",
      "  adding: submit/71ad9a85-c4c7-4661-8411-2302f48691bc_target.jpg (deflated 0%)\n",
      "  adding: submit/f9d62280-e33e-411b-9a61-6a2856a11c37_target.jpg (deflated 0%)\n",
      "  adding: submit/a68a5650-91d2-4c8a-9c7b-7772928acc9f_target.jpg (deflated 1%)\n",
      "  adding: submit/e59c8eab-c430-4bab-af60-8bb6d25e0857_target.jpg (deflated 0%)\n",
      "  adding: submit/c71ea716-6239-48a7-a212-36d177be40fe_target.jpg (deflated 0%)\n",
      "  adding: submit/e3e64f0c-eb35-4ed4-bcca-ddef6da21cbe_target.jpg (deflated 0%)\n",
      "  adding: submit/cf7ca49b-1f04-4e4f-b231-fbe4f4c84428_target.jpg (deflated 0%)\n",
      "  adding: submit/4f57e819-4d1b-4138-8615-1ec95e41be2a_target.jpg (deflated 1%)\n",
      "  adding: submit/b670423c-4ce7-4dcf-bfc5-0de7efcaa269_target.jpg (deflated 0%)\n",
      "  adding: submit/5035bddb-5d00-489b-bbae-f1beafa4a52f_target.jpg (deflated 1%)\n",
      "  adding: submit/b9d7156a-9a6d-4e65-9ad6-792d48dba9cc_target.jpg (deflated 0%)\n",
      "  adding: submit/097d8612-ecbb-4347-b727-4496b4d4bacf_target.jpg (deflated 0%)\n",
      "  adding: submit/5178ae04-4d7a-45ae-b37f-901431794c73_target.jpg (deflated 0%)\n",
      "  adding: submit/2514fbc0-0a1a-45ce-a949-fcbaf592e9b8_target.jpg (deflated 0%)\n",
      "  adding: submit/2a5230e4-9276-4f89-ba2c-ad98cbeaed7d_target.jpg (deflated 0%)\n",
      "  adding: submit/c20b6475-deec-4034-86b3-8ab0b681ae83_target.jpg (deflated 0%)\n",
      "  adding: submit/b21f1554-aa25-40f0-b250-aead42233ef6_target.jpg (deflated 0%)\n",
      "  adding: submit/37271f66-c842-412e-9321-25e623c5dd3b_target.jpg (deflated 0%)\n",
      "  adding: submit/7a3c4aa9-8042-4f02-9bfa-beb27fd2378c_target.jpg (deflated 0%)\n",
      "  adding: submit/38f44ccc-c0dc-4413-96d3-0c6e199c74dd_target.jpg (deflated 0%)\n",
      "  adding: submit/05f63519-3688-4553-82d4-2e1741db56c7_target.jpg (deflated 0%)\n",
      "  adding: submit/5ac326dc-1b67-4a09-9947-02fbdc5b1274_target.jpg (deflated 0%)\n",
      "  adding: submit/402c1cc1-920e-4444-83e0-5e9e317425cc_target.jpg (deflated 1%)\n",
      "  adding: submit/1206fd61-b8eb-4527-85dc-357f34db33f4_target.jpg (deflated 0%)\n",
      "  adding: submit/a9f4ec48-6e16-4d04-bede-54e101ab25d5_target.jpg (deflated 1%)\n",
      "  adding: submit/7154b3c3-ca8e-4f69-a9d3-d1d4f8495c3e_target.jpg (deflated 0%)\n",
      "  adding: submit/53efda2c-360e-4d91-8cc0-c476e3b7b864_target.jpg (deflated 0%)\n",
      "  adding: submit/e65c33a7-c386-4ef0-b461-f07442a45d41_target.jpg (deflated 0%)\n",
      "  adding: submit/e2ff1dfa-17bb-4836-a72a-8161a9f1fdae_target.jpg (deflated 1%)\n",
      "  adding: submit/872374ef-f254-488d-8f1a-3083a4c44a22_target.jpg (deflated 0%)\n",
      "  adding: submit/1fd9f159-aa3a-41e8-b877-b8d890f1a192_target.jpg (deflated 0%)\n",
      "  adding: submit/1bc3b9c1-dc2f-4209-9b0d-59ab34f7b53d_target.jpg (deflated 0%)\n",
      "  adding: submit/4d4e89f7-9ccc-4440-bf54-60875c016d4b_target.jpg (deflated 0%)\n",
      "  adding: submit/d6b7016b-211f-4cb6-bb05-31b315ce7b62_target.jpg (deflated 1%)\n",
      "  adding: submit/89081d30-9469-4322-a851-da19e9d19813_target.jpg (deflated 1%)\n",
      "  adding: submit/f5d0ba62-f652-492e-83c6-22cb28020cab_target.jpg (deflated 0%)\n",
      "  adding: submit/f5ff3694-cf15-4fdd-8738-e46721c9214d_target.jpg (deflated 0%)\n",
      "  adding: submit/20f46f82-b7f2-464a-a167-4d0a927e1260_target.jpg (deflated 0%)\n",
      "  adding: submit/08afff94-d81c-4b24-97d2-740fa5710e88_target.jpg (deflated 1%)\n",
      "  adding: submit/5a57040e-e173-4fd2-bb47-b29615fc7cb2_target.jpg (deflated 1%)\n",
      "  adding: submit/50427cdb-997a-4fd0-8a86-61e367786602_target.jpg (deflated 0%)\n",
      "  adding: submit/c41e80f1-767b-4df2-a9b2-e86cd90d30eb_target.jpg (deflated 0%)\n",
      "  adding: submit/573d698f-fcec-4837-88a1-d6a00cfaf562_target.jpg (deflated 0%)\n",
      "  adding: submit/869c8a77-103f-4b80-b697-fa5d0e2122c4_target.jpg (deflated 0%)\n",
      "  adding: submit/7320064e-6c61-42bb-868a-4934976f16d2_target.jpg (deflated 0%)\n",
      "  adding: submit/169fee90-a4c9-4dc5-8d97-e682d85ee814_target.jpg (deflated 0%)\n",
      "  adding: submit/2a15ce17-be40-4fb1-b90e-2113644e730e_target.jpg (deflated 0%)\n",
      "  adding: submit/46121ed6-29d8-444d-b626-40f77575e231_target.jpg (deflated 1%)\n",
      "  adding: submit/6ab2cc07-59f9-4aba-a40e-400fd7699cf3_target.jpg (deflated 1%)\n",
      "  adding: submit/4a6b117f-3bcd-4e99-967c-40074ebbd5fc_target.jpg (deflated 0%)\n",
      "  adding: submit/5c32ef6d-621d-415d-b274-ab64713d85d3_target.jpg (deflated 0%)\n",
      "  adding: submit/553f70c9-39b5-4662-bccb-529c131472ca_target.jpg (deflated 0%)\n",
      "  adding: submit/9242a406-f0d5-4cf1-98b3-ac89b372cbc8_target.jpg (deflated 0%)\n",
      "  adding: submit/6c4da053-d7a4-424b-b2ef-7a1ae345d479_target.jpg (deflated 1%)\n",
      "  adding: submit/6f802bc0-9428-4f07-9bfd-21c377ffb252_target.jpg (deflated 0%)\n",
      "  adding: submit/ac79825a-5b0c-4033-bdc7-0b301544f317_target.jpg (deflated 0%)\n",
      "  adding: submit/d449519e-14c3-4371-b5e2-d42092feca8e_target.jpg (deflated 1%)\n",
      "  adding: submit/55d2f570-9cff-40de-9826-c69c9b76941e_target.jpg (deflated 0%)\n",
      "  adding: submit/57e2dd43-ad44-411e-985d-8163706a59d0_target.jpg (deflated 1%)\n",
      "  adding: submit/bce85cf0-3734-441c-85b6-98d4602fd583_target.jpg (deflated 0%)\n",
      "  adding: submit/2bed4671-1f2d-43b4-ad49-708cab8dfdf2_target.jpg (deflated 0%)\n",
      "  adding: submit/cd0fe98c-9206-426c-8122-a05b4396a56c_target.jpg (deflated 0%)\n",
      "  adding: submit/098ff93a-a096-4b35-8e5e-5d68a5c54b03_target.jpg (deflated 0%)\n",
      "  adding: submit/ded4bc13-3e42-46fb-ab4a-9835d71d751e_target.jpg (deflated 0%)\n",
      "  adding: submit/b3d0bbbd-7a01-4409-b2f5-045fa90c541e_target.jpg (deflated 0%)\n",
      "  adding: submit/0a6cec2f-d8ed-47e2-b2d4-6d713e2762f5_target.jpg (deflated 0%)\n",
      "  adding: submit/60e6e212-1b64-460f-980e-21f32c1591d9_target.jpg (deflated 0%)\n",
      "  adding: submit/f8d30b27-0453-43aa-a5bb-a36dfe396577_target.jpg (deflated 0%)\n",
      "  adding: submit/59e6f1b0-1c8d-4310-8c18-fdc9e23b2b23_target.jpg (deflated 1%)\n",
      "  adding: submit/c669126d-f3db-4292-8578-eb9d1600913f_target.jpg (deflated 1%)\n",
      "  adding: submit/ca949324-3818-4099-a806-62ad858a2182_target.jpg (deflated 0%)\n",
      "  adding: submit/daf3a79c-c60c-4c16-a9f3-d27015883668_target.jpg (deflated 1%)\n",
      "  adding: submit/75f00998-9d98-42f4-a5e9-4653185c9175_target.jpg (deflated 1%)\n",
      "  adding: submit/460404af-9b81-44f7-b751-d84de8d2cae0_target.jpg (deflated 0%)\n",
      "  adding: submit/ecb67020-0e40-4c26-9aab-0246653e1b28_target.jpg (deflated 1%)\n",
      "  adding: submit/0436a8c0-dc03-4e6b-9561-50f921c78fd1_target.jpg (deflated 1%)\n",
      "  adding: submit/de5d690e-5803-4f06-9270-3f40ee06c115_target.jpg (deflated 0%)\n",
      "  adding: submit/8523db15-56ab-4e74-bcac-162182b124db_target.jpg (deflated 0%)\n",
      "  adding: submit/b6658351-f869-4099-9057-0ef178feb671_target.jpg (deflated 0%)\n",
      "  adding: submit/2f5f5627-bb9c-4229-83eb-ea8b3499b87f_target.jpg (deflated 1%)\n",
      "  adding: submit/2bae97ba-601a-45e7-af47-d31a1827c633_target.jpg (deflated 0%)\n",
      "  adding: submit/4dfc5150-fbae-4016-8c6d-4161d536fcb1_target.jpg (deflated 0%)\n",
      "  adding: submit/e1e9a80d-61f5-4130-8b69-e293a49965d1_target.jpg (deflated 0%)\n",
      "  adding: submit/44922c14-6e0a-44a9-b2b0-de25c5799c62_target.jpg (deflated 0%)\n",
      "  adding: submit/56fae24b-6ae7-4e87-9d10-22e451ed2330_target.jpg (deflated 1%)\n",
      "  adding: submit/0b73dcf1-a7be-4a39-988a-a2c60e5e26be_target.jpg (deflated 1%)\n",
      "  adding: submit/7c0c4c7d-2807-49c5-89ce-67ca6a223e20_target.jpg (deflated 0%)\n",
      "  adding: submit/37da4c74-4e10-4d78-8ce5-142cc426aee0_target.jpg (deflated 0%)\n",
      "  adding: submit/3959326f-fa84-46aa-8fb6-122f844e2575_target.jpg (deflated 0%)\n",
      "  adding: submit/c58db2ab-0260-4224-ae06-cb4bb9a1a579_target.jpg (deflated 0%)\n",
      "  adding: submit/418d04b4-203c-4df8-a1bc-717da44a7bd6_target.jpg (deflated 0%)\n",
      "  adding: submit/e20f8c1b-6231-4c50-b220-c93848feaadd_target.jpg (deflated 0%)\n",
      "  adding: submit/709f6503-f86a-48e1-8bf9-44a03c2afd61_target.jpg (deflated 0%)\n",
      "  adding: submit/91f62bf2-2cb8-49da-a5bd-9bf5c642220b_target.jpg (deflated 0%)\n",
      "  adding: submit/726add5e-8c57-44ad-94cb-688d4cfb9fad_target.jpg (deflated 1%)\n",
      "  adding: submit/9183e89e-2ae6-4898-be5d-06124a7e9fe4_target.jpg (deflated 0%)\n",
      "  adding: submit/42d351b3-957f-4c74-9d65-3e2cd82f62f7_target.jpg (deflated 0%)\n",
      "  adding: submit/06026845-b74a-4ebd-9c02-e4f12453a672_target.jpg (deflated 0%)\n",
      "  adding: submit/132d5908-22ef-404c-b488-effb682a0a94_target.jpg (deflated 0%)\n",
      "  adding: submit/2e59463f-4753-4921-b1f8-412891ac0a80_target.jpg (deflated 1%)\n",
      "  adding: submit/390e15c1-7050-4ae1-8982-38aa17ce3d3b_target.jpg (deflated 0%)\n",
      "  adding: submit/10e65d7e-3102-4011-bf01-3ab53f0453f1_target.jpg (deflated 0%)\n",
      "  adding: submit/5f50d432-3bb3-409b-8bea-e804d2a52aac_target.jpg (deflated 0%)\n",
      "  adding: submit/bf780cb3-10d2-4998-b23b-368543562452_target.jpg (deflated 0%)\n",
      "  adding: submit/5ec68667-dc0f-4b24-84a6-9467f9b64260_target.jpg (deflated 0%)\n",
      "  adding: submit/f7951082-0cc2-460d-91ba-7ff3ceecbd63_target.jpg (deflated 0%)\n",
      "  adding: submit/8b91d4de-0247-49a5-897d-580f13000a54_target.jpg (deflated 1%)\n",
      "  adding: submit/6fcbf4fd-ee09-4b1a-9243-842a467a1c2d_target.jpg (deflated 0%)\n",
      "  adding: submit/3c8365e8-00d6-483e-a069-4225a3b35ebc_target.jpg (deflated 0%)\n",
      "  adding: submit/b0fac900-a06d-42ba-a506-3911811ef925_target.jpg (deflated 0%)\n",
      "  adding: submit/bbd14e1e-3adc-478f-8f65-aa143b4678eb_target.jpg (deflated 0%)\n",
      "  adding: submit/32277bab-c8e7-45a8-9f8c-03badbaaab76_target.jpg (deflated 1%)\n",
      "  adding: submit/a805e176-c7b2-4c5f-884b-374c55b97d49_target.jpg (deflated 1%)\n",
      "  adding: submit/5ab1ef2b-d913-4bc1-a8e1-10a8bb465a4b_target.jpg (deflated 0%)\n",
      "  adding: submit/b0daa668-f97e-434f-b71f-31d6ab2ba975_target.jpg (deflated 0%)\n",
      "  adding: submit/445baaa5-be34-4561-9def-2d75673bb96b_target.jpg (deflated 1%)\n",
      "  adding: submit/01314e7c-b23c-489e-8922-dec4b5aafaf1_target.jpg (deflated 0%)\n",
      "  adding: submit/87102cac-6999-4fee-8a99-78850eeeb74f_target.jpg (deflated 0%)\n",
      "  adding: submit/6fcfe6f2-0527-4c74-b6a5-74e7c8c91345_target.jpg (deflated 0%)\n",
      "  adding: submit/2f9c1de5-60d0-494f-99f8-2561e5b59c41_target.jpg (deflated 0%)\n",
      "  adding: submit/6f0289d4-9dcf-4b2a-b5f5-d88410d1c409_target.jpg (deflated 0%)\n",
      "  adding: submit/e9207690-0e14-4b44-afd2-150331998646_target.jpg (deflated 0%)\n",
      "  adding: submit/67080a3a-3c69-4641-8469-58da7595403c_target.jpg (deflated 1%)\n",
      "  adding: submit/79d6e006-b035-4144-a1d2-6bb99820e45a_target.jpg (deflated 0%)\n",
      "  adding: submit/23262fbb-015e-418e-a02f-73e51342714f_target.jpg (deflated 0%)\n",
      "  adding: submit/370fe66f-218d-429d-9d93-5cb9de3d29f0_target.jpg (deflated 0%)\n",
      "  adding: submit/32360762-1e8e-4637-8fbe-d99a1fb8604c_target.jpg (deflated 1%)\n",
      "  adding: submit/f2e62bfd-0231-44f6-b543-79565767a4f0_target.jpg (deflated 0%)\n",
      "  adding: submit/bc7b10ae-67b4-41da-9805-da82ba4a40cf_target.jpg (deflated 1%)\n",
      "  adding: submit/fa705a1e-3ced-4229-9d69-05bd4cd100dd_target.jpg (deflated 0%)\n",
      "  adding: submit/4c9c99b2-45a9-4f1e-9c42-cf1001c6927e_target.jpg (deflated 0%)\n",
      "  adding: submit/50262bb1-dcb0-4dd3-aeb1-be3e88a31749_target.jpg (deflated 0%)\n",
      "  adding: submit/175c525d-e98f-45dd-b139-0ef39618902f_target.jpg (deflated 0%)\n",
      "  adding: submit/cdfb5804-42e7-4ec2-95ff-5f2bf6bb1799_target.jpg (deflated 0%)\n",
      "  adding: submit/cdce77ba-aff3-4082-8839-1fd3759b323f_target.jpg (deflated 0%)\n",
      "  adding: submit/b7d98e74-13c7-410b-bc11-b26732765ae6_target.jpg (deflated 0%)\n",
      "  adding: submit/98332c42-3bf4-4e99-a4f0-3d586d93152d_target.jpg (deflated 0%)\n",
      "  adding: submit/e20b89bb-1edc-4b49-b699-6d8292692abc_target.jpg (deflated 0%)\n",
      "  adding: submit/9aa83c65-517a-42ce-b68b-1dacd90eafe4_target.jpg (deflated 0%)\n",
      "  adding: submit/1fbf6029-b81d-4b6d-a74c-e9ef82941163_target.jpg (deflated 0%)\n",
      "  adding: submit/8420a2ff-62a7-452c-b8d0-d62a542f4306_target.jpg (deflated 0%)\n",
      "  adding: submit/e8f8c872-9b47-453f-92ae-a2af6e795a3c_target.jpg (deflated 0%)\n",
      "  adding: submit/25aafadd-ab8d-42fc-8ff3-16713f691510_target.jpg (deflated 1%)\n",
      "  adding: submit/994b18da-1b79-409f-8b1b-d67858d702b0_target.jpg (deflated 1%)\n",
      "  adding: submit/b3574b11-7c9e-4404-b560-93a6078ebd63_target.jpg (deflated 0%)\n",
      "  adding: submit/fa8c6256-1048-44d0-850a-f5ed58d34de3_target.jpg (deflated 0%)\n",
      "  adding: submit/e14b54c6-5d65-4eb4-a473-a7996f7fba5f_target.jpg (deflated 0%)\n",
      "  adding: submit/643a244d-b734-457b-83b7-21a9c1ee60c4_target.jpg (deflated 0%)\n",
      "  adding: submit/746aa90c-bdda-4f69-b5bf-3eeeddd5c7f5_target.jpg (deflated 0%)\n",
      "  adding: submit/dd6ca5da-530e-4833-9729-4ec7d9bc83a3_target.jpg (deflated 0%)\n",
      "  adding: submit/9a971ad0-4852-4597-8ce6-adff549933aa_target.jpg (deflated 0%)\n",
      "  adding: submit/e833cb48-e1f9-4ab4-9d12-9114eaf3486c_target.jpg (deflated 0%)\n",
      "  adding: submit/f0f0e28b-7633-48aa-9116-e37ebba68820_target.jpg (deflated 0%)\n",
      "  adding: submit/43c2c68f-5c90-448c-a681-e2108fddc8b1_target.jpg (deflated 0%)\n",
      "  adding: submit/d5a7765a-6857-463c-ab26-fac907891670_target.jpg (deflated 0%)\n",
      "  adding: submit/3a0d1940-3b91-4d10-a6fe-7791f26c5511_target.jpg (deflated 0%)\n",
      "  adding: submit/42d3ff7a-3e22-4920-9fb6-4148e2e9073c_target.jpg (deflated 0%)\n",
      "  adding: submit/70be9690-837f-4792-bb6e-72a45075828b_target.jpg (deflated 0%)\n",
      "  adding: submit/a269fd7d-8872-4f13-bb7f-167559b46e1f_target.jpg (deflated 0%)\n",
      "  adding: submit/b7ff1863-1bba-49d0-8c7a-b9cc41ae8fad_target.jpg (deflated 0%)\n",
      "  adding: submit/35b27ece-e382-4a6f-bb2e-b4dcb1b422fd_target.jpg (deflated 0%)\n",
      "  adding: submit/3faf5415-70cd-4cf6-83f0-1b0ee5cb30f2_target.jpg (deflated 0%)\n",
      "  adding: submit/1173d804-dde7-402d-b4c9-c5c68c3a4bfa_target.jpg (deflated 0%)\n",
      "  adding: submit/9eccd5db-6686-464f-b339-996203a983e2_target.jpg (deflated 0%)\n",
      "  adding: submit/5b4f2fb9-5853-4cff-be28-cc4ccdd85c68_target.jpg (deflated 0%)\n",
      "  adding: submit/69cb9e61-5864-4e94-947e-08026800e4fe_target.jpg (deflated 0%)\n",
      "  adding: submit/1420b810-7f03-4230-bafa-1528d112a436_target.jpg (deflated 0%)\n",
      "  adding: submit/914c238a-a0dd-46a2-9171-1a60f5f988b1_target.jpg (deflated 0%)\n",
      "  adding: submit/33fb891a-8644-4af8-941a-ef9fc34fb2df_target.jpg (deflated 0%)\n",
      "  adding: submit/c7c40739-1176-40af-9efc-0bddba14f1ba_target.jpg (deflated 0%)\n",
      "  adding: submit/34aa3e7e-3702-4c87-9938-12526a6245ef_target.jpg (deflated 1%)\n",
      "  adding: submit/6cdc5a10-54ca-40e7-821e-62e255c9fe57_target.jpg (deflated 0%)\n",
      "  adding: submit/dbc5f599-3df1-405a-96a5-afc8df237158_target.jpg (deflated 0%)\n",
      "  adding: submit/27bcc894-2235-4ffc-ae91-cf6e1db49a9f_target.jpg (deflated 0%)\n",
      "  adding: submit/15b3faf8-53c2-4d36-9d9b-d1eb46a95567_target.jpg (deflated 1%)\n",
      "  adding: submit/38230910-8092-444b-ad32-c130d285b4ac_target.jpg (deflated 1%)\n",
      "  adding: submit/53adbf16-8cee-4477-a7a8-560acccd6b37_target.jpg (deflated 0%)\n",
      "  adding: submit/81987d86-e5b5-446b-aebc-019433a742ba_target.jpg (deflated 0%)\n",
      "  adding: submit/1030db1b-06c6-4b19-9c72-2461f01e1e2a_target.jpg (deflated 1%)\n",
      "  adding: submit/bb87cc6b-aef8-447e-8e8e-329fb95b770c_target.jpg (deflated 1%)\n",
      "  adding: submit/f92c7c29-ab64-46d4-91fa-cc75419247bd_target.jpg (deflated 0%)\n",
      "  adding: submit/759a96d3-3c1d-406b-8c6b-b693ba45e801_target.jpg (deflated 0%)\n",
      "  adding: submit/ce7bebf1-4f5a-40dd-b36f-1c04282b5da6_target.jpg (deflated 0%)\n",
      "  adding: submit/a71cfd8d-f658-4ebf-88db-ef354c5f4dd7_target.jpg (deflated 0%)\n",
      "  adding: submit/93be1715-4043-4380-b8d6-d1fe99564a4e_target.jpg (deflated 0%)\n",
      "  adding: submit/8c63e5e2-dd2e-42d8-9a02-cb58ed6de992_target.jpg (deflated 0%)\n",
      "  adding: submit/23796161-aa9e-45b1-bc0b-eb60ae2e9405_target.jpg (deflated 0%)\n",
      "  adding: submit/27f9f017-8d84-473c-ba33-ecc4d3288246_target.jpg (deflated 0%)\n",
      "  adding: submit/982cdb40-9993-432b-b082-9c952e6598c6_target.jpg (deflated 0%)\n",
      "  adding: submit/78a8a531-87ae-4ba4-8938-7ad2a5542ec3_target.jpg (deflated 1%)\n",
      "  adding: submit/73ab7abb-bea3-4e63-bd7b-fc6db01a2327_target.jpg (deflated 1%)\n",
      "  adding: submit/6c2f75b2-9c2e-413a-ac09-fede648eb357_target.jpg (deflated 1%)\n",
      "  adding: submit/6cd817cd-57e3-48c3-bbe7-f38e52b9a017_target.jpg (deflated 1%)\n",
      "  adding: submit/e03f8e81-dee9-4227-b437-14ac3dbe00ef_target.jpg (deflated 1%)\n",
      "  adding: submit/b1a35e03-7cbe-4580-ac92-56c309819dbe_target.jpg (deflated 1%)\n",
      "  adding: submit/5262f6e1-12ad-4598-b9d3-deddc840dc69_target.jpg (deflated 0%)\n",
      "  adding: submit/b9a47367-582f-4a82-84fb-a14786d495e1_target.jpg (deflated 1%)\n",
      "  adding: submit/09f20d0b-757d-416f-8f75-3293302bff4b_target.jpg (deflated 0%)\n",
      "  adding: submit/32a47133-0cf1-4701-aa63-be39dc8eebf4_target.jpg (deflated 0%)\n",
      "  adding: submit/3e3b13ac-84f2-492e-923c-18a0f0ede4fc_target.jpg (deflated 1%)\n",
      "  adding: submit/b0d874ee-d070-4b21-b2b9-7eb236786199_target.jpg (deflated 0%)\n",
      "  adding: submit/7788cda7-c853-4764-aa1d-03e92cf447f0_target.jpg (deflated 0%)\n",
      "  adding: submit/f09a932a-b01d-4ad2-b4cd-ceda7b9f20c1_target.jpg (deflated 0%)\n",
      "  adding: submit/c5cb4f71-d0aa-48ef-a469-a066fd60f415_target.jpg (deflated 1%)\n",
      "  adding: submit/e9509d9a-c880-4f9a-be7c-ad112aa5722a_target.jpg (deflated 0%)\n",
      "  adding: submit/a1431689-3852-40e2-a68d-d2d19f49c486_target.jpg (deflated 1%)\n",
      "  adding: submit/404783c8-7e4f-4316-8bc8-57bb967b6e65_target.jpg (deflated 0%)\n",
      "  adding: submit/3eaba32e-446d-40f2-ac0e-28bb36cab465_target.jpg (deflated 0%)\n",
      "  adding: submit/f4d68165-203d-4a65-a13a-0b1aa2253711_target.jpg (deflated 0%)\n",
      "  adding: submit/6104d25a-a5e3-4e03-8643-109fdeead26c_target.jpg (deflated 0%)\n",
      "  adding: submit/4452fb27-2ecf-43a1-94c2-09270d664e0d_target.jpg (deflated 0%)\n",
      "  adding: submit/7a124dc4-1dcf-4481-81ec-2ef2444effbe_target.jpg (deflated 0%)\n",
      "  adding: submit/81c369bf-99de-4e4b-ba4b-27bd168017f0_target.jpg (deflated 0%)\n",
      "  adding: submit/3109d34a-8683-4645-9085-d62df471f6ae_target.jpg (deflated 0%)\n",
      "  adding: submit/3b1f8d2e-4bd0-49dd-a993-f073b2c6c566_target.jpg (deflated 0%)\n",
      "  adding: submit/1e7f51f0-c4d3-42ce-a25b-adee368d7b84_target.jpg (deflated 1%)\n",
      "  adding: submit/4e388dec-f9d6-4d0b-8be2-fcb96c18f2c5_target.jpg (deflated 1%)\n",
      "  adding: submit/b2ecc339-c9a4-4bc1-a078-5f7c887da60c_target.jpg (deflated 0%)\n",
      "  adding: submit/b16bbdbe-d623-4fdc-ba04-acdd2e4e9480_target.jpg (deflated 0%)\n",
      "  adding: submit/aa6c6420-6727-4dee-9ac4-c57b3e4618ea_target.jpg (deflated 0%)\n",
      "  adding: submit/64277277-1887-489a-8aa3-e54755140c47_target.jpg (deflated 1%)\n",
      "  adding: submit/c9dbcef0-3d42-4909-acf0-14812629b0c3_target.jpg (deflated 0%)\n",
      "  adding: submit/3e6a2d73-281c-4deb-ac75-7ac161e606a9_target.jpg (deflated 1%)\n",
      "  adding: submit/8de8a2d6-a101-4457-84ed-f856e3cc577a_target.jpg (deflated 0%)\n",
      "  adding: submit/b4df766f-5c2d-4154-943e-a04516c90026_target.jpg (deflated 1%)\n",
      "  adding: submit/9c08e003-8c9a-4b41-b965-c06d7c1e3817_target.jpg (deflated 0%)\n",
      "  adding: submit/51967852-59b4-48cb-a539-436ac807b594_target.jpg (deflated 0%)\n",
      "  adding: submit/a42bec27-7b24-4f32-9b4c-242b89dc1e29_target.jpg (deflated 0%)\n",
      "  adding: submit/594b2668-c537-4400-bb78-033eeafaf5ff_target.jpg (deflated 1%)\n",
      "  adding: submit/b5230442-f396-41c8-9754-1cd42b66d3a2_target.jpg (deflated 0%)\n",
      "  adding: submit/fa0358d0-8958-4837-8ea1-dc6348cd15f2_target.jpg (deflated 0%)\n",
      "  adding: submit/20f9de86-cce1-4631-8e94-44cb7f0049df_target.jpg (deflated 0%)\n",
      "  adding: submit/b10b14fd-f6ae-4472-81da-0f481bcf3ab2_target.jpg (deflated 0%)\n",
      "  adding: submit/4f548319-6915-4f6f-a1b7-61a705b72927_target.jpg (deflated 1%)\n",
      "  adding: submit/8823a221-8367-4895-a1d3-04f65cebeca5_target.jpg (deflated 0%)\n",
      "  adding: submit/8fc4e405-dc05-4ee5-af8f-049df9c5bc04_target.jpg (deflated 0%)\n",
      "  adding: submit/e4504c7f-8bb8-426a-9d04-d9efc6ef5b7a_target.jpg (deflated 0%)\n",
      "  adding: submit/f3a719af-0352-4252-b65b-b0f9d9c71188_target.jpg (deflated 0%)\n",
      "  adding: submit/973d0782-d65b-4e31-aeac-31aac7e4557b_target.jpg (deflated 0%)\n",
      "  adding: submit/31bc8bc4-b1be-4075-88c3-e8f0e37dbbc4_target.jpg (deflated 0%)\n",
      "  adding: submit/97bc229d-afb1-4923-a842-cc7b6ebc9bb2_target.jpg (deflated 0%)\n",
      "  adding: submit/97d87782-398c-479c-94ca-0ef487d45939_target.jpg (deflated 0%)\n",
      "  adding: submit/ebf8ac0d-e77c-4396-9b85-5e64b78efee0_target.jpg (deflated 0%)\n",
      "  adding: submit/f03660a0-47a8-445b-b91b-936c8ca1772d_target.jpg (deflated 0%)\n",
      "  adding: submit/f355b820-dcc7-40d2-ac89-014ea03fefe4_target.jpg (deflated 0%)\n",
      "  adding: submit/d29f4239-c846-49f0-bae9-2f369742e366_target.jpg (deflated 0%)\n",
      "  adding: submit/16f5f589-ad9e-48ee-91be-5e36105ee093_target.jpg (deflated 0%)\n",
      "  adding: submit/f8eaa8d3-b440-4701-bcb5-12df6b15f6e7_target.jpg (deflated 1%)\n",
      "  adding: submit/2d2bac33-b9d5-4ca9-b052-c8e70f55df1d_target.jpg (deflated 0%)\n",
      "  adding: submit/310236cd-8529-45b0-9fdd-c1a872aa85ca_target.jpg (deflated 0%)\n",
      "  adding: submit/0061c3ab-9900-428e-8428-395c6629792a_target.jpg (deflated 0%)\n",
      "  adding: submit/9f2e6182-d83e-4fd3-9aa0-f58d3b801279_target.jpg (deflated 0%)\n",
      "  adding: submit/50f870be-1ab5-49a3-a4b1-66197a108739_target.jpg (deflated 0%)\n",
      "  adding: submit/2b69b013-ddbc-415f-9ab1-7f8133662bbd_target.jpg (deflated 1%)\n",
      "  adding: submit/7c28f576-b91e-4667-88a8-83a5c7f456c8_target.jpg (deflated 0%)\n",
      "  adding: submit/c173af56-2c95-43e5-83c7-2e1314d31865_target.jpg (deflated 0%)\n",
      "  adding: submit/80446915-c9a4-46a8-842d-2ecc2046b8e2_target.jpg (deflated 0%)\n",
      "  adding: submit/c546199d-a1ee-4e91-a3ca-350b4c96b4ef_target.jpg (deflated 0%)\n",
      "  adding: submit/e49372d5-c4f0-425e-9575-83d4cc92afb2_target.jpg (deflated 0%)\n",
      "  adding: submit/29598c22-7eea-48b0-9c16-e1ddb2dbb3b3_target.jpg (deflated 0%)\n",
      "  adding: submit/ac4843c4-4af6-43d7-8d71-1c7f72802e17_target.jpg (deflated 0%)\n",
      "  adding: submit/f03e1cb0-0420-4672-b9c8-ff53221b020f_target.jpg (deflated 0%)\n",
      "  adding: submit/25944071-ab79-4439-b062-b92c06c32fc6_target.jpg (deflated 0%)\n",
      "  adding: submit/ba70f16f-b70c-430b-84bf-76fd380d5fc4_target.jpg (deflated 0%)\n",
      "  adding: submit/d34be448-9dc1-4733-8971-a5d72a30b4f4_target.jpg (deflated 0%)\n",
      "  adding: submit/1eaed6b3-83b2-4ec1-a5bb-c6f250d3cc53_target.jpg (deflated 0%)\n",
      "  adding: submit/1b290b6c-953a-49c0-ae55-ee32f3606cc1_target.jpg (deflated 0%)\n",
      "  adding: submit/8c60cc9a-1aa8-46a8-ba1f-9bab174e1824_target.jpg (deflated 1%)\n",
      "  adding: submit/d374e7f9-d0c7-4e0c-866a-7bb709c4b8c8_target.jpg (deflated 1%)\n",
      "  adding: submit/0cfe0623-07c4-41d3-9bd3-381c2c6ba5c7_target.jpg (deflated 0%)\n",
      "  adding: submit/12dc45bb-0b74-42a0-b2c4-b6b6ee650979_target.jpg (deflated 1%)\n",
      "  adding: submit/8e9b3a8b-88f6-412d-94c3-39cc4584b821_target.jpg (deflated 1%)\n",
      "  adding: submit/90df02ad-7d87-4c62-a734-885b3e9c67dd_target.jpg (deflated 0%)\n",
      "  adding: submit/eabc6dd5-77bc-4e3e-a36e-a39609fa43a9_target.jpg (deflated 0%)\n",
      "  adding: submit/4bffa221-245e-4271-99aa-65c9ed899ef8_target.jpg (deflated 0%)\n",
      "  adding: submit/337dfd09-ec78-4153-89e5-8b05a1c472c6_target.jpg (deflated 0%)\n",
      "  adding: submit/32c09b69-c6ef-48d1-b0a1-a44b0025fc55_target.jpg (deflated 1%)\n",
      "  adding: submit/7605b3d3-7036-4aff-9dc6-2fc7e4698454_target.jpg (deflated 0%)\n",
      "  adding: submit/728a98ba-3be9-4c00-b000-a736249c9311_target.jpg (deflated 0%)\n",
      "  adding: submit/7a74e984-cc95-45c6-b213-bda6df3121e7_target.jpg (deflated 0%)\n",
      "  adding: submit/ade3bcfc-507c-4ab3-a61d-70f3b028510b_target.jpg (deflated 0%)\n",
      "  adding: submit/85b825ff-8606-44e6-b211-e3d745c109a6_target.jpg (deflated 0%)\n",
      "  adding: submit/6357a375-dacb-433b-9029-93b0fc528216_target.jpg (deflated 0%)\n",
      "  adding: submit/7cfd12a4-1384-43e3-b987-551b59cf1c6d_target.jpg (deflated 0%)\n",
      "  adding: submit/bf14d596-32fe-4327-a6a2-47fcc81d820a_target.jpg (deflated 0%)\n",
      "  adding: submit/8e5aa82d-ed80-434e-89b2-5f17360334b8_target.jpg (deflated 0%)\n",
      "  adding: submit/1af9566a-6bfa-4122-a7c0-e7167fa9091a_target.jpg (deflated 0%)\n",
      "  adding: submit/de12c26d-588f-4ced-a0c8-f32dbe4f51a8_target.jpg (deflated 0%)\n",
      "  adding: submit/af84f465-37c4-437e-aec1-b7f066dd0a44_target.jpg (deflated 0%)\n",
      "  adding: submit/fc3d2aa0-51ac-421e-b0a3-2cefb599c6e9_target.jpg (deflated 0%)\n",
      "  adding: submit/82454119-3fe2-43af-bbe0-234454de3f4b_target.jpg (deflated 0%)\n",
      "  adding: submit/51fbe12e-6146-4065-8dc7-714b1d79dd56_target.jpg (deflated 1%)\n",
      "  adding: submit/1d58915e-0d2c-4eb9-b0e6-ef0b57b09a52_target.jpg (deflated 0%)\n",
      "  adding: submit/68997840-f69c-4052-82b4-cbf49520d8f5_target.jpg (deflated 1%)\n",
      "  adding: submit/da2ef3be-26da-4727-b1b4-0ac9d84598dd_target.jpg (deflated 1%)\n",
      "  adding: submit/99cad1e1-bbdd-4ad8-bd80-be60867887d7_target.jpg (deflated 0%)\n",
      "  adding: submit/fb1398e6-58aa-4959-ad4c-7940cff9dbc8_target.jpg (deflated 0%)\n",
      "  adding: submit/26743469-39bf-4854-b792-6bc890594b38_target.jpg (deflated 0%)\n",
      "  adding: submit/3ba9eb4f-d324-4004-84fc-f27f1970f032_target.jpg (deflated 1%)\n",
      "  adding: submit/076b8a73-4459-456a-a127-9caa947e5f60_target.jpg (deflated 0%)\n",
      "  adding: submit/3d064c15-700f-4cbf-868e-84dedfcba1f6_target.jpg (deflated 0%)\n",
      "  adding: submit/d147c218-a860-4395-b066-e9ab27272e14_target.jpg (deflated 0%)\n",
      "  adding: submit/edd3e325-5b50-4c02-b75a-43a91bd70959_target.jpg (deflated 0%)\n",
      "  adding: submit/1e67596d-aadd-43c8-9e30-3c2169c1e3f7_target.jpg (deflated 1%)\n",
      "  adding: submit/5d92b2e9-ad24-4d34-bd12-9c1ea35de8fc_target.jpg (deflated 0%)\n",
      "  adding: submit/bb095cbb-df6d-4d08-a4b2-99d3cfbd0656_target.jpg (deflated 0%)\n",
      "  adding: submit/3e94babe-4d0a-4714-abd9-1c8469572203_target.jpg (deflated 1%)\n",
      "  adding: submit/2004ac6b-20c4-42e4-a31b-47dca76967de_target.jpg (deflated 0%)\n",
      "  adding: submit/fca29707-6bb5-41c1-a74f-8b29eef1b974_target.jpg (deflated 0%)\n",
      "  adding: submit/05da1083-11c0-4653-9306-6015f10ceb40_target.jpg (deflated 0%)\n",
      "  adding: submit/507861fe-2e76-4dcb-8898-3d52eb88d87b_target.jpg (deflated 0%)\n",
      "  adding: submit/a37e96b4-0d4c-46d4-b629-a6c059475e59_target.jpg (deflated 0%)\n",
      "  adding: submit/6279df33-d564-41f5-9b23-7395c425827f_target.jpg (deflated 0%)\n",
      "  adding: submit/cd2b1268-4975-4220-9460-471de8116951_target.jpg (deflated 0%)\n",
      "  adding: submit/4782b2f2-4e50-4924-9789-3a58bbfcc61b_target.jpg (deflated 0%)\n",
      "  adding: submit/35ef9fb3-a966-475b-a300-3e54cee8abb0_target.jpg (deflated 0%)\n",
      "  adding: submit/6b55d2b6-9146-4712-a2f5-4c1441227424_target.jpg (deflated 0%)\n",
      "  adding: submit/df2d3bbb-ebb4-4017-8985-65defd96067e_target.jpg (deflated 1%)\n",
      "  adding: submit/200c30e1-1a99-41e9-9ee4-9921b093108b_target.jpg (deflated 0%)\n",
      "  adding: submit/e3dabb5e-f09b-4c52-85be-81ab06d85103_target.jpg (deflated 1%)\n",
      "  adding: submit/e301e7d8-62a2-46b9-a78d-2f92609e7790_target.jpg (deflated 0%)\n",
      "  adding: submit/db8f0b58-6a79-4df3-8713-72b3085882a5_target.jpg (deflated 0%)\n",
      "  adding: submit/9534551c-72df-4425-bfd3-4a070d9beb18_target.jpg (deflated 0%)\n",
      "  adding: submit/2068f5cb-f5da-460d-b10d-97ad0d8f7563_target.jpg (deflated 0%)\n",
      "  adding: submit/9e6e26e8-1dae-42c2-bc33-2747d78fa388_target.jpg (deflated 0%)\n",
      "  adding: submit/7708d6f6-5a17-42ad-9f0f-cff55c9ce21d_target.jpg (deflated 0%)\n",
      "  adding: submit/e1cfd951-943a-45f4-b942-5be61bf863f3_target.jpg (deflated 1%)\n",
      "  adding: submit/5e516060-5989-41df-8959-c77fcd6674c9_target.jpg (deflated 1%)\n",
      "  adding: submit/2f71d06f-2af1-4be2-8616-baa8474a5359_target.jpg (deflated 0%)\n",
      "  adding: submit/d943e783-4359-403e-8f89-f43e3b643045_target.jpg (deflated 0%)\n",
      "  adding: submit/6b22b361-cb2f-4c5b-b883-f25e782f3f03_target.jpg (deflated 0%)\n",
      "  adding: submit/1c37f07d-34ac-480c-8e60-0c3911e6bc32_target.jpg (deflated 0%)\n",
      "  adding: submit/0b8b2401-f37f-45fb-a47a-16b799694683_target.jpg (deflated 0%)\n",
      "  adding: submit/589e0914-c185-4c1b-8057-26d1f1d5dd27_target.jpg (deflated 0%)\n",
      "  adding: submit/e7fc70cd-5868-4514-a6a5-8905b1c07650_target.jpg (deflated 1%)\n",
      "  adding: submit/40f37bc1-a05e-4957-8c50-267a9df1c0ef_target.jpg (deflated 0%)\n",
      "  adding: submit/7e94096e-004f-4107-aee4-d2cded3c6ca6_target.jpg (deflated 0%)\n",
      "  adding: submit/c00aafaf-7017-4acb-a33b-0d9765eb6240_target.jpg (deflated 1%)\n",
      "  adding: submit/1bb7cd20-049a-47ae-be3f-2bca22fc4d45_target.jpg (deflated 0%)\n",
      "  adding: submit/76ba66cd-869d-4ad3-8d7e-953cf2996c7d_target.jpg (deflated 0%)\n",
      "  adding: submit/4eceda6c-ef69-4277-b117-bb116ec59108_target.jpg (deflated 0%)\n",
      "  adding: submit/405bf94c-d6cf-4fab-9c97-64fec674c2f8_target.jpg (deflated 0%)\n",
      "  adding: submit/145e2943-a195-478f-b1e7-27fa7955c9f6_target.jpg (deflated 1%)\n",
      "  adding: submit/b76b279a-941e-4503-a756-e58fa62484c5_target.jpg (deflated 0%)\n",
      "  adding: submit/0d51e438-531a-4020-94d3-3eaaa90125f7_target.jpg (deflated 0%)\n",
      "  adding: submit/907a457d-86bb-411e-b2c8-ca51f5d01187_target.jpg (deflated 0%)\n",
      "  adding: submit/51dd8661-becc-459d-a70e-c44ac1d2233e_target.jpg (deflated 1%)\n",
      "  adding: submit/f1dcd63d-dffe-433d-b7de-26a49de41af0_target.jpg (deflated 0%)\n",
      "  adding: submit/2f3ab57e-5ade-43a7-a5d2-204b20949cc8_target.jpg (deflated 0%)\n",
      "  adding: submit/dccee4cc-8bc2-48bd-af8c-0cbcd3c848b0_target.jpg (deflated 0%)\n",
      "  adding: submit/7e67acf5-281d-4ec5-ba60-c2b6592beb9e_target.jpg (deflated 0%)\n",
      "  adding: submit/3ff9cb8b-ecbc-4746-85c3-9716b952e009_target.jpg (deflated 0%)\n",
      "  adding: submit/5abe1e88-252d-4fa0-930f-e2cdcf377a6b_target.jpg (deflated 0%)\n",
      "  adding: submit/6fc2d3ec-48df-4f70-9319-0c90f7e63f68_target.jpg (deflated 0%)\n",
      "  adding: submit/6c97be7b-6823-4dc1-a7a5-d8b50a134865_target.jpg (deflated 0%)\n",
      "  adding: submit/383fd1b8-146a-4b12-b3bd-ce278d115495_target.jpg (deflated 0%)\n",
      "  adding: submit/23183f99-67a2-40f5-aac6-04b87cae8a20_target.jpg (deflated 0%)\n",
      "  adding: submit/68408086-5673-4543-8b1e-db322a2248be_target.jpg (deflated 0%)\n",
      "  adding: submit/056182e2-73f2-43be-992b-c4aea0742f1f_target.jpg (deflated 0%)\n",
      "  adding: submit/cbb12969-2963-418c-abbf-465532554112_target.jpg (deflated 0%)\n",
      "  adding: submit/8f7221df-0ba8-476a-93d1-303d02782d40_target.jpg (deflated 0%)\n",
      "  adding: submit/897c1d46-fd92-4244-8913-5f9ccf75984f_target.jpg (deflated 1%)\n",
      "  adding: submit/ff92199b-91f7-40f0-b700-82076a2b02e6_target.jpg (deflated 0%)\n",
      "  adding: submit/8768999e-8457-4924-8efb-0cc06ca0b64b_target.jpg (deflated 0%)\n",
      "  adding: submit/a0e22c61-e979-468f-812d-e959c7d3de06_target.jpg (deflated 0%)\n",
      "  adding: submit/8cd91b80-059c-4b38-8b5a-af9f1d5d40f0_target.jpg (deflated 0%)\n",
      "  adding: submit/a7a1e34a-8af1-47b2-9d46-a1ddb5f76c36_target.jpg (deflated 0%)\n",
      "  adding: submit/eb8616bb-5860-4f15-b749-308a97cceb60_target.jpg (deflated 0%)\n",
      "  adding: submit/0f9e5c90-abcb-469e-b5b1-d93d8f49c1d8_target.jpg (deflated 0%)\n",
      "  adding: submit/68c3871b-4134-48ac-8c53-2d2cca8dd3dc_target.jpg (deflated 0%)\n",
      "  adding: submit/661b87a5-157a-41bb-a3da-b13dc490e67d_target.jpg (deflated 0%)\n",
      "  adding: submit/eaac667a-22dd-4d4b-b2b8-77aaa762ee5a_target.jpg (deflated 0%)\n",
      "  adding: submit/ca2dacf2-7f40-4872-b190-4370ad04bebf_target.jpg (deflated 0%)\n",
      "  adding: submit/ae4ca260-72d6-441f-9f7f-abd668e1884e_target.jpg (deflated 0%)\n",
      "  adding: submit/752b9926-e9ab-42ae-9756-b69faf200d29_target.jpg (deflated 0%)\n",
      "  adding: submit/8f7a0736-1d9b-4b2c-9f1a-3557a31b54c8_target.jpg (deflated 0%)\n",
      "  adding: submit/1bf71f47-80bb-45f0-ac1c-119390b9a007_target.jpg (deflated 0%)\n",
      "  adding: submit/b9616547-a442-43a2-ba2c-ebbca2011113_target.jpg (deflated 0%)\n",
      "  adding: submit/a86e3de8-f481-4c9a-8832-34027800c21d_target.jpg (deflated 0%)\n",
      "  adding: submit/c5191e2d-1945-43ba-bcdc-5ec0c6dc4787_target.jpg (deflated 1%)\n",
      "  adding: submit/dad5e155-1cff-478c-837f-b3359d4c596b_target.jpg (deflated 0%)\n",
      "  adding: submit/98a38a69-cde8-45f7-9926-28ef4e2286c3_target.jpg (deflated 1%)\n",
      "  adding: submit/52b567cb-15fa-4896-8276-9deb6b059325_target.jpg (deflated 1%)\n",
      "  adding: submit/b6ad331a-2035-4fab-9501-2137ea0dd965_target.jpg (deflated 0%)\n",
      "  adding: submit/771c64c2-6365-4112-bac3-ce6e30b024ca_target.jpg (deflated 1%)\n",
      "  adding: submit/baf4892b-fdbd-4b19-8b95-4603b5cdc945_target.jpg (deflated 0%)\n",
      "  adding: submit/5e6594d2-779f-4d28-9d43-a66cbc93d4e0_target.jpg (deflated 0%)\n",
      "  adding: submit/f311abcc-24fd-4b3f-9d5a-27e1c081295f_target.jpg (deflated 0%)\n",
      "  adding: submit/a029255b-3229-4d37-9aae-9e9545223328_target.jpg (deflated 0%)\n",
      "  adding: submit/883b957b-2c5a-4e14-b88d-abc0080e51e2_target.jpg (deflated 0%)\n",
      "  adding: submit/f4c65611-2b90-4bf6-a001-154a969dd724_target.jpg (deflated 0%)\n",
      "  adding: submit/542b176d-fbc2-46ea-aea0-f63a216428c0_target.jpg (deflated 0%)\n",
      "  adding: submit/5215ccd8-c924-4902-b0b1-157b46ce27ce_target.jpg (deflated 0%)\n",
      "  adding: submit/7b5caec0-75cd-49d6-a21f-abb28f26e3cf_target.jpg (deflated 1%)\n",
      "  adding: submit/8215f43e-1c70-4542-9dd2-7cdb8fc62229_target.jpg (deflated 0%)\n",
      "  adding: submit/91bb0a5e-bdc0-4e61-8491-ba2fb021479c_target.jpg (deflated 0%)\n",
      "  adding: submit/11ff9a83-a725-42e0-8502-177f08ba5df9_target.jpg (deflated 0%)\n",
      "  adding: submit/e13ee8f0-4b70-4d58-b6bc-9ebd7ad94d04_target.jpg (deflated 0%)\n",
      "  adding: submit/27014040-2786-4556-a6d1-90cbc5ad6d40_target.jpg (deflated 1%)\n",
      "  adding: submit/5a3b7f5a-c8b0-49d0-aba4-b3f80405976c_target.jpg (deflated 0%)\n",
      "  adding: submit/03785606-84b8-441f-869c-02eff56b7e63_target.jpg (deflated 0%)\n",
      "  adding: submit/901dcb18-afa6-4bea-805f-7c45a79f0c8b_target.jpg (deflated 0%)\n",
      "  adding: submit/ea67d489-0aff-4468-a49c-38907aeb5519_target.jpg (deflated 0%)\n",
      "  adding: submit/44641611-64f7-4bc0-b90c-99d5d54d2d55_target.jpg (deflated 1%)\n",
      "  adding: submit/eedcd7f1-2935-4438-81c3-ff16f3aae3a5_target.jpg (deflated 0%)\n",
      "  adding: submit/8d06bab5-2e38-4900-8dce-4293d605e93f_target.jpg (deflated 0%)\n",
      "  adding: submit/a1ca1ff8-fcec-449b-ad7a-6aea38c40719_target.jpg (deflated 0%)\n",
      "  adding: submit/fff7e397-f9cf-4c6e-90b5-fce1dd88e0ae_target.jpg (deflated 1%)\n",
      "  adding: submit/b644cb2c-fd61-4bfd-ae8b-3cc2a3229f7d_target.jpg (deflated 0%)\n",
      "  adding: submit/66ea353c-6c95-49bb-a617-b7aac933fda6_target.jpg (deflated 0%)\n",
      "  adding: submit/cc64a934-8a62-47db-b064-54332c014634_target.jpg (deflated 0%)\n",
      "  adding: submit/d04d1d51-2bd8-4f16-9ab9-db3c13ec7df9_target.jpg (deflated 1%)\n",
      "  adding: submit/4648e727-af4e-479b-99d5-011b54d84aed_target.jpg (deflated 0%)\n",
      "  adding: submit/8d49ddc9-55c0-4c45-9c85-982b2996e80d_target.jpg (deflated 0%)\n",
      "  adding: submit/485a2b57-df54-4398-8b29-fee43be5f7ad_target.jpg (deflated 0%)\n",
      "  adding: submit/50858e4f-61d7-4514-823c-48e3884fa9e9_target.jpg (deflated 0%)\n",
      "  adding: submit/45117a3a-8de9-43e6-8044-ffe099ee72da_target.jpg (deflated 1%)\n",
      "  adding: submit/7c2adf63-91e0-40d6-80b9-39ad630ec620_target.jpg (deflated 0%)\n",
      "  adding: submit/8fc7a469-f177-4bf5-9b43-b06e8b9fadce_target.jpg (deflated 0%)\n",
      "  adding: submit/316e7762-0128-4af5-aa67-f02bdf0731a5_target.jpg (deflated 1%)\n",
      "  adding: submit/3210ec03-6fe3-476d-8ec1-8c0579014da2_target.jpg (deflated 0%)\n",
      "  adding: submit/d8181601-c131-467e-9a0c-7d24ca7e4784_target.jpg (deflated 0%)\n",
      "  adding: submit/3e5acfae-57d9-4b09-bcf5-aeaa8c4c3e5d_target.jpg (deflated 0%)\n",
      "  adding: submit/2e7b9695-401e-49b6-8f47-37d87ff1a02d_target.jpg (deflated 1%)\n",
      "  adding: submit/39141424-4356-4fab-bc9f-e070d067c5e5_target.jpg (deflated 0%)\n",
      "  adding: submit/65a32f6b-c865-4a5f-991d-5ce67e69fa49_target.jpg (deflated 0%)\n",
      "  adding: submit/bdf76b5e-1323-4c05-9628-72525dc998ff_target.jpg (deflated 0%)\n",
      "  adding: submit/b2ca4c0c-f034-42ca-83bf-27302a101f90_target.jpg (deflated 0%)\n",
      "  adding: submit/76237913-1e77-439f-9406-26d1c61de501_target.jpg (deflated 0%)\n",
      "  adding: submit/8cd6dbe4-b3ab-436c-ba34-4690efbde4e7_target.jpg (deflated 0%)\n",
      "  adding: submit/df437d00-2e96-468e-b3e6-ad613041bdae_target.jpg (deflated 0%)\n",
      "  adding: submit/8dd173ec-633f-442d-a101-43096f0ad3a6_target.jpg (deflated 1%)\n",
      "  adding: submit/434c8e5a-9444-4a93-ba85-d11e0b6d7dcb_target.jpg (deflated 0%)\n",
      "  adding: submit/fcb48bbc-db1b-4860-86e2-43a99175dfa2_target.jpg (deflated 0%)\n",
      "  adding: submit/ac9ac61b-91f6-403b-8507-bc6217181840_target.jpg (deflated 0%)\n",
      "  adding: submit/b93d34f7-d47a-4ecf-b072-b41f37b7d858_target.jpg (deflated 0%)\n",
      "  adding: submit/0e91a0f8-51bb-41a3-9d57-7a5ed8579cac_target.jpg (deflated 1%)\n",
      "  adding: submit/0e158897-34f9-4ae9-8aa9-11cd77542f5b_target.jpg (deflated 0%)\n",
      "  adding: submit/0a4897b3-efef-40ad-8780-181a13722f01_target.jpg (deflated 1%)\n",
      "  adding: submit/26bfd268-f857-493e-ba69-17fd8e48bee4_target.jpg (deflated 1%)\n",
      "  adding: submit/624fa329-5cd9-4e94-9bfe-758b74550f0b_target.jpg (deflated 0%)\n",
      "  adding: submit/8d956d50-6ee8-4b66-8daf-9659970d3542_target.jpg (deflated 1%)\n",
      "  adding: submit/9eb1ec71-7a8b-4109-a39e-e284c214716e_target.jpg (deflated 0%)\n",
      "  adding: submit/337e2075-8e84-4062-ad87-128f0785464f_target.jpg (deflated 0%)\n",
      "  adding: submit/91b9eed4-8836-4320-a59b-f15146448aa0_target.jpg (deflated 0%)\n",
      "  adding: submit/8a53ac60-3262-4be3-a2e2-0979835db86e_target.jpg (deflated 0%)\n",
      "  adding: submit/5a2c0fe3-9668-490f-aac2-90026c18871e_target.jpg (deflated 0%)\n",
      "  adding: submit/8a5d3f68-3d06-42e3-902b-a9267009d363_target.jpg (deflated 0%)\n",
      "  adding: submit/9ac0009f-d593-4923-87fd-f0733b27eff0_target.jpg (deflated 0%)\n",
      "  adding: submit/ba2b96c9-1f67-45d7-8093-4f4d5fcff1d2_target.jpg (deflated 0%)\n",
      "  adding: submit/649ccf52-ffaf-46f6-a8a3-1de41ed117ce_target.jpg (deflated 0%)\n",
      "  adding: submit/df1a0281-453e-421b-9565-9108e4af14b5_target.jpg (deflated 0%)\n",
      "  adding: submit/822c676e-3c76-422e-a9e1-468eec32e5ed_target.jpg (deflated 1%)\n",
      "  adding: submit/d5aa6fc2-4efb-4203-87b1-e6e6758c48a0_target.jpg (deflated 0%)\n",
      "  adding: submit/d0c6c3dd-898e-4ac6-be78-ca76532a894c_target.jpg (deflated 0%)\n",
      "  adding: submit/0cab6e55-c5e5-47eb-bb8b-cb87ceaf27cb_target.jpg (deflated 0%)\n",
      "  adding: submit/26d76781-e53c-4de7-93d5-fa6a71fb44b5_target.jpg (deflated 0%)\n",
      "  adding: submit/a0ae570b-f059-44da-a904-35549b5fd82a_target.jpg (deflated 0%)\n",
      "  adding: submit/142e3d4a-2ed3-4f9a-adf4-b15f5411bfc5_target.jpg (deflated 0%)\n",
      "  adding: submit/1ee6eea1-c574-4ee7-8e40-13fc1b73f2f1_target.jpg (deflated 1%)\n",
      "  adding: submit/fd8a1995-148e-41fe-bb70-acd5202728a0_target.jpg (deflated 1%)\n",
      "  adding: submit/b4be9df9-8ce4-46c1-acb1-eb3f0684a2a6_target.jpg (deflated 0%)\n",
      "  adding: submit/554a2bf8-822a-4b7e-aab0-1c86c9af6fcd_target.jpg (deflated 1%)\n",
      "  adding: submit/198c6382-97cc-408a-b296-af8bd3eb2b02_target.jpg (deflated 0%)\n",
      "  adding: submit/a93db9b8-8932-4132-a201-c0f1472e00cc_target.jpg (deflated 0%)\n",
      "  adding: submit/19146a7d-ffc6-4801-acb2-be81e31e4b54_target.jpg (deflated 0%)\n",
      "  adding: submit/eddaa060-5446-46de-92e7-9000b811b23b_target.jpg (deflated 1%)\n",
      "  adding: submit/1825e2a4-6da2-482b-80ba-3c81cd3b9325_target.jpg (deflated 1%)\n",
      "  adding: submit/60b66d5b-6565-4c9b-a814-8847e42867b1_target.jpg (deflated 1%)\n",
      "  adding: submit/359af080-ffd0-4791-8688-d4b7db141779_target.jpg (deflated 0%)\n",
      "  adding: submit/ac71b34d-d163-4716-8435-258da9e1a71a_target.jpg (deflated 1%)\n",
      "  adding: submit/c3430954-01c1-4fc9-bd12-19a4134ec51c_target.jpg (deflated 1%)\n",
      "  adding: submit/acf2c66a-041d-4e74-9cd6-bf90ad23a94d_target.jpg (deflated 0%)\n",
      "  adding: submit/b0d463a4-1746-4396-8e52-2f79c8af3128_target.jpg (deflated 0%)\n",
      "  adding: submit/84ad96aa-85e3-43c8-83d6-aa977c3a5c35_target.jpg (deflated 1%)\n",
      "  adding: submit/f82ecb25-a477-4ff5-bad8-69f05f7e90a4_target.jpg (deflated 0%)\n",
      "  adding: submit/e4d4990e-9338-47f4-8ee7-30ca88fc1dc6_target.jpg (deflated 1%)\n",
      "  adding: submit/0d12136f-058f-4386-9cbc-325b79ab98ac_target.jpg (deflated 0%)\n",
      "  adding: submit/88149fdc-aa1c-4ad7-b6c3-d3a423ed5967_target.jpg (deflated 0%)\n",
      "  adding: submit/11853758-754c-47e9-96dd-2592a71052a7_target.jpg (deflated 0%)\n",
      "  adding: submit/910d540e-0a55-475a-b40b-4e2818f01776_target.jpg (deflated 0%)\n",
      "  adding: submit/63f8aada-0261-4378-ada9-cc741fb24255_target.jpg (deflated 0%)\n",
      "  adding: submit/364c93f6-59e5-4a17-bbc2-3220e67be00a_target.jpg (deflated 0%)\n",
      "  adding: submit/adc0bb7a-d8fa-4af6-8f9b-c3045b8afdbc_target.jpg (deflated 0%)\n",
      "  adding: submit/96d632f9-111f-47fe-a987-d79f25b53239_target.jpg (deflated 1%)\n",
      "  adding: submit/e23496cb-2b1d-41c1-9f9d-a37cf139fe0b_target.jpg (deflated 0%)\n",
      "  adding: submit/405167b1-7ef1-4ef4-8dfa-cc342500d951_target.jpg (deflated 0%)\n",
      "  adding: submit/0a5a2622-e12b-4430-80bf-b20408c05a8a_target.jpg (deflated 0%)\n",
      "  adding: submit/2c4069ad-9483-469c-b03d-bac2fffad919_target.jpg (deflated 0%)\n",
      "  adding: submit/5c0f3c92-4551-4c78-9f0c-e20ed7e9f33f_target.jpg (deflated 0%)\n",
      "  adding: submit/5f7705b8-f039-48ce-9901-3d349030c0c2_target.jpg (deflated 0%)\n",
      "  adding: submit/82247dfa-8283-4f7b-b6fa-73e54e3b05d3_target.jpg (deflated 0%)\n",
      "  adding: submit/547ed063-6406-4fd8-bbef-3e02e5f6b685_target.jpg (deflated 0%)\n",
      "  adding: submit/35d3db18-efcd-4196-bcf6-3119dc87844a_target.jpg (deflated 0%)\n",
      "  adding: submit/b852515b-5ad4-4c10-8f62-98e70a7beeae_target.jpg (deflated 0%)\n",
      "  adding: submit/ede0d914-ab47-453b-b0f8-e25bb7e29548_target.jpg (deflated 1%)\n",
      "  adding: submit/c5a81007-824b-42e8-a80b-4ad10aae1341_target.jpg (deflated 0%)\n",
      "  adding: submit/ad889526-fa36-478f-8fa3-78379cd6b580_target.jpg (deflated 0%)\n",
      "  adding: submit/d348b7fd-a2c3-43fc-a1c8-b0d1e8cfe4bd_target.jpg (deflated 1%)\n",
      "  adding: submit/3358c121-b86c-4f16-b51d-e0c677963e9b_target.jpg (deflated 0%)\n",
      "  adding: submit/dfea4684-5e68-41a6-b350-ca84849538cc_target.jpg (deflated 0%)\n",
      "  adding: submit/8dd77e82-1987-4a83-87c9-4d5887ab41a0_target.jpg (deflated 1%)\n",
      "  adding: submit/1630553b-290c-4c1f-978e-061175a4a669_target.jpg (deflated 1%)\n",
      "  adding: submit/f43f96d6-4d82-44b0-9d1d-49556f05c288_target.jpg (deflated 1%)\n",
      "  adding: submit/83f85c51-8e06-4bd3-ae89-b222f0cfc056_target.jpg (deflated 0%)\n",
      "  adding: submit/7959ec72-678a-47c5-9b16-daddfeb7641c_target.jpg (deflated 0%)\n",
      "  adding: submit/212b7292-89c3-479a-bde2-896624cd977c_target.jpg (deflated 0%)\n",
      "  adding: submit/c8a11c72-506a-4e85-b45d-f1da6385e3e8_target.jpg (deflated 1%)\n",
      "  adding: submit/06cb89d5-1423-419c-81dc-f51c381e6411_target.jpg (deflated 1%)\n",
      "  adding: submit/1f7ec8c6-e872-447c-a80e-bf13acd95774_target.jpg (deflated 1%)\n",
      "  adding: submit/5e2edfb9-4c0e-4942-8743-7d0ed39786a1_target.jpg (deflated 0%)\n",
      "  adding: submit/10b1668e-fc49-4123-9532-8a151830f062_target.jpg (deflated 1%)\n",
      "  adding: submit/d6c23584-c39e-48f4-9b60-c45522b3bb7b_target.jpg (deflated 0%)\n",
      "  adding: submit/5549baf7-81ae-44e0-b5d9-d7657289aaf0_target.jpg (deflated 1%)\n",
      "  adding: submit/ce4d1524-d114-4b52-9172-2ff6b815d614_target.jpg (deflated 1%)\n",
      "  adding: submit/a081b801-003c-414a-9909-519d43f5e0ec_target.jpg (deflated 1%)\n",
      "  adding: submit/51a5ffae-af47-4798-9ae3-0b34b39eeb01_target.jpg (deflated 0%)\n",
      "  adding: submit/627ee157-6135-4ed0-acd2-e3c906ef2a2b_target.jpg (deflated 0%)\n",
      "  adding: submit/3acbeef9-3e63-46d7-b711-eaf0afcc8d8e_target.jpg (deflated 0%)\n",
      "  adding: submit/57ef5cf0-ad7a-4b77-b4a2-b5e0aa8b4b1d_target.jpg (deflated 0%)\n",
      "  adding: submit/c198409b-5a54-43f0-8e1f-c79f4765d240_target.jpg (deflated 0%)\n",
      "  adding: submit/9f3c08bf-f4bf-497e-b699-8a1ae9986240_target.jpg (deflated 0%)\n",
      "  adding: submit/42805bd4-f349-49e9-adab-1a65382965f7_target.jpg (deflated 0%)\n",
      "  adding: submit/9bcae601-2738-4330-8dd5-fe9fe73e046b_target.jpg (deflated 1%)\n",
      "  adding: submit/da864586-f7c4-4e35-be5f-e02a36c726e0_target.jpg (deflated 0%)\n",
      "  adding: submit/6d124b97-96b8-42a4-aecf-db9fb6f18c07_target.jpg (deflated 0%)\n",
      "  adding: submit/372cb582-1560-43d9-9740-752201392df3_target.jpg (deflated 0%)\n",
      "  adding: submit/43739dc9-21aa-49cc-9a13-72c69b4db97a_target.jpg (deflated 0%)\n",
      "  adding: submit/139c9371-8ca6-43dc-91b5-f9371fae9fe6_target.jpg (deflated 0%)\n",
      "  adding: submit/c5095c1c-e97f-46f5-b38b-32d2f893b6cc_target.jpg (deflated 1%)\n",
      "  adding: submit/f2c05e78-85a6-4a5e-a7d2-17b38a1b27e1_target.jpg (deflated 0%)\n",
      "  adding: submit/9cab94b4-93f8-47b5-acbd-b520adc87665_target.jpg (deflated 0%)\n",
      "  adding: submit/34fc8c55-7560-450b-b930-9de82dfb147b_target.jpg (deflated 1%)\n",
      "  adding: submit/9312dcfa-e9b1-4831-a8e4-4adf94ec3ab5_target.jpg (deflated 0%)\n",
      "  adding: submit/70303b6a-22de-4ad2-9802-50f8d2b0a1c7_target.jpg (deflated 0%)\n",
      "  adding: submit/19a6a82b-039a-4b25-83de-f72a89271890_target.jpg (deflated 0%)\n",
      "  adding: submit/d14800b0-3358-4bb6-8e3e-60f8bdbe53c1_target.jpg (deflated 0%)\n",
      "  adding: submit/c0045e07-e548-4c93-a441-afde2bd33ac4_target.jpg (deflated 0%)\n",
      "  adding: submit/520c4b06-66d3-41ee-9d93-6272775377ec_target.jpg (deflated 0%)\n",
      "  adding: submit/1dccc26e-19f7-4b4a-8fd9-c17a3bdf3da1_target.jpg (deflated 0%)\n",
      "  adding: submit/22095033-818f-4718-a81b-92fd2252f8dd_target.jpg (deflated 0%)\n",
      "  adding: submit/ea6d9690-33eb-432a-b44a-06f9cfdd7836_target.jpg (deflated 0%)\n",
      "  adding: submit/52f73e77-e6c9-4ce2-8eaa-2781b906e7f1_target.jpg (deflated 0%)\n",
      "  adding: submit/32436b0d-6016-4b32-a5d7-59b5d6068fce_target.jpg (deflated 0%)\n",
      "  adding: submit/0b9bef39-934a-4ac6-83e2-02eb919d55a5_target.jpg (deflated 0%)\n",
      "  adding: submit/1d8d6cd6-1e7f-490f-a10c-6c88fb739b16_target.jpg (deflated 0%)\n",
      "  adding: submit/fc1c8595-dde9-4cb7-a72b-aabf7b9b652a_target.jpg (deflated 1%)\n",
      "  adding: submit/f5750f5f-8ad0-421c-b2dc-6299b3fde237_target.jpg (deflated 0%)\n",
      "  adding: submit/5ffd2900-26a0-45e6-b60d-f185f0b4ff10_target.jpg (deflated 0%)\n",
      "  adding: submit/866f6193-51df-4299-8477-f99496ac8fb4_target.jpg (deflated 0%)\n",
      "  adding: submit/5d0a1538-2fd0-47c7-9d90-86fa3b375b21_target.jpg (deflated 0%)\n",
      "  adding: submit/639467c1-8030-4b00-a4c5-48ab72f6e629_target.jpg (deflated 1%)\n",
      "  adding: submit/f1e12310-05bb-4a79-a547-2e3deafd68e9_target.jpg (deflated 1%)\n",
      "  adding: submit/67fe4236-868e-4f6f-ad0a-3502e4f92e3d_target.jpg (deflated 1%)\n",
      "  adding: submit/7ea8d1cf-175f-4b26-b403-b6e0387472e7_target.jpg (deflated 0%)\n",
      "  adding: submit/62dc78ce-89ae-4abe-8205-1a68079e0cc8_target.jpg (deflated 1%)\n",
      "  adding: submit/a1c2a8e3-3d5b-4689-b249-0138047559d5_target.jpg (deflated 0%)\n",
      "  adding: submit/89b67147-d53d-4d43-b11e-84f5e4c90f25_target.jpg (deflated 0%)\n",
      "  adding: submit/d3d0939b-842e-4fd5-8675-92210bfc02fc_target.jpg (deflated 0%)\n",
      "  adding: submit/da4e47bc-9191-49ca-be43-d38c3319ab60_target.jpg (deflated 0%)\n",
      "  adding: submit/d37ea56a-43af-4422-a94f-f4c29ba4e1cd_target.jpg (deflated 0%)\n",
      "  adding: submit/c5b9727e-353a-4aba-8ae5-bd9b1834ed4d_target.jpg (deflated 0%)\n",
      "  adding: submit/164d27ef-140f-4702-8ab4-5cc170028164_target.jpg (deflated 0%)\n",
      "  adding: submit/279ef4d5-9a0e-4486-8fa3-e73b19ec71b2_target.jpg (deflated 1%)\n",
      "  adding: submit/e4ec0a3e-7c25-44c2-89ef-0b9ca3dc3a5e_target.jpg (deflated 0%)\n",
      "  adding: submit/a6220f2d-bd73-4706-a4e2-c277915f053b_target.jpg (deflated 0%)\n",
      "  adding: submit/6b4c41d3-b474-4db1-81a4-dd64db6fb150_target.jpg (deflated 0%)\n",
      "  adding: submit/e5152250-dcb8-448b-b442-f4d7d27be601_target.jpg (deflated 0%)\n",
      "  adding: submit/572c834f-e43e-4fca-85b5-817cff1c3720_target.jpg (deflated 0%)\n",
      "  adding: submit/6e0c918c-bb54-4353-8717-1df34d6bd6d3_target.jpg (deflated 1%)\n",
      "  adding: submit/14589079-f691-4e9a-aeb6-aaf98bf37634_target.jpg (deflated 0%)\n",
      "  adding: submit/3bd32f0a-0882-4132-89b4-f94573e69332_target.jpg (deflated 0%)\n",
      "  adding: submit/be13279d-4d99-4756-924b-93ad25fee435_target.jpg (deflated 0%)\n",
      "  adding: submit/8fdb5bae-a7aa-4d90-b46d-8074db43523a_target.jpg (deflated 1%)\n",
      "  adding: submit/66deeed2-edea-410f-a458-f7d3e0a425cb_target.jpg (deflated 0%)\n",
      "  adding: submit/38d6bbb6-f82e-4af8-9b4e-fa219139fe14_target.jpg (deflated 0%)\n",
      "  adding: submit/f0729623-9afc-4e4e-9daf-5a4ab3bac262_target.jpg (deflated 1%)\n",
      "  adding: submit/17da3902-de2c-4dbe-a72a-1a63fc779833_target.jpg (deflated 1%)\n",
      "  adding: submit/a8df3694-1955-4f49-ad54-87e47193ea24_target.jpg (deflated 0%)\n",
      "  adding: submit/e1c2b325-0e9b-4e67-8a11-2d9a3c84e58e_target.jpg (deflated 0%)\n",
      "  adding: submit/3c28b87c-2c01-4c0d-bb8f-a8a374bdbe8b_target.jpg (deflated 0%)\n",
      "  adding: submit/0553ad91-87d8-4ec2-bee0-206741e8285e_target.jpg (deflated 0%)\n",
      "  adding: submit/41bced7b-4ab2-49d0-a331-1ead6dffae61_target.jpg (deflated 0%)\n",
      "  adding: submit/4048b0f4-242e-4044-a7e8-5bec44dc63fc_target.jpg (deflated 1%)\n",
      "  adding: submit/ef9a2cf0-4ba1-4e85-a940-5eb2f9d992bc_target.jpg (deflated 0%)\n",
      "  adding: submit/83319a02-7816-44c5-ba19-4e9ad8d6c90b_target.jpg (deflated 0%)\n",
      "  adding: submit/d1c17f1a-392a-4d8a-8ed4-0229ec0a5719_target.jpg (deflated 0%)\n",
      "  adding: submit/138279ec-13e5-47b6-a290-96b984e26655_target.jpg (deflated 1%)\n",
      "  adding: submit/433a1b3e-e127-4756-9ddf-5b0fca02a160_target.jpg (deflated 0%)\n",
      "  adding: submit/f259cf17-260d-44b3-8266-2828d3fdc922_target.jpg (deflated 0%)\n",
      "  adding: submit/37d50967-4b5b-4d03-a5eb-8eed0b3e40d3_target.jpg (deflated 0%)\n",
      "  adding: submit/f71e5297-c792-4858-a876-b1f4177cb03b_target.jpg (deflated 0%)\n",
      "  adding: submit/aca36df7-86c2-4bd8-91a5-f2c1f02b88ce_target.jpg (deflated 0%)\n",
      "  adding: submit/8207e31d-d0d1-49e3-901b-b903f259c16b_target.jpg (deflated 1%)\n",
      "  adding: submit/ac68a794-0146-4d14-83bb-46cbd591f93c_target.jpg (deflated 0%)\n",
      "  adding: submit/0d1334f4-7228-4c2c-95dc-0fd926762356_target.jpg (deflated 0%)\n",
      "  adding: submit/15ad4771-f97d-4a8d-be96-b9635e3b8f71_target.jpg (deflated 0%)\n",
      "  adding: submit/e28181a1-b496-4267-a50a-849a04d8fbe0_target.jpg (deflated 0%)\n",
      "  adding: submit/61b1f4cc-0e39-400b-8b68-266d598e2b13_target.jpg (deflated 0%)\n",
      "  adding: submit/21299944-191a-44a4-a91d-12737f4f9867_target.jpg (deflated 0%)\n",
      "  adding: submit/de368102-b7f3-49cb-a4b8-afe79d504d92_target.jpg (deflated 0%)\n",
      "  adding: submit/411e9715-493c-48b5-8503-880537ea5a1f_target.jpg (deflated 0%)\n",
      "  adding: submit/c3d141e3-a4c4-4152-880a-b34524a04815_target.jpg (deflated 0%)\n",
      "  adding: submit/84607aeb-48e3-48a7-b6b4-119f3ab5538d_target.jpg (deflated 0%)\n",
      "  adding: submit/7e10eed3-ddf7-4a0e-9140-c7fa0812d4b6_target.jpg (deflated 0%)\n",
      "  adding: submit/fdf4f68b-cb8b-4953-9eac-ee35bea358d7_target.jpg (deflated 0%)\n",
      "  adding: submit/520edd7d-b43c-4fd1-9315-e2b492a7bd86_target.jpg (deflated 0%)\n",
      "  adding: submit/9004b9a5-30be-4f50-adf6-fa5f2bcb6885_target.jpg (deflated 0%)\n",
      "  adding: submit/8dc898ce-82f6-4ed8-a1b9-1d6663ed9dcd_target.jpg (deflated 1%)\n",
      "  adding: submit/ae02629a-674e-4cee-b880-04071ff0f0a6_target.jpg (deflated 0%)\n",
      "  adding: submit/d5e22f36-1357-41bc-8176-3fcae3961aa6_target.jpg (deflated 0%)\n",
      "  adding: submit/c73ab35a-fc0e-4409-ba9f-9b005727066d_target.jpg (deflated 0%)\n",
      "  adding: submit/5c9ab41b-76f8-4b90-88a4-e847567ae1dd_target.jpg (deflated 0%)\n",
      "  adding: submit/c9d0302a-fd0e-4972-b405-dde50346de71_target.jpg (deflated 0%)\n",
      "  adding: submit/78ba94e1-1b8d-4e4b-810a-5f2e6caa33f8_target.jpg (deflated 0%)\n",
      "  adding: submit/e6277493-3ade-4973-8900-eccef8801d63_target.jpg (deflated 0%)\n",
      "  adding: submit/081c9444-e8f3-41ad-a514-c6fdad480a1f_target.jpg (deflated 0%)\n",
      "  adding: submit/4cff86d9-887f-42cd-bd01-bc0684f57e3d_target.jpg (deflated 1%)\n",
      "  adding: submit/9cbd9267-3673-422b-b30d-3a360d185875_target.jpg (deflated 0%)\n",
      "  adding: submit/14a36c53-dd23-4075-b22a-b52fe3c96c0f_target.jpg (deflated 0%)\n",
      "  adding: submit/137945b3-ba0e-45be-97f6-5e47b3925733_target.jpg (deflated 0%)\n",
      "  adding: submit/a99a9de1-501b-410d-8e63-55c7c9e43b76_target.jpg (deflated 1%)\n",
      "  adding: submit/537ad7ce-6294-40cb-98db-cae21c5a539e_target.jpg (deflated 0%)\n",
      "  adding: submit/24dad538-05fd-4b6b-91cb-45266fc5b649_target.jpg (deflated 0%)\n",
      "  adding: submit/f6bd245e-7803-4c08-9fc4-b315a1d38fbc_target.jpg (deflated 0%)\n",
      "  adding: submit/71c384c0-0352-4bef-9a02-cdb9c43c2e75_target.jpg (deflated 0%)\n",
      "  adding: submit/e0ae416c-4483-4099-88e0-77deb7dbd20b_target.jpg (deflated 0%)\n",
      "  adding: submit/649a7e74-83bc-4c03-b9a3-baf4dfadcb80_target.jpg (deflated 0%)\n",
      "  adding: submit/8d6ed541-80e6-4f51-ba1c-0f4a5d365a46_target.jpg (deflated 0%)\n",
      "  adding: submit/e80586b0-650f-49a3-9b88-3a841bd6345e_target.jpg (deflated 1%)\n",
      "  adding: submit/2a37c963-7dae-4b3e-b0d6-0fd0ba413269_target.jpg (deflated 0%)\n",
      "  adding: submit/66d16849-b7b0-4f21-97f2-a9283648e4b2_target.jpg (deflated 0%)\n",
      "  adding: submit/b5d53897-8a7a-44fc-a3ab-805ebeffcef4_target.jpg (deflated 0%)\n",
      "  adding: submit/c89271ba-ee21-4c85-bc01-cf92196a3367_target.jpg (deflated 1%)\n",
      "  adding: submit/e223af2f-bcb6-4edc-9baf-6fe5d4aa903a_target.jpg (deflated 1%)\n",
      "  adding: submit/3fca4fd1-fbd6-4a60-ad5c-2a8be4203465_target.jpg (deflated 0%)\n",
      "  adding: submit/f9755b6a-1ff6-4c06-8b0f-47dc9480570c_target.jpg (deflated 0%)\n",
      "  adding: submit/6062420f-bd85-4bcd-affe-425bc997b4e5_target.jpg (deflated 0%)\n",
      "  adding: submit/fdfed084-536d-4106-ba5d-d289ea1c0648_target.jpg (deflated 0%)\n",
      "  adding: submit/5e31fb92-86af-4988-b0c8-784e0b0a85f4_target.jpg (deflated 0%)\n",
      "  adding: submit/444e5c1d-b91b-4298-94d8-161b0d243e8d_target.jpg (deflated 1%)\n",
      "  adding: submit/8609b5c9-a322-4549-b775-7c7ccf5b0b80_target.jpg (deflated 1%)\n",
      "  adding: submit/8998cabd-ee8c-4d8c-9621-c5ad05238ec3_target.jpg (deflated 0%)\n",
      "  adding: submit/c0b47567-7be8-4ce1-b2ed-dca1ca4ec4bc_target.jpg (deflated 0%)\n",
      "  adding: submit/78dc46e1-75bc-420c-8edb-f5f7409e4769_target.jpg (deflated 0%)\n",
      "  adding: submit/6939e377-a800-479b-88d0-a742b8e5d45f_target.jpg (deflated 0%)\n",
      "  adding: submit/cb3fad3c-5bea-48ac-a486-80d1013dd674_target.jpg (deflated 1%)\n",
      "  adding: submit/77883386-4efc-49da-8421-df4833c19b63_target.jpg (deflated 0%)\n",
      "  adding: submit/1d915773-3e64-41a3-8041-a51451cf5d46_target.jpg (deflated 1%)\n",
      "  adding: submit/f9f1ddf9-7f4a-4de1-8997-fab03a8613a4_target.jpg (deflated 0%)\n",
      "  adding: submit/16c58225-baf3-44a2-a26f-625560b7f2b4_target.jpg (deflated 0%)\n",
      "  adding: submit/322e3053-34d2-4e49-bc80-0b1daf1225d8_target.jpg (deflated 0%)\n",
      "  adding: submit/9ba992df-e91f-41ac-9517-0e4515db5d4f_target.jpg (deflated 0%)\n",
      "  adding: submit/9199ef4c-c592-4ac0-9262-0960168781e0_target.jpg (deflated 1%)\n",
      "  adding: submit/b1eb7d70-d753-4a24-aada-58b2f898a9e7_target.jpg (deflated 0%)\n",
      "  adding: submit/d78e16d2-d0d1-49a6-af37-4fb8ec1aa0f1_target.jpg (deflated 0%)\n",
      "  adding: submit/ef819c74-f411-4c9c-ad63-d674b1bd5ac0_target.jpg (deflated 1%)\n",
      "  adding: submit/5849e2e2-4aa7-4403-825a-f91611265e1f_target.jpg (deflated 0%)\n",
      "  adding: submit/ae903b9b-3475-4da6-b95f-d83ccc2ae89d_target.jpg (deflated 1%)\n",
      "  adding: submit/7230a265-4487-4875-b3c1-c26d4a7978f0_target.jpg (deflated 1%)\n",
      "  adding: submit/26d256eb-a288-427a-bd95-74b210e5b0e2_target.jpg (deflated 0%)\n",
      "  adding: submit/fe445d4f-98bc-495a-b03d-7e463367d89e_target.jpg (deflated 0%)\n",
      "  adding: submit/6ce02308-de0d-4265-93fa-34ca15cf4f0b_target.jpg (deflated 1%)\n",
      "  adding: submit/61ee4ee2-a6b7-41c5-8235-fcf3ab9e8d30_target.jpg (deflated 0%)\n",
      "  adding: submit/4b8cf1b9-d745-428d-9616-9e082854796d_target.jpg (deflated 0%)\n",
      "  adding: submit/0099c28e-a9c8-4938-b693-f2e34ea09781_target.jpg (deflated 1%)\n",
      "  adding: submit/478983a8-fe65-4284-a422-e159c7ff53c1_target.jpg (deflated 0%)\n",
      "  adding: submit/d43c539a-de1e-49d0-b274-9a3c5438123d_target.jpg (deflated 1%)\n",
      "  adding: submit/bdc24305-de8f-4b01-818a-729f42d04c23_target.jpg (deflated 0%)\n",
      "  adding: submit/6763275a-4a6a-4316-89df-8fa4fef47173_target.jpg (deflated 1%)\n",
      "  adding: submit/99b50f5f-17eb-43d6-a4e4-0a8366dd0e67_target.jpg (deflated 0%)\n",
      "  adding: submit/248b91be-4326-4d25-aea9-8fc99cabaa30_target.jpg (deflated 0%)\n",
      "  adding: submit/890968d2-be1d-4605-8ac8-c52c9b1c81db_target.jpg (deflated 0%)\n",
      "  adding: submit/aa37442d-e04a-4e4a-9c89-4a6a4262a627_target.jpg (deflated 0%)\n",
      "  adding: submit/612720bb-1c5b-404e-95af-d3c0f82cc0a7_target.jpg (deflated 0%)\n",
      "  adding: submit/9f1b4f9b-bf0c-426b-8ff2-d0d63547721d_target.jpg (deflated 1%)\n",
      "  adding: submit/08eb58a4-42fe-426e-850c-e574a8f1998e_target.jpg (deflated 0%)\n",
      "  adding: submit/e0e6f1aa-318f-4729-8aa1-d03184f6227c_target.jpg (deflated 0%)\n",
      "  adding: submit/2b535217-b7ef-4e56-8d0e-688df1953127_target.jpg (deflated 1%)\n",
      "  adding: submit/c258c523-e4af-49ec-96a1-d0cf90ef1e7f_target.jpg (deflated 0%)\n",
      "  adding: submit/0e9c5ad8-7a3c-4e73-aff6-5f19c629a5eb_target.jpg (deflated 0%)\n",
      "  adding: submit/c69cc9f7-d8e0-4f33-947e-c345b0ad3a66_target.jpg (deflated 0%)\n",
      "  adding: submit/b1f9091e-d2df-4144-ac35-4d499a06e431_target.jpg (deflated 0%)\n",
      "  adding: submit/e64118f3-0f54-4dda-a22a-b03b674b6925_target.jpg (deflated 0%)\n",
      "  adding: submit/cc9b3a7d-8946-4d10-bc4a-0f56a5f7033b_target.jpg (deflated 0%)\n",
      "  adding: submit/cdb88088-222c-4ac9-89e0-0d715fc5cc7c_target.jpg (deflated 0%)\n",
      "  adding: submit/91230950-7838-49bf-94a6-a0cd74ce276e_target.jpg (deflated 1%)\n",
      "  adding: submit/da89ec06-b87d-44bb-9b4c-3b4e7101a8eb_target.jpg (deflated 0%)\n",
      "  adding: submit/5f93d529-df1d-47fa-a45d-0bc3ace9e8f2_target.jpg (deflated 0%)\n",
      "  adding: submit/a2c3b850-5af3-4a30-a612-8c2f47691347_target.jpg (deflated 0%)\n",
      "  adding: submit/25f32268-e8e2-4e30-83d7-53e6245bb76b_target.jpg (deflated 1%)\n",
      "  adding: submit/8ba9e5e4-2776-49d4-bbe7-2fa0989e1c33_target.jpg (deflated 0%)\n",
      "  adding: submit/3b120e99-9c28-4a21-a69a-14b8ad2b7b7c_target.jpg (deflated 0%)\n",
      "  adding: submit/39d0d8f9-553f-4173-9ccb-4036f4da191e_target.jpg (deflated 1%)\n",
      "  adding: submit/0d2c6cc8-f4f2-4501-b17a-fb40ab1b415c_target.jpg (deflated 0%)\n",
      "  adding: submit/6c9e1d4e-376d-4c72-b366-68e0cc58c407_target.jpg (deflated 0%)\n",
      "  adding: submit/d875778f-305f-42e3-a494-401018b90389_target.jpg (deflated 0%)\n",
      "  adding: submit/d501e79e-3cfe-42eb-a6d6-e66d3d422a3e_target.jpg (deflated 0%)\n",
      "  adding: submit/1f2d6231-1962-4b15-859c-1ebba0db6ae1_target.jpg (deflated 0%)\n",
      "  adding: submit/d4816a68-8936-436f-918d-9b9b4f5cc0df_target.jpg (deflated 1%)\n",
      "  adding: submit/30e42f67-9c41-4999-ad0b-a202a3bb649f_target.jpg (deflated 1%)\n",
      "  adding: submit/90525347-2373-4fc8-b700-e1a4330567ea_target.jpg (deflated 0%)\n",
      "  adding: submit/928adb0d-b6d2-426d-99e5-cb733eb941a1_target.jpg (deflated 0%)\n",
      "  adding: submit/a4283863-5497-4b43-9e58-ed5a18525c5d_target.jpg (deflated 0%)\n",
      "  adding: submit/5eee42c9-21ad-4e77-b84d-4fefc9400286_target.jpg (deflated 0%)\n",
      "  adding: submit/158189fc-df3c-48ce-8dff-03d60db8614b_target.jpg (deflated 0%)\n",
      "  adding: submit/ab451bb0-adea-4624-84aa-64c61c27a28e_target.jpg (deflated 0%)\n",
      "  adding: submit/1b2bdf68-73d9-4686-b4dd-f5ba743832da_target.jpg (deflated 0%)\n",
      "  adding: submit/0854db44-f156-4e18-b271-c6f39388af62_target.jpg (deflated 0%)\n",
      "  adding: submit/1915f3ee-1629-4b76-9dd7-2d3b01c99458_target.jpg (deflated 0%)\n",
      "  adding: submit/113b5140-e56a-4ac0-a876-e2a993def8ad_target.jpg (deflated 0%)\n",
      "  adding: submit/7e1ad40a-6d14-4ac8-95a1-8f28041e0932_target.jpg (deflated 0%)\n",
      "  adding: submit/3001bae0-4355-4d70-afb6-ac5824ad5df0_target.jpg (deflated 0%)\n",
      "  adding: submit/87c583e8-6f21-4825-b1be-a834e63bd3d7_target.jpg (deflated 0%)\n",
      "  adding: submit/568ab6d7-1055-49b6-8c33-2bee8047475e_target.jpg (deflated 0%)\n",
      "  adding: submit/7573ba28-e2cb-423e-ad62-156605d5d406_target.jpg (deflated 0%)\n",
      "  adding: submit/7637fbfb-4670-4e58-b799-e2f50c237b89_target.jpg (deflated 1%)\n",
      "  adding: submit/1ee040bd-82de-40b5-987a-5e8abda9895e_target.jpg (deflated 0%)\n",
      "  adding: submit/d2ded8f2-8bec-4035-95f1-94f89cccb982_target.jpg (deflated 0%)\n",
      "  adding: submit/0d8eb890-0c08-46c9-9aa6-0622a3d41edd_target.jpg (deflated 1%)\n",
      "  adding: submit/4f8d59f7-19bb-4f56-b0a8-a3ccfabf2b5a_target.jpg (deflated 1%)\n",
      "  adding: submit/51df9b24-f3ce-4c55-a911-8de2b752dbf8_target.jpg (deflated 0%)\n",
      "  adding: submit/7e790f5a-393a-41d5-80db-e0f14c992cbb_target.jpg (deflated 0%)\n",
      "  adding: submit/14235d1d-6403-4ee9-a59a-4fb5b7e22517_target.jpg (deflated 0%)\n",
      "  adding: submit/f5f340ce-e9b4-45ae-9669-320d75a11f28_target.jpg (deflated 0%)\n",
      "  adding: submit/5f8f547d-4836-4dd8-9571-325fec3cad23_target.jpg (deflated 0%)\n",
      "  adding: submit/333121ea-465c-425f-af4d-a62a9ea0cd66_target.jpg (deflated 0%)\n",
      "  adding: submit/b1b8f0c6-1d52-43e6-93ac-00bbe7d60f5c_target.jpg (deflated 1%)\n",
      "  adding: submit/ce51fc9c-65b2-4cb7-b364-3683bd212b51_target.jpg (deflated 0%)\n",
      "  adding: submit/50a308bd-9258-47d6-92b3-d9772b8cf901_target.jpg (deflated 0%)\n",
      "  adding: submit/dd32dd91-926b-4874-a9cf-42b5d8b57de1_target.jpg (deflated 0%)\n",
      "  adding: submit/5e734f3c-8e2f-4451-a326-70157c99bd34_target.jpg (deflated 0%)\n",
      "  adding: submit/eaff6b84-3da0-49a2-bf68-ae227b8a142c_target.jpg (deflated 0%)\n",
      "  adding: submit/1f37791a-f0f2-4e37-bda2-13c3e270d5f6_target.jpg (deflated 0%)\n",
      "  adding: submit/aff26d5c-3cf2-497f-8061-29e9461e555b_target.jpg (deflated 0%)\n",
      "  adding: submit/9eb36f3c-9e00-4f76-b9bf-321038296c07_target.jpg (deflated 0%)\n",
      "  adding: submit/e2451e94-b34e-4f6a-b6c2-893b5ea4477f_target.jpg (deflated 0%)\n",
      "  adding: submit/5e3a1742-c085-4f18-92a4-df0c14d515d6_target.jpg (deflated 1%)\n",
      "  adding: submit/aeb3be78-3db9-4846-97de-8411a6618213_target.jpg (deflated 0%)\n",
      "  adding: submit/4b112107-6c5d-4b91-bfb1-b374ba379563_target.jpg (deflated 0%)\n",
      "  adding: submit/df10c5f7-8d56-404c-a79b-af6534bc04fa_target.jpg (deflated 0%)\n",
      "  adding: submit/eedbf54b-904d-4e5b-9e3f-7923ce8b8c0e_target.jpg (deflated 0%)\n",
      "  adding: submit/b03c6f11-5887-466d-80c0-3e5581d0c62e_target.jpg (deflated 0%)\n",
      "  adding: submit/7004a3dd-f242-4b1a-83f4-fbec22e66b7f_target.jpg (deflated 1%)\n",
      "  adding: submit/d3b8c257-765b-4dec-ada9-5941205185e0_target.jpg (deflated 0%)\n",
      "  adding: submit/2c722d63-93c3-42ae-bdb8-07a09dd0a161_target.jpg (deflated 0%)\n",
      "  adding: submit/f93d639a-1876-4b3c-a230-b4533d37a649_target.jpg (deflated 0%)\n",
      "  adding: submit/567f21e7-d06f-4969-bd44-f2b00eb1d721_target.jpg (deflated 0%)\n",
      "  adding: submit/f98a0b78-b96b-4e4f-9dfb-99f8065d6c4f_target.jpg (deflated 1%)\n",
      "  adding: submit/949ac16d-38a2-4dcf-b041-09599152e0e0_target.jpg (deflated 0%)\n",
      "  adding: submit/94a0dda7-1363-4621-8dc4-482bf3fb27fd_target.jpg (deflated 0%)\n",
      "  adding: submit/4cf0a1d0-bdc5-43bf-ab39-863d5032ee1c_target.jpg (deflated 0%)\n",
      "  adding: submit/db5c1076-c08d-4edd-85ff-59a1d51a4ca6_target.jpg (deflated 1%)\n",
      "  adding: submit/1dfeece9-12cd-42c0-9248-ed33b2c26a6d_target.jpg (deflated 0%)\n",
      "  adding: submit/2680e218-d1e0-45b9-b1ce-f570180909e4_target.jpg (deflated 0%)\n",
      "  adding: submit/ebce273e-2b54-43f7-9db4-84b145068996_target.jpg (deflated 0%)\n",
      "  adding: submit/cc58a3a6-a6ff-4a29-acee-d593b7ad9134_target.jpg (deflated 0%)\n",
      "  adding: submit/444e1049-859a-4cf0-a661-fd39bfd34691_target.jpg (deflated 0%)\n",
      "  adding: submit/9c2f5e82-136d-4b3d-8d6d-a59b1f57228a_target.jpg (deflated 1%)\n",
      "  adding: submit/a0d98ade-7961-4624-9abb-9d0bb3522234_target.jpg (deflated 0%)\n",
      "  adding: submit/aaeac30e-572e-41de-b88b-c018da208301_target.jpg (deflated 0%)\n",
      "  adding: submit/17a9eef9-009a-4e71-afef-a0e385571bf6_target.jpg (deflated 0%)\n",
      "  adding: submit/8b93f0c7-ca6b-4322-bb37-a1f15a890b4c_target.jpg (deflated 0%)\n",
      "  adding: submit/51101df1-b794-4db4-b421-ddd91ec4c36f_target.jpg (deflated 1%)\n",
      "  adding: submit/3dca03f4-9dd5-430b-a35a-8d9ae99ae303_target.jpg (deflated 1%)\n",
      "  adding: submit/dad443c5-8e6c-4eab-bbba-592a2ab9ef89_target.jpg (deflated 0%)\n",
      "  adding: submit/82f3c8f0-479f-46f6-968c-9ae610462c5a_target.jpg (deflated 0%)\n",
      "  adding: submit/4a98e94a-b5cf-4606-b270-13f3dc1eb4b4_target.jpg (deflated 0%)\n",
      "  adding: submit/50e3cbf9-629f-4644-be92-8bff3b2eeea5_target.jpg (deflated 0%)\n",
      "  adding: submit/e76ab0f4-a712-426b-b85e-48200167b328_target.jpg (deflated 0%)\n",
      "  adding: submit/5e76b2b0-53aa-4059-8223-26906587f330_target.jpg (deflated 1%)\n",
      "  adding: submit/0ca11861-5c56-4c78-9df8-07b99f545466_target.jpg (deflated 0%)\n",
      "  adding: submit/df0eb387-764e-4222-aa4c-dc1b48ced9b7_target.jpg (deflated 1%)\n",
      "  adding: submit/51faa9e8-5167-4dcb-a8ee-cd68c418fb36_target.jpg (deflated 0%)\n",
      "  adding: submit/158bfb6d-7725-43e5-96e1-0fcc10ab0a15_target.jpg (deflated 0%)\n",
      "  adding: submit/11bd4aa1-45e7-4ff4-b72b-970c2021286c_target.jpg (deflated 0%)\n",
      "  adding: submit/0093a84b-cda3-40a2-a937-fa7153afb42a_target.jpg (deflated 0%)\n",
      "  adding: submit/209874ef-59d1-42d3-a36b-1a08ccea765f_target.jpg (deflated 0%)\n",
      "  adding: submit/7f7b75db-acff-444e-8336-33f4a3257c9d_target.jpg (deflated 0%)\n",
      "  adding: submit/2f4d534a-3752-4115-be3b-4608d10bf282_target.jpg (deflated 0%)\n",
      "  adding: submit/4040028d-467d-4c3f-9718-9e2071e53ef5_target.jpg (deflated 0%)\n",
      "  adding: submit/088738ac-59a6-4ae0-8cdd-70abe5625886_target.jpg (deflated 1%)\n",
      "  adding: submit/b295fd70-0a96-4f31-b6f2-a2053c6def3a_target.jpg (deflated 1%)\n",
      "  adding: submit/639c704e-cf8f-4ad3-a235-7a0293c723c4_target.jpg (deflated 0%)\n",
      "  adding: submit/b915600f-843f-4e80-9261-852aa3e98114_target.jpg (deflated 0%)\n",
      "  adding: submit/7418ad60-6f8e-43b2-ae16-1c6418173789_target.jpg (deflated 0%)\n",
      "  adding: submit/2013d465-b47f-4531-b3dc-aff1118cad62_target.jpg (deflated 0%)\n",
      "  adding: submit/3f07bccd-1a4f-462f-9e2a-29b42f252210_target.jpg (deflated 0%)\n",
      "  adding: submit/470a29d6-9ee7-45f7-9341-32a189e7bc0a_target.jpg (deflated 0%)\n",
      "  adding: submit/5d578497-80d5-4844-808e-6de88900773b_target.jpg (deflated 0%)\n",
      "  adding: submit/275faae2-0def-42d6-99a8-0e9e2aa4b235_target.jpg (deflated 1%)\n",
      "  adding: submit/b2030ed5-30d4-4019-86c8-f4148c9f2145_target.jpg (deflated 1%)\n",
      "  adding: submit/9578a0a5-bc8e-4d41-bcc5-54d1162219b0_target.jpg (deflated 0%)\n",
      "  adding: submit/7dc8c1ea-97ca-4426-88a0-d5e9e87179c6_target.jpg (deflated 0%)\n",
      "  adding: submit/e005d435-75c1-444e-ab60-0bee919f2c45_target.jpg (deflated 0%)\n",
      "  adding: submit/d0f6a98d-5901-4cd3-988f-ead12b6132af_target.jpg (deflated 0%)\n",
      "  adding: submit/cceb81ed-28d7-4797-b96e-26a08a8c6963_target.jpg (deflated 0%)\n",
      "  adding: submit/3cfb4a3a-e5da-459e-8379-eff7dcff841c_target.jpg (deflated 0%)\n",
      "  adding: submit/0488d87a-7d5d-4491-9cce-1a3533ccd5dc_target.jpg (deflated 0%)\n",
      "  adding: submit/b77b27f0-3695-495a-a0f5-24175fe88ac1_target.jpg (deflated 0%)\n",
      "  adding: submit/14af5a52-9129-4949-b063-e042559551eb_target.jpg (deflated 0%)\n",
      "  adding: submit/282d4221-fcfe-4533-a911-86eea26794c9_target.jpg (deflated 0%)\n",
      "  adding: submit/34bc676d-1969-4028-a27e-90589b40e82f_target.jpg (deflated 0%)\n",
      "  adding: submit/17677107-a781-4112-ac4f-af001c9556c2_target.jpg (deflated 0%)\n",
      "  adding: submit/f3f739ea-aba9-435a-932a-761bb7217412_target.jpg (deflated 0%)\n",
      "  adding: submit/adbd63a2-4577-4023-a654-52ec590f1c81_target.jpg (deflated 0%)\n",
      "  adding: submit/bf4d53b0-6a41-447a-933b-c6efc59468c7_target.jpg (deflated 0%)\n",
      "  adding: submit/8e27ae97-1ea8-4159-b1d5-05371d70b538_target.jpg (deflated 0%)\n",
      "  adding: submit/8a90d6b6-f992-4da6-a331-27a953564f25_target.jpg (deflated 1%)\n",
      "  adding: submit/802d4998-36e4-4e85-946e-073c9e160711_target.jpg (deflated 0%)\n",
      "  adding: submit/8260b7fd-3018-4a74-bc6f-8b730a1c723a_target.jpg (deflated 0%)\n",
      "  adding: submit/0beaecc0-7977-4993-8957-dc2fec5ec774_target.jpg (deflated 0%)\n",
      "  adding: submit/afdc43dd-96a0-4f69-9b5a-300702e4bcc9_target.jpg (deflated 0%)\n",
      "  adding: submit/a94b2957-ccc0-41dc-935f-d879d4c7922d_target.jpg (deflated 0%)\n",
      "  adding: submit/c2f6d1a8-9d07-4816-8baf-cdfefa9ba7bd_target.jpg (deflated 0%)\n",
      "  adding: submit/3f953534-9552-4af1-b4c3-d5e3f009c4e2_target.jpg (deflated 0%)\n",
      "  adding: submit/e156d393-b95e-4159-b026-4e3327341f14_target.jpg (deflated 0%)\n",
      "  adding: submit/2ae392cc-8dc8-45ca-90ed-444e78e0fdcc_target.jpg (deflated 1%)\n",
      "  adding: submit/7a328654-d77f-4df8-9492-608d5520d0a2_target.jpg (deflated 0%)\n",
      "  adding: submit/80938aa6-2c14-4e02-9ca9-e10712420c80_target.jpg (deflated 0%)\n",
      "  adding: submit/5e9a2d55-a879-4a43-bf42-c413e946e71a_target.jpg (deflated 0%)\n",
      "  adding: submit/11df1441-4058-44f3-bd8b-cd9191127fa7_target.jpg (deflated 0%)\n",
      "  adding: submit/6a26d21f-9911-4329-8b06-13e553c78450_target.jpg (deflated 1%)\n",
      "  adding: submit/cb6c7fec-8327-4786-804d-2aeefe8ab4c7_target.jpg (deflated 0%)\n",
      "  adding: submit/cadfadc1-18b2-47a8-8d03-9ae2ac37143e_target.jpg (deflated 0%)\n",
      "  adding: submit/daaae2db-b72c-48fd-a549-b21efa2508af_target.jpg (deflated 0%)\n",
      "  adding: submit/a5222590-5404-408f-81d1-73d0ec3ea8b1_target.jpg (deflated 1%)\n",
      "  adding: submit/8a8d2853-2185-4f4f-9f2d-bfaa92ae3d04_target.jpg (deflated 1%)\n",
      "  adding: submit/29f15999-46a4-4cb2-939d-c1e9b6341d10_target.jpg (deflated 1%)\n",
      "  adding: submit/be7d28ea-b06f-45eb-a854-4eef999c7008_target.jpg (deflated 1%)\n",
      "  adding: submit/ecaa211f-93c0-4f32-a569-f951f1032f70_target.jpg (deflated 0%)\n",
      "  adding: submit/fb638042-a13c-4b63-bbd1-ace6b9f087c5_target.jpg (deflated 0%)\n",
      "  adding: submit/4eda1f11-ff45-4433-8b21-27ea23084962_target.jpg (deflated 0%)\n",
      "  adding: submit/c32b8b72-049f-4ab7-b964-e313527f9247_target.jpg (deflated 0%)\n",
      "  adding: submit/382c73ad-d6f2-4360-ba52-7379228b5192_target.jpg (deflated 0%)\n",
      "  adding: submit/707a4b61-b99f-45c5-9094-836004766014_target.jpg (deflated 0%)\n",
      "  adding: submit/ba492aff-cc74-46db-83a6-6a1b233a2270_target.jpg (deflated 1%)\n",
      "  adding: submit/644e83bb-95e8-48a2-b212-672c282f85d4_target.jpg (deflated 0%)\n",
      "  adding: submit/36aa3d4f-8177-49d5-afdd-7d6e10b0c5c3_target.jpg (deflated 0%)\n",
      "  adding: submit/e40b36a0-beb7-4335-b3e2-532c96725317_target.jpg (deflated 0%)\n",
      "  adding: submit/5e0f910d-2122-4eb7-9110-5bcbdcbeb072_target.jpg (deflated 0%)\n",
      "  adding: submit/e2933413-bb75-40fb-8db8-8ede0d48c74f_target.jpg (deflated 1%)\n",
      "  adding: submit/cc2d6017-03a2-43ac-a336-e4ca5ea19692_target.jpg (deflated 0%)\n",
      "  adding: submit/1c19713f-fd18-496c-945b-38f7e9f972cc_target.jpg (deflated 1%)\n",
      "  adding: submit/bc39bb75-d5b7-4754-bb76-089c37659b1b_target.jpg (deflated 0%)\n",
      "  adding: submit/e031c0fc-6129-4632-b5de-853ca4a22704_target.jpg (deflated 0%)\n",
      "  adding: submit/8df84eeb-f99c-47b0-b81c-fae2f0b45f7d_target.jpg (deflated 0%)\n",
      "  adding: submit/e392d87c-dcc1-48d6-aaea-ec990cbc1b11_target.jpg (deflated 0%)\n",
      "  adding: submit/ffddb397-481d-42e8-9e7c-a6dab9b87f4d_target.jpg (deflated 1%)\n",
      "  adding: submit/835fb89d-f845-4081-8f00-2bad6ddd3dfe_target.jpg (deflated 0%)\n",
      "  adding: submit/2b401448-6a42-4d17-9427-b958b0d33dce_target.jpg (deflated 1%)\n",
      "  adding: submit/c8871952-b897-41c5-a921-7a340e38501c_target.jpg (deflated 0%)\n",
      "  adding: submit/db672897-c310-4a78-b747-e5085e91ae00_target.jpg (deflated 0%)\n",
      "  adding: submit/a6a209f5-071f-4da1-8d71-4a8cd134c87f_target.jpg (deflated 1%)\n",
      "  adding: submit/7821ab31-abbe-44f9-bf79-c5ec9258479d_target.jpg (deflated 0%)\n",
      "  adding: submit/86f87743-e03b-463a-80d6-d0c0e801de20_target.jpg (deflated 0%)\n",
      "  adding: submit/261d71c7-d2bb-4655-be0d-e19ba535f653_target.jpg (deflated 0%)\n",
      "  adding: submit/f4a1db2d-0774-4f03-a4d4-62899c502572_target.jpg (deflated 0%)\n",
      "  adding: submit/87dec687-89c0-4304-87d9-8aa20537ed2a_target.jpg (deflated 0%)\n",
      "  adding: submit/35d42f0d-e389-4e23-ad49-696fad74513d_target.jpg (deflated 1%)\n",
      "  adding: submit/0755e37c-e1d1-40d6-a0bc-18e4f69bcb24_target.jpg (deflated 0%)\n",
      "  adding: submit/90799a4d-03e7-40fa-99a3-95dcbc9e6897_target.jpg (deflated 0%)\n",
      "  adding: submit/d4fe942f-3b0b-49f5-ae98-f0253740e084_target.jpg (deflated 0%)\n",
      "  adding: submit/7251b840-2d2a-482a-9d8f-bf733b714bb8_target.jpg (deflated 0%)\n",
      "  adding: submit/2a102de0-dd2d-4b2b-86dc-a4e2541d0f6b_target.jpg (deflated 0%)\n",
      "  adding: submit/b9a07ac8-ac7d-4974-84c9-3ea37df9c0c6_target.jpg (deflated 0%)\n",
      "  adding: submit/90b537e8-0398-4897-8e76-dffd7193fbad_target.jpg (deflated 0%)\n",
      "  adding: submit/efae4e82-a015-46b7-a3f4-3c04142974c3_target.jpg (deflated 0%)\n",
      "  adding: submit/9e67202e-1e8e-4597-a6c2-edb0f919ad34_target.jpg (deflated 0%)\n",
      "  adding: submit/53be5ba0-9611-4bfc-bdc5-b0155bfedaed_target.jpg (deflated 0%)\n",
      "  adding: submit/b2a36d1b-0c7f-4104-9909-3b1095760431_target.jpg (deflated 0%)\n",
      "  adding: submit/9bfa5481-d28f-40ba-88ab-bf594d7644ec_target.jpg (deflated 0%)\n",
      "  adding: submit/e00efc92-c936-4a57-a41d-8e90af732f13_target.jpg (deflated 1%)\n",
      "  adding: submit/6a728145-299d-4d10-9947-0acbbfd1a8e9_target.jpg (deflated 0%)\n",
      "  adding: submit/275dd583-b436-438a-b492-846b950730fe_target.jpg (deflated 0%)\n",
      "  adding: submit/5e8e052a-076b-4b18-b494-c46c7baba883_target.jpg (deflated 0%)\n",
      "  adding: submit/0d0d0b34-6710-41ce-9fd1-78fc8af40351_target.jpg (deflated 1%)\n",
      "  adding: submit/1b1d29a7-da2b-41c5-8a48-418ba611de95_target.jpg (deflated 0%)\n",
      "  adding: submit/e4d47e5c-70f1-43f6-832d-31aeaa260ece_target.jpg (deflated 1%)\n",
      "  adding: submit/539291fe-f8d1-4688-8be0-de830fff1a4f_target.jpg (deflated 0%)\n",
      "  adding: submit/0eb7cca8-a522-4615-adae-5ea9aca10043_target.jpg (deflated 0%)\n",
      "  adding: submit/74cc9a6c-3d4a-4c68-92b6-81083cda34ae_target.jpg (deflated 0%)\n",
      "  adding: submit/5602a2bf-d018-4ff2-961b-f9dcf4a81bc3_target.jpg (deflated 0%)\n",
      "  adding: submit/a8dd9c2c-f966-4ecb-8dce-44aa5179c004_target.jpg (deflated 1%)\n",
      "  adding: submit/13a823ae-98fb-435a-a32e-6112e7e213a2_target.jpg (deflated 0%)\n",
      "  adding: submit/45e4dda5-ad3a-479a-bf58-7645eb475e80_target.jpg (deflated 1%)\n",
      "  adding: submit/457e9119-5fae-4fe4-b4c9-184d0c4cfd7b_target.jpg (deflated 0%)\n",
      "  adding: submit/646ac22c-9412-414d-87ce-c36c6707f21b_target.jpg (deflated 0%)\n",
      "  adding: submit/6d240245-ba1e-4802-892d-8c078c3bc437_target.jpg (deflated 1%)\n",
      "  adding: submit/3eb49861-e830-446a-a30a-f3e452875cbc_target.jpg (deflated 0%)\n",
      "  adding: submit/1a99be78-f669-4690-954e-745892295af4_target.jpg (deflated 0%)\n",
      "  adding: submit/088e4b7e-18f0-4475-a26c-1bece6d76b93_target.jpg (deflated 0%)\n",
      "  adding: submit/62a1112a-7572-400f-b094-9fc0f9564da1_target.jpg (deflated 1%)\n",
      "  adding: submit/272c8a08-dacb-4733-90f4-ab9919c42619_target.jpg (deflated 1%)\n",
      "  adding: submit/3c1f62ff-a237-44cf-8cba-dccdd34f4792_target.jpg (deflated 0%)\n",
      "  adding: submit/ce74cc10-826d-4a45-af0a-fe85a7fe4822_target.jpg (deflated 0%)\n",
      "  adding: submit/989defa7-d386-4540-9ea2-c32ab437d615_target.jpg (deflated 1%)\n",
      "  adding: submit/f7f289d6-0eb1-4451-bac7-6a976ea96974_target.jpg (deflated 0%)\n",
      "  adding: submit/f1cef067-efa6-4317-aeb7-87b3449efc95_target.jpg (deflated 0%)\n",
      "  adding: submit/d16f12c7-d147-4b08-beb6-23c8b63a0f9f_target.jpg (deflated 1%)\n",
      "  adding: submit/a9e4ceb8-f1d3-484d-95b2-b09a4f448cfa_target.jpg (deflated 0%)\n",
      "  adding: submit/6a9ee138-d026-42e2-9ec0-01f0a2b6dc43_target.jpg (deflated 0%)\n",
      "  adding: submit/689f25b9-c7c7-44b9-b00c-0dcf6f275873_target.jpg (deflated 1%)\n",
      "  adding: submit/88eda605-5543-43c8-bce9-a0407508a0c1_target.jpg (deflated 1%)\n",
      "  adding: submit/03daebb4-f7bb-4623-8d8a-49c0cab1992f_target.jpg (deflated 0%)\n",
      "  adding: submit/a10d3db0-c5ce-465a-8ffa-c6100773cc9c_target.jpg (deflated 1%)\n",
      "  adding: submit/8983ff56-2d60-4736-9ca4-ed8ce5b93c80_target.jpg (deflated 0%)\n",
      "  adding: submit/4a2812d7-f853-4e77-acdc-d60e9ecea169_target.jpg (deflated 1%)\n",
      "  adding: submit/43348329-e7b7-4bb6-9903-103a855ec9f7_target.jpg (deflated 1%)\n",
      "  adding: submit/514a5f01-4535-420c-acc5-0ea9fb616697_target.jpg (deflated 0%)\n",
      "  adding: submit/f6336e36-aceb-4132-b56c-9d292c2cf344_target.jpg (deflated 0%)\n",
      "  adding: submit/00827b09-79ab-40e0-aab0-4e0250a390ff_target.jpg (deflated 1%)\n",
      "  adding: submit/8d08af1a-bfa7-4f7c-93dd-5b290aaedfd1_target.jpg (deflated 0%)\n",
      "  adding: submit/7fcd35f8-1511-41fb-b27a-c685e49db031_target.jpg (deflated 0%)\n",
      "  adding: submit/424185e5-7766-4027-951b-63e32716d23a_target.jpg (deflated 0%)\n",
      "  adding: submit/eec269d4-1c2f-4a45-8d1b-d226769d78dd_target.jpg (deflated 0%)\n",
      "  adding: submit/3254d82c-59bc-4faa-a470-43f6848277dc_target.jpg (deflated 0%)\n",
      "  adding: submit/80fad2f1-c1e7-4d98-bff5-6cb050286846_target.jpg (deflated 0%)\n",
      "  adding: submit/fb640eb4-f220-4ab6-8e3d-87be107eeff4_target.jpg (deflated 0%)\n",
      "  adding: submit/e828595b-0444-4532-bf75-64f1aa6d15ed_target.jpg (deflated 0%)\n",
      "  adding: submit/9a4ecd38-58f2-4888-98e9-0e12c9cf9647_target.jpg (deflated 0%)\n",
      "  adding: submit/2c9ecf60-50d2-4cfa-9fb8-3f355f488da8_target.jpg (deflated 0%)\n",
      "  adding: submit/6aacdcb3-0c21-4e9f-978a-d747f80dcf36_target.jpg (deflated 0%)\n",
      "  adding: submit/2323c0cc-820f-4ef1-a382-96880f56cb88_target.jpg (deflated 0%)\n",
      "  adding: submit/8e83bfc1-079a-47b7-bbe6-e2c7988162ad_target.jpg (deflated 0%)\n",
      "  adding: submit/470ce1b0-f72e-45af-936a-19c4f43cfd34_target.jpg (deflated 0%)\n",
      "  adding: submit/9a797829-849f-4965-b586-b1fe1a433780_target.jpg (deflated 1%)\n",
      "  adding: submit/ec673922-3385-412b-820c-508fa06ff4df_target.jpg (deflated 1%)\n",
      "  adding: submit/f1ca47c8-cdfc-4d03-b409-0538161d1608_target.jpg (deflated 0%)\n",
      "  adding: submit/922ccda9-0638-4d23-8240-36556e61884b_target.jpg (deflated 0%)\n",
      "  adding: submit/45b7250f-05f8-4739-a263-6fb2fc7312fe_target.jpg (deflated 0%)\n",
      "  adding: submit/9e78047d-6c44-47b1-b78a-7306a540b43c_target.jpg (deflated 0%)\n",
      "  adding: submit/56cf78bb-aba0-4f4e-9680-2285505d3b3b_target.jpg (deflated 0%)\n",
      "  adding: submit/6e6a7d93-dd73-4d2e-9f3f-087a61660f33_target.jpg (deflated 0%)\n",
      "  adding: submit/e64d04f5-6baf-4c45-8bc9-4b7ff537b3b7_target.jpg (deflated 0%)\n",
      "  adding: submit/50689f9b-712e-4161-bd0c-1d525da79c5b_target.jpg (deflated 0%)\n",
      "  adding: submit/a571f83b-ec60-40d6-88de-2bae8a13ad93_target.jpg (deflated 0%)\n",
      "  adding: submit/93e57a0a-a229-4e74-a415-db48722a8247_target.jpg (deflated 1%)\n",
      "  adding: submit/3279c649-7bce-45d4-9527-9e04aeca38e0_target.jpg (deflated 0%)\n",
      "  adding: submit/53bf3913-2775-4b89-a96f-2fee2fb4e23d_target.jpg (deflated 1%)\n",
      "  adding: submit/db12bf6a-24ff-40fb-9307-e677a66e6c2e_target.jpg (deflated 0%)\n",
      "  adding: submit/82f023bd-f698-4d8e-a0df-12373911aafc_target.jpg (deflated 0%)\n",
      "  adding: submit/b5f32776-f8d7-457c-a266-0311c3f97b65_target.jpg (deflated 0%)\n",
      "  adding: submit/5492bde0-3e3e-44bd-9c06-18a9230ffb5f_target.jpg (deflated 0%)\n",
      "  adding: submit/6b700929-8ba2-4f0c-bf9c-26f0af4818d2_target.jpg (deflated 0%)\n",
      "  adding: submit/a9dcc180-2d59-4154-8073-95adbd836ef5_target.jpg (deflated 0%)\n",
      "  adding: submit/9f0ad927-c753-46b9-b1d1-3dde066c5675_target.jpg (deflated 1%)\n",
      "  adding: submit/fb627e6b-f4b3-413c-bdfb-9391a5600f7e_target.jpg (deflated 0%)\n",
      "  adding: submit/dd55a298-c350-46be-9020-31ebde22233f_target.jpg (deflated 0%)\n",
      "  adding: submit/fedb0a58-59a2-4da0-9ec9-ca2fc1dfc236_target.jpg (deflated 0%)\n",
      "  adding: submit/2f1a8855-1663-42ed-a7ec-b8de421eb272_target.jpg (deflated 0%)\n",
      "  adding: submit/14f2046d-7bfe-4a6f-9963-880585ddf11b_target.jpg (deflated 0%)\n",
      "  adding: submit/8b6288c9-f043-4d7c-9150-de710dd7bf00_target.jpg (deflated 1%)\n",
      "  adding: submit/edc79cc7-d2c2-4b76-9ec5-b2b2afde714b_target.jpg (deflated 0%)\n",
      "  adding: submit/3718bb82-1ec7-4db0-8e00-dca767606a42_target.jpg (deflated 0%)\n",
      "  adding: submit/338b2fc9-1fde-4523-9f11-65560de13036_target.jpg (deflated 0%)\n",
      "  adding: submit/28d84ab5-f4cb-44e0-a9bc-d56d24e2f0f7_target.jpg (deflated 1%)\n",
      "  adding: submit/744ebb55-4f8d-411b-8194-fb9f8c8fea97_target.jpg (deflated 1%)\n",
      "  adding: submit/54536580-4a21-4a75-918e-d4f1bf99d901_target.jpg (deflated 0%)\n",
      "  adding: submit/7e28e172-bb6d-4a3c-a5cc-53c9a0586fdf_target.jpg (deflated 0%)\n",
      "  adding: submit/0b3ff566-0b97-4512-8688-73c3c3499855_target.jpg (deflated 1%)\n",
      "  adding: submit/4b189a3e-885f-49e0-a145-89f10f4fc9c3_target.jpg (deflated 1%)\n",
      "  adding: submit/4637a5d2-354d-4811-a5a0-015daac1420b_target.jpg (deflated 0%)\n",
      "  adding: submit/b971cf14-0668-4be3-a270-b6c19e60d010_target.jpg (deflated 1%)\n",
      "  adding: submit/96bf25d1-e006-444b-98d5-bc969932becf_target.jpg (deflated 0%)\n",
      "  adding: submit/9b967c09-5dbb-4971-bd9c-340ead991393_target.jpg (deflated 0%)\n",
      "  adding: submit/2ab2ab75-30d4-4b00-a761-4ab43f7f437b_target.jpg (deflated 0%)\n",
      "  adding: submit/2dd19d3f-1fb4-4e23-85d9-89bc77e0fb7f_target.jpg (deflated 0%)\n",
      "  adding: submit/c9da11e0-93ee-48f9-9365-7e06287bcb83_target.jpg (deflated 0%)\n",
      "  adding: submit/d80dc766-759c-4dea-9572-fec7dab56b5b_target.jpg (deflated 0%)\n",
      "  adding: submit/93b355b7-a19e-4a4d-83c6-a83da9ca3568_target.jpg (deflated 0%)\n",
      "  adding: submit/c562096a-2614-4855-b680-c7e4babf56bf_target.jpg (deflated 0%)\n",
      "  adding: submit/d278b4bb-0265-4048-bdca-151b31081fff_target.jpg (deflated 0%)\n",
      "  adding: submit/73bb2aa9-8271-4c4d-8cb7-35219a6d1301_target.jpg (deflated 0%)\n",
      "  adding: submit/2be79e1e-2323-485c-9037-dfc8ca229595_target.jpg (deflated 0%)\n",
      "  adding: submit/e1c7076d-86e8-4900-bdc7-b2d00cec6975_target.jpg (deflated 0%)\n",
      "  adding: submit/6a6e085d-ba02-4b91-9ed9-f5cbbe62557f_target.jpg (deflated 1%)\n",
      "  adding: submit/46b1e59a-8626-44d3-8c3c-0042986650b0_target.jpg (deflated 1%)\n",
      "  adding: submit/9c590b32-0615-4798-b643-261c7c0245eb_target.jpg (deflated 0%)\n",
      "  adding: submit/98bb2980-e305-4ad3-9358-8294f78eea2d_target.jpg (deflated 1%)\n",
      "  adding: submit/fd5adc0e-db29-40a0-b295-493d1d03dd1e_target.jpg (deflated 0%)\n",
      "  adding: submit/1bcafef9-9b31-4df3-b2ed-dce26125ce67_target.jpg (deflated 1%)\n",
      "  adding: submit/8bb2cdb1-65f1-4e16-ba2f-92e88fef697c_target.jpg (deflated 0%)\n",
      "  adding: submit/0d469023-568a-4be3-9676-216263df0b88_target.jpg (deflated 0%)\n",
      "  adding: submit/6b97def6-b633-49f4-b1ee-7adbe6e3b572_target.jpg (deflated 0%)\n",
      "  adding: submit/f7411162-853b-4024-bf04-b4ebca6e1655_target.jpg (deflated 0%)\n",
      "  adding: submit/e850a087-dcf6-4cba-a16c-4d47903df7ff_target.jpg (deflated 0%)\n",
      "  adding: submit/655e189a-6c7e-49b9-a109-75be8e180cb4_target.jpg (deflated 0%)\n",
      "  adding: submit/0e564a1e-3ea4-4b37-8228-835a7cd4d4e3_target.jpg (deflated 0%)\n",
      "  adding: submit/a8922785-5120-4938-905f-e2b5a220400b_target.jpg (deflated 0%)\n",
      "  adding: submit/963cbb39-2abf-47bd-8ebe-b8c8de354b6f_target.jpg (deflated 0%)\n",
      "  adding: submit/3b57e32d-8406-4757-9eb7-d0569d6188be_target.jpg (deflated 0%)\n",
      "  adding: submit/7c475ab2-3680-495d-a712-0066c6b60094_target.jpg (deflated 0%)\n",
      "  adding: submit/441da58a-744b-468d-9494-5416e65a4693_target.jpg (deflated 0%)\n",
      "  adding: submit/3be612bf-c14a-423a-b35d-240e29c6d78a_target.jpg (deflated 0%)\n",
      "  adding: submit/9efb9609-b0ee-43a9-b835-df7cebe2ddbc_target.jpg (deflated 0%)\n",
      "  adding: submit/62a495af-563a-4890-8eb0-3319786db16b_target.jpg (deflated 1%)\n",
      "  adding: submit/f209bd54-b0f4-4c9f-87a1-cbc54555d164_target.jpg (deflated 1%)\n",
      "  adding: submit/3b075589-8402-4671-9101-1106d87a4494_target.jpg (deflated 0%)\n",
      "  adding: submit/41f9f268-a410-43c8-857d-085138be5124_target.jpg (deflated 0%)\n",
      "  adding: submit/2686f453-6075-46d5-8fa0-103a15b6670e_target.jpg (deflated 1%)\n",
      "  adding: submit/8756da30-00a4-4ecd-a97f-d20515a9b7e2_target.jpg (deflated 0%)\n",
      "  adding: submit/c3541610-df58-446e-bdfc-fe385e2d5711_target.jpg (deflated 1%)\n",
      "  adding: submit/a06b5086-a6d9-451d-b14e-5ba6fd761f72_target.jpg (deflated 0%)\n",
      "  adding: submit/de68e14a-06ec-4706-9d9e-c6d0557bb6c7_target.jpg (deflated 0%)\n",
      "  adding: submit/eda4b7bd-41d6-4e18-a5f3-40c7bbe5306b_target.jpg (deflated 0%)\n",
      "  adding: submit/86b55362-de9b-47fc-9cb0-fa9d9251c212_target.jpg (deflated 1%)\n",
      "  adding: submit/844edf5a-1bb7-434f-9300-d40f211b59d0_target.jpg (deflated 0%)\n",
      "  adding: submit/037af1ec-7b11-4ad9-823a-c9ac7f9596b8_target.jpg (deflated 0%)\n",
      "  adding: submit/f7491d50-e664-4eb5-89b7-f416f3e11dc5_target.jpg (deflated 0%)\n",
      "  adding: submit/f54dd9a7-51f6-466b-9a80-e63def93a89e_target.jpg (deflated 0%)\n",
      "  adding: submit/93e64472-b64b-49eb-88cc-705fde16a559_target.jpg (deflated 1%)\n",
      "  adding: submit/93addd8a-eac6-4c27-a672-68b05d490d79_target.jpg (deflated 1%)\n",
      "  adding: submit/71bda853-c34c-48de-8ffd-42ca64eb93dc_target.jpg (deflated 1%)\n",
      "  adding: submit/7430ca54-abd1-47a6-9ede-85466b47cdf0_target.jpg (deflated 0%)\n",
      "  adding: submit/38b4cd60-730a-4fbe-b524-46e1e38e7b84_target.jpg (deflated 0%)\n",
      "  adding: submit/250b87ad-3be9-4ef7-94a3-6b2ef5796530_target.jpg (deflated 0%)\n",
      "  adding: submit/7a686da5-c9ef-4249-8ef3-b44f89004dcd_target.jpg (deflated 0%)\n",
      "  adding: submit/50e9fd7f-6dba-4678-99b2-e32373229448_target.jpg (deflated 1%)\n",
      "  adding: submit/945a754c-016b-4b3f-b9b2-60ccd36613e4_target.jpg (deflated 0%)\n",
      "  adding: submit/1848703f-b6af-46ac-931f-2771d1e2f6da_target.jpg (deflated 0%)\n",
      "  adding: submit/e39c5ae9-392c-4ad4-a227-a42682d03770_target.jpg (deflated 0%)\n",
      "  adding: submit/b1355701-ca51-43fd-a24b-cd3c3a73bb35_target.jpg (deflated 0%)\n",
      "  adding: submit/37c9b1cc-1d82-4d80-854b-a8de92227c85_target.jpg (deflated 1%)\n",
      "  adding: submit/b019bbc6-e542-4b8b-8c5a-d896b899227c_target.jpg (deflated 1%)\n",
      "  adding: submit/a9a692f8-80ee-4fed-8def-cf02182d1ac8_target.jpg (deflated 0%)\n",
      "  adding: submit/e162d8ef-2d77-491b-a7cb-11b869e2d58a_target.jpg (deflated 0%)\n",
      "  adding: submit/4a1457af-dbe1-4ada-a4d6-3b741f43423e_target.jpg (deflated 0%)\n",
      "  adding: submit/aeba79d3-6f26-411e-9526-f739aeac4b92_target.jpg (deflated 1%)\n",
      "  adding: submit/b88ad549-f38d-47e5-a971-82a0dd1be797_target.jpg (deflated 0%)\n",
      "  adding: submit/406e9546-a949-489a-aa07-4c97379ecfaf_target.jpg (deflated 1%)\n",
      "  adding: submit/bb2337f0-44f1-43bc-ad98-5460dc70d292_target.jpg (deflated 0%)\n",
      "  adding: submit/db297146-1c9a-4682-b326-879479ceb159_target.jpg (deflated 0%)\n",
      "  adding: submit/b36535ed-8ba3-4fec-9c0f-83b8a909bb14_target.jpg (deflated 1%)\n",
      "  adding: submit/42b17343-bb25-4af7-8a0c-b7db9c4dafae_target.jpg (deflated 0%)\n",
      "  adding: submit/dbc464ca-7967-4acf-a808-9f78acc5b3c8_target.jpg (deflated 0%)\n",
      "  adding: submit/a1e99ead-7af2-4d4e-8194-aa70f13a1c34_target.jpg (deflated 0%)\n",
      "  adding: submit/9ac3cb2a-4ceb-4560-b240-4c64e620546d_target.jpg (deflated 0%)\n",
      "  adding: submit/03998f2d-1be7-403d-bd90-2820ea65b53e_target.jpg (deflated 1%)\n",
      "  adding: submit/b4f28449-099a-4f95-a415-2a0d99a24d48_target.jpg (deflated 0%)\n",
      "  adding: submit/fb821513-b03b-4697-a358-3d2a958be64a_target.jpg (deflated 1%)\n",
      "  adding: submit/48d3cf9a-85ad-4b2a-919c-3ffe3983b342_target.jpg (deflated 0%)\n",
      "  adding: submit/8f0d7051-d007-4527-b2be-eba9451dda56_target.jpg (deflated 1%)\n",
      "  adding: submit/521d4d47-0a2c-4739-9a0d-fa3f290a769c_target.jpg (deflated 0%)\n",
      "  adding: submit/d796c348-557a-4e98-914b-e3512f73889e_target.jpg (deflated 0%)\n",
      "  adding: submit/7947a6b7-a809-4308-9c9c-efe83a41bc1c_target.jpg (deflated 0%)\n",
      "  adding: submit/e6f36cab-81c8-4fb8-8ec1-28ce19fb9a02_target.jpg (deflated 0%)\n",
      "  adding: submit/d5a86d7d-d34d-4c80-9894-cf4fd2721868_target.jpg (deflated 1%)\n",
      "  adding: submit/2c968e9f-085b-4369-b40e-076c52e32b9c_target.jpg (deflated 1%)\n",
      "  adding: submit/07af3b57-4cd7-4502-b0a0-aa6e92bb9ec3_target.jpg (deflated 0%)\n",
      "  adding: submit/2c1a4708-2507-4db9-92ae-ef8b337eca97_target.jpg (deflated 0%)\n",
      "  adding: submit/43db6b9e-2b31-4d54-99ea-c8a8064599c8_target.jpg (deflated 0%)\n",
      "  adding: submit/c1420279-9928-4e1c-8ea3-ec3cea297661_target.jpg (deflated 1%)\n",
      "  adding: submit/f493fd51-6b3b-48d5-9a54-e96be5cbded6_target.jpg (deflated 0%)\n",
      "  adding: submit/caef3150-537e-470a-998a-6403a25f1cbf_target.jpg (deflated 0%)\n",
      "  adding: submit/2ab25e22-1871-4561-8cca-cf23a9a36f76_target.jpg (deflated 0%)\n",
      "  adding: submit/fbda6e0b-676b-4722-99ca-6c53663e156b_target.jpg (deflated 1%)\n",
      "  adding: submit/887fa59d-dfd2-4815-a43b-0effa5feba39_target.jpg (deflated 0%)\n",
      "  adding: submit/b2482076-689e-4228-a99d-547b30276166_target.jpg (deflated 0%)\n",
      "  adding: submit/ec9d7c7e-21fe-49f5-9433-e2624a4dd13d_target.jpg (deflated 0%)\n",
      "  adding: submit/b29f9875-f8ac-4bfa-a592-5f614062ae49_target.jpg (deflated 0%)\n",
      "  adding: submit/a3271432-0748-4bfb-a380-180bc82cc6d6_target.jpg (deflated 0%)\n",
      "  adding: submit/770e0b6d-6c82-42bd-a582-dd9a73ad2885_target.jpg (deflated 0%)\n",
      "  adding: submit/8fb7c2b4-4406-4b04-859c-fd87a83723bd_target.jpg (deflated 1%)\n",
      "  adding: submit/543c199a-b034-41a9-b7cd-ea34264c3554_target.jpg (deflated 0%)\n",
      "  adding: submit/6b0e7566-87d3-441d-abdc-d16aff664281_target.jpg (deflated 0%)\n",
      "  adding: submit/065eeb17-9816-476b-aefb-5cdd9b20c924_target.jpg (deflated 1%)\n",
      "  adding: submit/12bc2258-ffd0-4632-989a-395afa5f4ec7_target.jpg (deflated 1%)\n",
      "  adding: submit/1e2442b8-da96-471d-a8da-5aff1f1d271c_target.jpg (deflated 0%)\n",
      "  adding: submit/0b547185-88dc-4864-9cbd-c202a94a6dbc_target.jpg (deflated 0%)\n",
      "  adding: submit/9b3f02a4-f369-4744-81d3-9b5e21eb99d3_target.jpg (deflated 0%)\n",
      "  adding: submit/d84a4ece-fbd8-4569-868a-f2a86ad42276_target.jpg (deflated 1%)\n",
      "  adding: submit/cf044a34-642f-44ed-9730-d01962d30d2c_target.jpg (deflated 0%)\n",
      "  adding: submit/3b255de0-744e-48bd-9fc3-5350ee7c5c7c_target.jpg (deflated 1%)\n",
      "  adding: submit/07368d78-ff6a-46d3-bf19-df28fe566880_target.jpg (deflated 0%)\n",
      "  adding: submit/87ba4f09-2ad0-4df8-be64-8929ab4c041f_target.jpg (deflated 0%)\n",
      "  adding: submit/48f18dd6-2961-4ab6-b4d8-0a537a446559_target.jpg (deflated 0%)\n",
      "  adding: submit/8ad72e52-d059-438e-b059-6a94ecb7d5eb_target.jpg (deflated 0%)\n",
      "  adding: submit/d5c09053-8762-4a40-920e-d290ed4208c3_target.jpg (deflated 0%)\n",
      "  adding: submit/c5c302dd-c066-4aa2-b3f0-858c1f2e10d1_target.jpg (deflated 0%)\n",
      "  adding: submit/7d552f79-7a0d-402e-8a2c-3ca4c04a5af7_target.jpg (deflated 0%)\n",
      "  adding: submit/8ea19199-745b-4c76-af88-140e6c840a13_target.jpg (deflated 0%)\n",
      "  adding: submit/25850c8a-ac73-4616-af08-99e015e868b4_target.jpg (deflated 0%)\n",
      "  adding: submit/e78109df-60a7-4ad5-b3e5-b80bb8c92661_target.jpg (deflated 0%)\n",
      "  adding: submit/389f6a62-7250-42aa-81aa-780c6ebf471e_target.jpg (deflated 0%)\n",
      "  adding: submit/843b3872-fe0c-4cf3-bf7b-27c5db253f0d_target.jpg (deflated 0%)\n",
      "  adding: submit/9ea533a7-c308-470b-b57c-8dbeab20d2ae_target.jpg (deflated 1%)\n",
      "  adding: submit/eccc4ede-7c4f-4942-ba5a-cbade15e3911_target.jpg (deflated 0%)\n",
      "  adding: submit/d7d27b1c-3104-428b-a9ba-1190aea4057c_target.jpg (deflated 0%)\n",
      "  adding: submit/665246c2-e72b-4333-9ed0-fb35892375f8_target.jpg (deflated 1%)\n",
      "  adding: submit/4a771fa4-aa20-42f4-8772-5213064b1958_target.jpg (deflated 1%)\n",
      "  adding: submit/76fdeed3-9193-4c07-b116-f80a0ecd2742_target.jpg (deflated 1%)\n",
      "  adding: submit/9711b477-f8d4-47dd-b3a9-7b581943f58e_target.jpg (deflated 0%)\n",
      "  adding: submit/60c02462-aabb-40b3-bb98-9cd28b0520a8_target.jpg (deflated 1%)\n",
      "  adding: submit/f09dcf09-a914-40c5-8607-f581df427ce6_target.jpg (deflated 0%)\n",
      "  adding: submit/c9757941-184f-4ed8-bb95-f443f056003d_target.jpg (deflated 0%)\n",
      "  adding: submit/3b652577-f4dd-4898-a05d-58acb19f528b_target.jpg (deflated 0%)\n",
      "  adding: submit/94b99ea5-84fc-4a09-b65f-b65d249922e6_target.jpg (deflated 1%)\n",
      "  adding: submit/776ad2f1-10d7-4ea8-aefb-1ddb9e57fe0a_target.jpg (deflated 0%)\n",
      "  adding: submit/99a6ec79-1d1a-4f99-9aa6-7c27492b275b_target.jpg (deflated 0%)\n",
      "  adding: submit/58494ff7-7363-4cf3-a08c-5cce0e63d1d1_target.jpg (deflated 0%)\n",
      "  adding: submit/20726221-27e9-4bfa-a783-e9b7712bfc6f_target.jpg (deflated 0%)\n",
      "  adding: submit/e36bf647-81d8-41e8-bde9-16a189b63260_target.jpg (deflated 0%)\n",
      "  adding: submit/67aa67fa-72b9-42d1-a9a0-3934abb4a2b3_target.jpg (deflated 0%)\n",
      "  adding: submit/16138766-37a6-4c25-b94e-6777edfac68c_target.jpg (deflated 0%)\n",
      "  adding: submit/4e03a58f-cb52-4951-ba3c-6a779e9ac0c9_target.jpg (deflated 0%)\n",
      "  adding: submit/51c41ea4-642c-45ed-9ad0-5e951102e825_target.jpg (deflated 0%)\n",
      "  adding: submit/789574a1-7df4-4793-bfc3-85a2aeb53809_target.jpg (deflated 0%)\n",
      "  adding: submit/fccd40c4-a903-475e-95dc-a5d660615593_target.jpg (deflated 0%)\n",
      "  adding: submit/6f0394c5-526f-46c0-8ab9-cba909285c76_target.jpg (deflated 0%)\n",
      "  adding: submit/faadad82-c41e-4ebc-894e-3cffce701e7c_target.jpg (deflated 0%)\n",
      "  adding: submit/55e69322-e84b-497c-a780-81fd05f99d17_target.jpg (deflated 1%)\n",
      "  adding: submit/440ffadb-6645-49b2-90f8-28a6b29c4404_target.jpg (deflated 0%)\n",
      "  adding: submit/73a3e0cb-23b5-4cb3-b652-290175e7189f_target.jpg (deflated 0%)\n",
      "  adding: submit/49b9e4a3-e8a5-410d-8c8f-de8e6d464b31_target.jpg (deflated 1%)\n",
      "  adding: submit/12f82ddc-b0c5-4929-807b-be37637e50e6_target.jpg (deflated 0%)\n",
      "  adding: submit/a516d4ac-d1a5-4eec-ad1c-2d0660b2565f_target.jpg (deflated 0%)\n",
      "  adding: submit/c1c30fd5-b770-4e60-8bcf-3105af53239c_target.jpg (deflated 0%)\n",
      "  adding: submit/0324366b-4a22-4607-9d4a-d13c156d2de1_target.jpg (deflated 0%)\n",
      "  adding: submit/8a28d68f-e642-48bb-bc4e-cf62aade361f_target.jpg (deflated 1%)\n",
      "  adding: submit/e587afaa-32b4-4f43-b266-42d2bb5d59c0_target.jpg (deflated 0%)\n",
      "  adding: submit/9e99aa31-e5dc-42a0-bc33-1c03c4c84e2a_target.jpg (deflated 1%)\n",
      "  adding: submit/629bcff7-38f1-49ab-ac92-73a2dc40bbb5_target.jpg (deflated 0%)\n",
      "  adding: submit/c3b5659c-7fc2-487a-b342-e006f977ed41_target.jpg (deflated 0%)\n",
      "  adding: submit/415899b8-a00a-4fb6-a68a-31b46c78bcdd_target.jpg (deflated 0%)\n",
      "  adding: submit/a564c14c-541e-4746-841a-b0bae5477f21_target.jpg (deflated 1%)\n",
      "  adding: submit/0fb83d10-43ae-4f73-8724-1d25374579fa_target.jpg (deflated 1%)\n",
      "  adding: submit/3521a4f5-b71c-4a76-8c0d-ec5588b4918e_target.jpg (deflated 1%)\n",
      "  adding: submit/3058804c-0c96-4ba0-b958-f0dd17525ccb_target.jpg (deflated 0%)\n",
      "  adding: submit/d4a14621-026e-4f33-a7b5-b43d1aed4c8c_target.jpg (deflated 0%)\n",
      "  adding: submit/6be73471-c21d-4792-b555-556e7f9a5653_target.jpg (deflated 1%)\n",
      "  adding: submit/378dc9e4-5b55-4f17-954a-b7618018769b_target.jpg (deflated 0%)\n",
      "  adding: submit/7112e0d5-853a-4689-b71e-209abc7898c5_target.jpg (deflated 1%)\n",
      "  adding: submit/daecd78b-c572-45ec-85bf-024f925a7626_target.jpg (deflated 1%)\n",
      "  adding: submit/b2e551c5-fbdf-437c-a4d9-0534843b6899_target.jpg (deflated 0%)\n",
      "  adding: submit/5bd761d4-99cc-4ff5-b8d1-857d430be0fe_target.jpg (deflated 0%)\n",
      "  adding: submit/c5156ede-c149-411a-836d-a4edccddf76c_target.jpg (deflated 0%)\n",
      "  adding: submit/d5713431-381d-4f63-a030-65f4002a7259_target.jpg (deflated 0%)\n",
      "  adding: submit/3b2def73-e6a0-4a13-b32e-77c8d711ca51_target.jpg (deflated 0%)\n",
      "  adding: submit/23f50b3c-a254-45e8-83c8-c690cee1f702_target.jpg (deflated 0%)\n",
      "  adding: submit/aa53e8ae-03a4-444d-a935-be4866a52632_target.jpg (deflated 0%)\n",
      "  adding: submit/600a1990-a016-4798-94ed-4b867b967d04_target.jpg (deflated 0%)\n",
      "  adding: submit/cb700fc4-c9f9-482a-b9bb-0f96e4ebe324_target.jpg (deflated 1%)\n",
      "  adding: submit/047a63a0-19cd-4d73-b1d4-7bc721c4fb1e_target.jpg (deflated 0%)\n",
      "  adding: submit/aa000ddf-2fe2-4910-9324-477a0bcb94ba_target.jpg (deflated 1%)\n",
      "  adding: submit/7ac1f460-528f-445c-b9f9-02324fa31b1b_target.jpg (deflated 0%)\n",
      "  adding: submit/901464e5-22de-43ae-baf8-81a355b04798_target.jpg (deflated 0%)\n",
      "  adding: submit/27bd0075-a610-4379-95fe-171fbd15fe86_target.jpg (deflated 0%)\n",
      "  adding: submit/984c7fb7-4dcd-4867-8bee-8e5d915072bf_target.jpg (deflated 0%)\n",
      "  adding: submit/d9ac9879-333b-4c0f-b03e-3c806e103b79_target.jpg (deflated 0%)\n",
      "  adding: submit/79961a81-b91b-4144-9050-bc526aa75236_target.jpg (deflated 0%)\n",
      "  adding: submit/c85f8ec1-c558-4e49-a249-0c30a63a20d9_target.jpg (deflated 0%)\n",
      "  adding: submit/08c2a002-fa62-4188-ac05-f076bb298337_target.jpg (deflated 0%)\n",
      "  adding: submit/52fcbc0e-6a95-4ead-9056-2926917b8bc2_target.jpg (deflated 0%)\n",
      "  adding: submit/1b7eb653-ebaf-4afd-a3ee-36ecadbde6ba_target.jpg (deflated 0%)\n",
      "  adding: submit/432954be-b984-4f18-9db5-392064b9564b_target.jpg (deflated 0%)\n",
      "  adding: submit/8ccd1056-3af3-40ee-8811-694129d1cfd2_target.jpg (deflated 1%)\n",
      "  adding: submit/50dfe5bc-cee4-4c64-ae97-c5d0b54bfdd9_target.jpg (deflated 0%)\n",
      "  adding: submit/7f4c39ea-c06a-4dc4-9b9b-8adcb926cd93_target.jpg (deflated 0%)\n",
      "  adding: submit/b083f9ef-7038-425c-ae9b-6673df509949_target.jpg (deflated 0%)\n",
      "  adding: submit/51110d46-a176-4b72-b88e-bc90b39068fe_target.jpg (deflated 0%)\n",
      "  adding: submit/45ab17ce-a658-4445-a287-ce6d81e67be4_target.jpg (deflated 1%)\n",
      "  adding: submit/bf03a22c-8451-43d6-9c2a-c096398b80ff_target.jpg (deflated 0%)\n",
      "  adding: submit/6fd22c95-4d23-4af5-93ec-8b28e8693847_target.jpg (deflated 1%)\n",
      "  adding: submit/0d97d2f4-4af3-4e7f-b932-01e55e906c31_target.jpg (deflated 0%)\n",
      "  adding: submit/e69b1ab3-18a6-4a0f-b729-8f4c6951f60b_target.jpg (deflated 0%)\n",
      "  adding: submit/f5e61dc4-a415-4eb4-a398-3ee0cde4e078_target.jpg (deflated 0%)\n",
      "  adding: submit/9758a301-6f7f-4b51-a89e-bc05d8b0dd2c_target.jpg (deflated 0%)\n",
      "  adding: submit/56fdfba7-84fe-41c1-a6eb-a9fc66c8d3be_target.jpg (deflated 1%)\n",
      "  adding: submit/a7276dfb-f035-444a-a7f3-a1c5ea7a0a3b_target.jpg (deflated 0%)\n",
      "  adding: submit/5f8b46f7-a4c9-4b9c-a6d0-2b54a2bac779_target.jpg (deflated 0%)\n",
      "  adding: submit/43747eb9-7c5f-4aed-8982-1ab0b38c508c_target.jpg (deflated 1%)\n",
      "  adding: submit/e19450a1-9090-47e9-9c18-631ada894122_target.jpg (deflated 1%)\n",
      "  adding: submit/22aa21ac-f423-47e9-bebc-6999c6aac8f8_target.jpg (deflated 0%)\n",
      "  adding: submit/a0ae7cef-cd56-4e2c-8b5f-37dcf5a4ab05_target.jpg (deflated 0%)\n",
      "  adding: submit/1832fab4-7aac-47e3-b008-336eeed7d90a_target.jpg (deflated 1%)\n",
      "  adding: submit/ca051fc0-16c9-49d7-a24d-c8b0bc5c4e39_target.jpg (deflated 0%)\n",
      "  adding: submit/30b2023d-b441-447c-9f19-614377078371_target.jpg (deflated 0%)\n",
      "  adding: submit/4b931f00-b0ba-492c-8742-37727bb72e35_target.jpg (deflated 0%)\n",
      "  adding: submit/40ef32e0-1e2b-402c-b087-84433268234b_target.jpg (deflated 0%)\n",
      "  adding: submit/6d143846-21b5-40eb-902d-4b7930070833_target.jpg (deflated 1%)\n",
      "  adding: submit/f7b6fa3a-4d99-4f4a-91ce-3894c1ffacf8_target.jpg (deflated 0%)\n",
      "  adding: submit/c9efcd20-079c-419f-9243-3675b11a9560_target.jpg (deflated 0%)\n",
      "  adding: submit/8ee4aecc-3391-45e0-b2b7-867c35f7860f_target.jpg (deflated 1%)\n",
      "  adding: submit/24e78648-f70a-48ba-b5dd-f93a9d01276f_target.jpg (deflated 1%)\n",
      "  adding: submit/d3f7a17e-410b-474a-9413-ca029db7939a_target.jpg (deflated 1%)\n",
      "  adding: submit/4e4027a9-789e-455d-bc55-fec0f4bcef9a_target.jpg (deflated 1%)\n",
      "  adding: submit/b1c82866-b26b-4919-96b2-81130d736158_target.jpg (deflated 0%)\n",
      "  adding: submit/67e2467e-6986-4b45-8c71-93db966d8983_target.jpg (deflated 0%)\n",
      "  adding: submit/7477449b-850d-4a28-820a-79bf0605dcfe_target.jpg (deflated 0%)\n",
      "  adding: submit/23996514-f1de-4680-ac3f-80021ee10f86_target.jpg (deflated 0%)\n",
      "  adding: submit/401b465a-5801-4fa6-ab1b-c7ed863794c0_target.jpg (deflated 0%)\n",
      "  adding: submit/394e71db-4505-401a-8d0c-0bee39dd5918_target.jpg (deflated 0%)\n",
      "  adding: submit/d0895916-913c-4f6c-81ca-6a4be4986699_target.jpg (deflated 0%)\n",
      "  adding: submit/f2aa04f7-6ab5-4823-afa0-ff6631362966_target.jpg (deflated 0%)\n",
      "  adding: submit/bc14637c-c9b8-4303-819e-e6882722107f_target.jpg (deflated 0%)\n",
      "  adding: submit/14c04280-331d-431b-b787-141801c06433_target.jpg (deflated 0%)\n",
      "  adding: submit/05cc9360-26d5-4d37-91a4-2ee5c03eadac_target.jpg (deflated 0%)\n",
      "  adding: submit/0ecf748c-ea91-42bc-8b64-215bcba0c6d3_target.jpg (deflated 1%)\n",
      "  adding: submit/c7625eba-04bb-4994-ba57-a873af697655_target.jpg (deflated 0%)\n",
      "  adding: submit/934a1807-3ec2-4557-ba31-5582d1cad689_target.jpg (deflated 1%)\n",
      "  adding: submit/50562b19-b584-4a75-8533-f66481b55993_target.jpg (deflated 1%)\n",
      "  adding: submit/d64ca4a0-6b71-4f7e-9e00-e0ee0b0f7e99_target.jpg (deflated 0%)\n",
      "  adding: submit/e379dc70-40eb-4572-97dd-a7d51c81f489_target.jpg (deflated 1%)\n",
      "  adding: submit/9fbbb055-45c0-4563-8708-c1d4fe45d10c_target.jpg (deflated 0%)\n",
      "  adding: submit/26016341-0edd-498c-a3d4-e1d1beec907d_target.jpg (deflated 0%)\n",
      "  adding: submit/d3e7c06d-0b07-424e-81a5-803198a0237c_target.jpg (deflated 0%)\n",
      "  adding: submit/65308ec1-4aaa-4348-9307-5db453fead5c_target.jpg (deflated 0%)\n",
      "  adding: submit/2f1d2d01-a08f-4ba6-ba55-a895216598e1_target.jpg (deflated 0%)\n",
      "  adding: submit/a11b528a-73eb-42c9-ab03-6b0a5517f9c4_target.jpg (deflated 0%)\n",
      "  adding: submit/c5ec407d-68f3-4367-b878-aca0903996d1_target.jpg (deflated 0%)\n",
      "  adding: submit/c0a11e39-ad1c-4e4c-9de4-02c8aa7e3c17_target.jpg (deflated 0%)\n",
      "  adding: submit/63de367d-a5b3-4b73-8b40-6b59ab201aed_target.jpg (deflated 0%)\n",
      "  adding: submit/96d03b20-137b-4451-b178-96ac1d879396_target.jpg (deflated 1%)\n",
      "  adding: submit/cabbcc71-b42c-45c4-b5e3-c2b4a2bf159b_target.jpg (deflated 0%)\n",
      "  adding: submit/d91d2399-9f96-4b3f-9048-9febea9c639b_target.jpg (deflated 0%)\n",
      "  adding: submit/b370fa30-a73c-4da5-9edb-5abe9689a3c6_target.jpg (deflated 0%)\n",
      "  adding: submit/1f7739e2-ae7a-4412-91cb-fecf1a18f38e_target.jpg (deflated 1%)\n",
      "  adding: submit/f8f18d06-671b-44bb-aa53-8a6969682463_target.jpg (deflated 0%)\n",
      "  adding: submit/2cae889a-a95f-4305-a20e-9d0844a63015_target.jpg (deflated 0%)\n",
      "  adding: submit/6a9f4633-8e0f-4746-a92f-f08ea53da642_target.jpg (deflated 0%)\n",
      "  adding: submit/8b7c84c8-3d0b-4bb5-97e4-d1d1d4386c72_target.jpg (deflated 0%)\n",
      "  adding: submit/5685e82f-3d9e-49cb-b8e5-5fa9e7246263_target.jpg (deflated 0%)\n",
      "  adding: submit/221cd67a-2c86-4dd4-853b-e9d195ae50b8_target.jpg (deflated 1%)\n",
      "  adding: submit/ecc0014c-cd5a-43f8-8caf-d9f4bca72881_target.jpg (deflated 0%)\n",
      "  adding: submit/8b17cd3d-8c8e-445f-94f0-013f5f4bf67b_target.jpg (deflated 0%)\n",
      "  adding: submit/b84a8888-bbd7-4994-94eb-050a89c1378c_target.jpg (deflated 0%)\n",
      "  adding: submit/4a4e6370-3f3f-470c-821b-84c227a6d601_target.jpg (deflated 1%)\n",
      "  adding: submit/78682411-fa01-4369-99df-18b6fd6d8107_target.jpg (deflated 0%)\n",
      "  adding: submit/fdc870d4-b117-4a1e-b160-b03e3a87220d_target.jpg (deflated 0%)\n",
      "  adding: submit/df24a045-9fe6-4a09-afc4-f7d740356453_target.jpg (deflated 0%)\n",
      "  adding: submit/f7881979-235d-462e-ae69-5ef3ec2f1eec_target.jpg (deflated 0%)\n",
      "  adding: submit/b646371f-d265-4851-8e87-f1317be0ec28_target.jpg (deflated 0%)\n",
      "  adding: submit/0ae61600-0ae4-4d31-b16e-9298cb22889e_target.jpg (deflated 0%)\n",
      "  adding: submit/3b0f0cdc-5097-41fa-ad97-c192cf32a77f_target.jpg (deflated 0%)\n",
      "  adding: submit/67dba706-b4af-4e3c-9749-bd34a0d85bcb_target.jpg (deflated 1%)\n",
      "  adding: submit/c0f71b09-4dbd-4f1a-9ce3-6aacd506ea2e_target.jpg (deflated 0%)\n",
      "  adding: submit/7a476866-e4c6-4ab2-b70c-e438da3d1a98_target.jpg (deflated 0%)\n",
      "  adding: submit/801d9fea-f54f-44e3-922f-2c56ba4b0bad_target.jpg (deflated 0%)\n",
      "  adding: submit/5c703170-8aa5-4130-8440-49c37d273852_target.jpg (deflated 0%)\n",
      "  adding: submit/114dc0ab-f571-49ac-bbe3-03af738e5313_target.jpg (deflated 1%)\n",
      "  adding: submit/27c4fb87-6420-449f-8575-ae9c7721e9eb_target.jpg (deflated 0%)\n",
      "  adding: submit/715f1e6d-85b3-4da6-b345-91ede1fffdb3_target.jpg (deflated 0%)\n",
      "  adding: submit/c5b9a263-bf30-44b0-8e8c-3da2f37d9a86_target.jpg (deflated 0%)\n",
      "  adding: submit/7b842876-ef28-4581-9be3-b7e63371d8c8_target.jpg (deflated 0%)\n",
      "  adding: submit/6ce03755-af16-4285-8b06-e034ed754a79_target.jpg (deflated 0%)\n",
      "  adding: submit/a39cc952-df4b-458a-ab1f-dbcba3df1b34_target.jpg (deflated 0%)\n",
      "  adding: submit/0b2081cd-c54d-4f70-9fc5-4864af2cbf52_target.jpg (deflated 0%)\n",
      "  adding: submit/f3cdc7db-213b-4438-a7a2-f0d0a9a7c56c_target.jpg (deflated 1%)\n",
      "  adding: submit/52b7c3fc-2fec-40e7-9b99-cc357c4045e7_target.jpg (deflated 0%)\n",
      "  adding: submit/31311e86-ab00-488a-b42e-d380b0b15f25_target.jpg (deflated 1%)\n",
      "  adding: submit/f9137da8-35b0-455f-bbe1-55d44f869ccf_target.jpg (deflated 1%)\n",
      "  adding: submit/c63d2f63-1679-42ec-93d1-17ebab4776c7_target.jpg (deflated 0%)\n",
      "  adding: submit/eb5e081e-7fab-4a9a-b06f-7ca9c6fe2a7f_target.jpg (deflated 0%)\n",
      "  adding: submit/77c5aa38-e40c-4ade-ae9c-0cd9549b4cd0_target.jpg (deflated 0%)\n",
      "  adding: submit/431c8d01-a815-4653-98c0-13e94234fbb4_target.jpg (deflated 0%)\n",
      "  adding: submit/72313004-78c2-4540-8490-b958a148a0ec_target.jpg (deflated 0%)\n",
      "  adding: submit/c3c7654d-324c-4359-b395-adfd34c57ef6_target.jpg (deflated 0%)\n",
      "  adding: submit/185933dc-c193-4986-93b6-329032dd71f2_target.jpg (deflated 0%)\n",
      "  adding: submit/cb02f1c3-2e70-4689-b9cc-4923af33eda9_target.jpg (deflated 0%)\n",
      "  adding: submit/378cba57-5930-4ec4-a3b5-f33889041fa5_target.jpg (deflated 0%)\n",
      "  adding: submit/a82c3826-677b-49a9-acd7-8263db731365_target.jpg (deflated 0%)\n",
      "  adding: submit/95396bfa-72d2-4634-8278-89487b4a84ef_target.jpg (deflated 0%)\n",
      "  adding: submit/5960f459-52d2-483b-ac61-c2dffdcdf8ef_target.jpg (deflated 0%)\n",
      "  adding: submit/034ff190-5fa4-4be8-b2f7-57331816037d_target.jpg (deflated 0%)\n",
      "  adding: submit/bc81c11b-0c70-47a0-9a29-ea07182df6ab_target.jpg (deflated 0%)\n",
      "  adding: submit/e7a4d282-65c2-4320-90b5-be4e4718ef8d_target.jpg (deflated 0%)\n",
      "  adding: submit/10beb71d-d246-41d0-aa68-35a23c23dd1f_target.jpg (deflated 1%)\n",
      "  adding: submit/6c56b901-7d06-4a22-9ab7-ca8b8754bef4_target.jpg (deflated 0%)\n",
      "  adding: submit/0b8e8bc0-de79-4fba-8245-9b85d54913cb_target.jpg (deflated 0%)\n",
      "  adding: submit/097f2c0b-50ac-4aa1-a0d8-9969ab0f8941_target.jpg (deflated 0%)\n",
      "  adding: submit/4ca34784-ff99-4832-8f58-0bb7b9384b3d_target.jpg (deflated 0%)\n",
      "  adding: submit/8f93a645-5041-40d1-a9c2-e667187eb5f3_target.jpg (deflated 0%)\n",
      "  adding: submit/99768bcc-1d8e-4d32-8841-a9540705978c_target.jpg (deflated 0%)\n",
      "  adding: submit/87074c59-e07a-4446-917b-e177658774ee_target.jpg (deflated 1%)\n",
      "  adding: submit/68894bbd-8ffd-4790-90e5-970cdaf9c2d4_target.jpg (deflated 0%)\n",
      "  adding: submit/be8ee2e7-09a0-4433-8e02-47004215ca66_target.jpg (deflated 0%)\n",
      "  adding: submit/af9814ab-19c8-4b70-b417-b3333c48997f_target.jpg (deflated 0%)\n",
      "  adding: submit/cebe596f-e55b-45e9-bfba-2b803af3713c_target.jpg (deflated 0%)\n",
      "  adding: submit/83c82c90-b2db-4a94-abff-9140d99ea965_target.jpg (deflated 0%)\n",
      "  adding: submit/77c9ab2c-a556-4e4b-8e92-a99dd4b5f471_target.jpg (deflated 0%)\n",
      "  adding: submit/5433ca06-eda5-41ae-a860-eb16ff074557_target.jpg (deflated 0%)\n",
      "  adding: submit/7d729edb-9732-4433-a982-57f7c2e63627_target.jpg (deflated 0%)\n",
      "  adding: submit/c92012aa-6285-4678-9536-7646388805fd_target.jpg (deflated 0%)\n",
      "  adding: submit/cfa82007-870c-45b1-a82c-c69e54ffe054_target.jpg (deflated 0%)\n",
      "  adding: submit/9cdfae08-4990-4f74-bdb2-f4b04a9c0e1b_target.jpg (deflated 0%)\n",
      "  adding: submit/d90526ec-f522-4470-9bdd-abb83976097b_target.jpg (deflated 0%)\n",
      "  adding: submit/c3adc9d1-3adf-47e4-8881-0624f471112a_target.jpg (deflated 1%)\n",
      "  adding: submit/fd628e91-99e5-4e16-b36c-014abd45eb02_target.jpg (deflated 0%)\n",
      "  adding: submit/5c8b03c0-fd00-49fc-bc7b-e0bee5f8616a_target.jpg (deflated 0%)\n",
      "  adding: submit/5d808987-eddf-48b0-b2eb-ddce5e2c31d0_target.jpg (deflated 0%)\n",
      "  adding: submit/02fef49d-6bfd-4d65-90a5-d54c7e089135_target.jpg (deflated 0%)\n",
      "  adding: submit/0b632ede-ce9a-49c5-bf06-13cc31530aa3_target.jpg (deflated 1%)\n",
      "  adding: submit/71787594-bd16-4bab-b70d-16601672ef10_target.jpg (deflated 0%)\n",
      "  adding: submit/d4711a1a-951a-4938-a1a5-a036bb190a4b_target.jpg (deflated 0%)\n",
      "  adding: submit/bbe445f5-ff3b-440e-a1f8-0c101df5a095_target.jpg (deflated 0%)\n",
      "  adding: submit/f5f34545-d674-4afc-9138-0d436fd25ed9_target.jpg (deflated 1%)\n",
      "  adding: submit/f330560d-ebc5-40f7-a379-e69c4c9e3804_target.jpg (deflated 0%)\n",
      "  adding: submit/1ea7f7c0-1676-4f06-93b2-99b2a3d21e7c_target.jpg (deflated 0%)\n",
      "  adding: submit/248339f8-1a37-4e7c-af56-f9f2a4dfa419_target.jpg (deflated 0%)\n",
      "  adding: submit/5ac6c5ef-40b1-4b4b-b5bd-c0eccd29ba6a_target.jpg (deflated 0%)\n",
      "  adding: submit/315dc772-dd1b-4542-a56b-3ce83e1752f6_target.jpg (deflated 0%)\n",
      "  adding: submit/d5abaa23-d17a-4325-aa0b-4f84d4576c92_target.jpg (deflated 0%)\n",
      "  adding: submit/61dd6904-0502-465b-bd8f-bc16b9039a2e_target.jpg (deflated 0%)\n",
      "  adding: submit/332c786b-1d63-4778-b243-36cbf5bc4709_target.jpg (deflated 0%)\n",
      "  adding: submit/9de99c22-fba0-4452-9a81-32c073e56723_target.jpg (deflated 0%)\n",
      "  adding: submit/660aaafc-0507-49ec-8cbb-be1febe8b227_target.jpg (deflated 1%)\n",
      "  adding: submit/31976024-79b7-4ff3-9119-d384a54c3ce8_target.jpg (deflated 0%)\n",
      "  adding: submit/d46b00ce-783b-40d2-9cfe-86ea548d389b_target.jpg (deflated 0%)\n",
      "  adding: submit/2839d4ff-c9d5-4550-b484-fb9b243bbfc1_target.jpg (deflated 0%)\n",
      "  adding: submit/bcde2a97-af84-492d-99c3-eeaca4f2ad6d_target.jpg (deflated 0%)\n",
      "  adding: submit/bee0397d-3f01-44c4-83b8-51764b3296c4_target.jpg (deflated 0%)\n",
      "  adding: submit/8c66ab75-b326-425e-ad5b-4f776657f3d5_target.jpg (deflated 0%)\n",
      "  adding: submit/18371235-885b-4d31-93a7-a02616d08140_target.jpg (deflated 0%)\n",
      "  adding: submit/e6340bb4-a2ef-481a-9127-d062f77db35c_target.jpg (deflated 0%)\n",
      "  adding: submit/4febb95b-dd2b-4f9e-bd92-a9ee0e898f6c_target.jpg (deflated 0%)\n",
      "  adding: submit/44b2739e-cef8-4e98-9275-15100ea62a82_target.jpg (deflated 0%)\n",
      "  adding: submit/c17e2fd3-27f6-4744-8ca5-089ec5b5b506_target.jpg (deflated 0%)\n",
      "  adding: submit/62a9ddde-b5ab-41fd-9f23-27240eee24b8_target.jpg (deflated 0%)\n",
      "  adding: submit/2ba9160c-c183-408f-8d68-caeabaf741ab_target.jpg (deflated 0%)\n",
      "  adding: submit/47a3ab4c-0005-4015-92bf-9e5a03807ee0_target.jpg (deflated 0%)\n",
      "  adding: submit/fdc2ad18-58e1-4e87-8853-22e991b7cc9d_target.jpg (deflated 0%)\n",
      "  adding: submit/ddf088fb-a142-43b0-bda0-b1f2dad1de41_target.jpg (deflated 0%)\n",
      "  adding: submit/77a83fcc-1f95-4afc-81cf-96d68bc9b737_target.jpg (deflated 0%)\n",
      "  adding: submit/bd34aae4-c462-4c66-b824-2a41011925ef_target.jpg (deflated 1%)\n",
      "  adding: submit/5014e87a-36ca-426e-b342-7a2181d0c616_target.jpg (deflated 1%)\n",
      "  adding: submit/a8a4c466-dd9b-4fac-aa80-91da45a952d7_target.jpg (deflated 0%)\n",
      "  adding: submit/b970c8f7-2b27-432e-8a46-6da354cac283_target.jpg (deflated 0%)\n",
      "  adding: submit/59884c3a-2c61-44ef-9313-36d91732a2e5_target.jpg (deflated 0%)\n",
      "  adding: submit/4e7c485f-6c32-4ec8-8cdd-7ec4c1c844a3_target.jpg (deflated 0%)\n",
      "  adding: submit/f7548689-7341-4256-9739-fe961dd96b5f_target.jpg (deflated 1%)\n",
      "  adding: submit/9328d667-32c5-4d44-a1b3-0eee1ff03a27_target.jpg (deflated 0%)\n",
      "  adding: submit/3da79f9c-f201-42b2-a4ee-4d7ca24b7adf_target.jpg (deflated 1%)\n",
      "  adding: submit/68e2a8ae-2251-463a-9062-6d34fa378870_target.jpg (deflated 0%)\n",
      "  adding: submit/922fa083-7b0c-43a9-8f6e-599dd760826d_target.jpg (deflated 0%)\n",
      "  adding: submit/3e949f92-269e-442c-96c0-ba56da2926d1_target.jpg (deflated 0%)\n",
      "  adding: submit/4ab6e5cb-128b-4af8-9570-a3cac7d92db0_target.jpg (deflated 1%)\n",
      "  adding: submit/eed5beb8-8e0e-4fa8-858d-af646fbb58e1_target.jpg (deflated 0%)\n",
      "  adding: submit/7473a6c4-6df7-4549-929c-b46247b3332c_target.jpg (deflated 1%)\n",
      "  adding: submit/d93a052b-9772-42e7-b83a-0df42ec34ee8_target.jpg (deflated 0%)\n",
      "  adding: submit/2ae9d92b-f5e1-45b7-9234-14efebf20b2c_target.jpg (deflated 1%)\n",
      "  adding: submit/d83d2858-8597-447b-9fb8-0649cd535d28_target.jpg (deflated 1%)\n",
      "  adding: submit/02356856-837c-4886-9543-dc5cfdf6d2fa_target.jpg (deflated 0%)\n",
      "  adding: submit/30d56d21-ee1d-44b1-9ffe-a17d02e1d29f_target.jpg (deflated 0%)\n",
      "  adding: submit/6d834fb5-f8ca-495b-b94a-f9a4edb8da29_target.jpg (deflated 1%)\n",
      "  adding: submit/1089abac-0e03-42eb-9706-8f914bdbe5fd_target.jpg (deflated 1%)\n",
      "  adding: submit/4ca4a08f-e742-4517-a0d6-9354a04edb7e_target.jpg (deflated 0%)\n",
      "  adding: submit/9ff96835-2a7f-47f3-a8d5-396916abb61d_target.jpg (deflated 0%)\n",
      "  adding: submit/7f82e540-8482-4bd3-b74a-5b29aa0c1caf_target.jpg (deflated 0%)\n",
      "  adding: submit/c1925eb9-a948-45e1-814d-789e7e97598a_target.jpg (deflated 0%)\n",
      "  adding: submit/1a50c5ff-2ff2-44b9-bc5e-7963a8bb4288_target.jpg (deflated 0%)\n",
      "  adding: submit/26b4dc55-b314-474d-9ac4-ca8502977b09_target.jpg (deflated 0%)\n",
      "  adding: submit/a4bbbf6a-424e-4f6e-90c0-d4b056237af2_target.jpg (deflated 1%)\n",
      "  adding: submit/08efd726-0c98-4017-a964-439ea2955d43_target.jpg (deflated 0%)\n",
      "  adding: submit/74350019-1feb-439f-813f-b1266e3b9445_target.jpg (deflated 0%)\n",
      "  adding: submit/73d94097-9191-4bbf-998f-6a9e863f14dc_target.jpg (deflated 0%)\n",
      "  adding: submit/9ac0dc8c-cf61-4155-8a0d-fefb2b07a389_target.jpg (deflated 0%)\n",
      "  adding: submit/6d52458d-ee8e-4fb6-8b55-1ddb8dc4fa10_target.jpg (deflated 0%)\n",
      "  adding: submit/2cb70c0f-fa87-40ac-9876-f348164530eb_target.jpg (deflated 0%)\n",
      "  adding: submit/b938e46d-769e-4a81-ba06-2ad57c75f00a_target.jpg (deflated 1%)\n",
      "  adding: submit/fd6d6977-ac55-4822-9595-7c3d24ffaa36_target.jpg (deflated 0%)\n",
      "  adding: submit/bbeef421-151e-4540-b537-3f8a1822e1ad_target.jpg (deflated 0%)\n",
      "  adding: submit/45a205e8-b529-45d0-b148-09bffa708682_target.jpg (deflated 1%)\n",
      "  adding: submit/11facabc-f188-4274-90a6-fef14dd1a582_target.jpg (deflated 0%)\n"
     ]
    }
   ],
   "source": [
    "!zip -r submit-eff-50.zip submit"
   ]
  },
  {
   "cell_type": "code",
   "execution_count": null,
   "id": "2e3c4c5e-2c0d-4618-a23d-d728fdde7e69",
   "metadata": {},
   "outputs": [],
   "source": []
  }
 ],
 "metadata": {
  "kernelspec": {
   "display_name": "mage",
   "language": "python",
   "name": "python3"
  },
  "language_info": {
   "codemirror_mode": {
    "name": "ipython",
    "version": 3
   },
   "file_extension": ".py",
   "mimetype": "text/x-python",
   "name": "python",
   "nbconvert_exporter": "python",
   "pygments_lexer": "ipython3",
   "version": "3.9.19"
  }
 },
 "nbformat": 4,
 "nbformat_minor": 5
}
